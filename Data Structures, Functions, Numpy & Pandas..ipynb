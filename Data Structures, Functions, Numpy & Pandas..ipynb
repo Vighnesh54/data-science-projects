{
 "cells": [
  {
   "cell_type": "markdown",
   "id": "0f0db820-4256-4b93-a50f-d723deab1a7f",
   "metadata": {},
   "source": [
    "#### 1.\tCreate a list of 5 integers. Perform and print the result of the following operations: append, extend, insert, remove, pop, clear, index, count, sort, and reverse."
   ]
  },
  {
   "cell_type": "code",
   "execution_count": 67,
   "id": "be262d4b-ac7d-4120-89c6-de37ea3be06d",
   "metadata": {},
   "outputs": [],
   "source": [
    "lst = [20,30,12,34,56]"
   ]
  },
  {
   "cell_type": "code",
   "execution_count": 68,
   "id": "e6b25622-efd5-4368-a62c-e1912a335592",
   "metadata": {},
   "outputs": [],
   "source": [
    "lst.append(49)"
   ]
  },
  {
   "cell_type": "code",
   "execution_count": 69,
   "id": "757bc758-e605-4094-9b34-615bcab970f7",
   "metadata": {},
   "outputs": [
    {
     "data": {
      "text/plain": [
       "[20, 30, 12, 34, 56, 49]"
      ]
     },
     "execution_count": 69,
     "metadata": {},
     "output_type": "execute_result"
    }
   ],
   "source": [
    "lst"
   ]
  },
  {
   "cell_type": "code",
   "execution_count": 70,
   "id": "aecd693e-b172-44c1-a7a9-29d96912b597",
   "metadata": {},
   "outputs": [],
   "source": [
    "lst.extend([10,15,43])"
   ]
  },
  {
   "cell_type": "code",
   "execution_count": 71,
   "id": "1eefabe9-1bd6-4de1-b753-1b65ea420b37",
   "metadata": {},
   "outputs": [
    {
     "data": {
      "text/plain": [
       "[20, 30, 12, 34, 56, 49, 10, 15, 43]"
      ]
     },
     "execution_count": 71,
     "metadata": {},
     "output_type": "execute_result"
    }
   ],
   "source": [
    "lst"
   ]
  },
  {
   "cell_type": "code",
   "execution_count": 72,
   "id": "c7a80ddd-2790-45fb-ab00-28b2c8c32a15",
   "metadata": {},
   "outputs": [],
   "source": [
    "lst.insert(3,12)"
   ]
  },
  {
   "cell_type": "code",
   "execution_count": 73,
   "id": "f803c622-a7c0-40c4-b24a-c34dcb68e6b1",
   "metadata": {},
   "outputs": [
    {
     "data": {
      "text/plain": [
       "[20, 30, 12, 12, 34, 56, 49, 10, 15, 43]"
      ]
     },
     "execution_count": 73,
     "metadata": {},
     "output_type": "execute_result"
    }
   ],
   "source": [
    "lst"
   ]
  },
  {
   "cell_type": "code",
   "execution_count": 74,
   "id": "75772a4b-4df7-443f-8264-be42eec1277a",
   "metadata": {},
   "outputs": [],
   "source": [
    "lst.remove(34)"
   ]
  },
  {
   "cell_type": "code",
   "execution_count": 75,
   "id": "19c37790-a372-48df-b68c-412384d224c1",
   "metadata": {},
   "outputs": [
    {
     "data": {
      "text/plain": [
       "[20, 30, 12, 12, 56, 49, 10, 15, 43]"
      ]
     },
     "execution_count": 75,
     "metadata": {},
     "output_type": "execute_result"
    }
   ],
   "source": [
    "lst"
   ]
  },
  {
   "cell_type": "code",
   "execution_count": 76,
   "id": "d3d5a38d-d73f-495b-80a9-eea5fb06a2ea",
   "metadata": {},
   "outputs": [
    {
     "data": {
      "text/plain": [
       "49"
      ]
     },
     "execution_count": 76,
     "metadata": {},
     "output_type": "execute_result"
    }
   ],
   "source": [
    "lst.pop(5)"
   ]
  },
  {
   "cell_type": "code",
   "execution_count": 77,
   "id": "c0e928fd-de4f-47e6-8166-44110d580eb0",
   "metadata": {},
   "outputs": [],
   "source": [
    "lst.clear()"
   ]
  },
  {
   "cell_type": "code",
   "execution_count": 78,
   "id": "c235d40a-61b6-45f1-9207-bb4c426aaa34",
   "metadata": {},
   "outputs": [
    {
     "data": {
      "text/plain": [
       "[]"
      ]
     },
     "execution_count": 78,
     "metadata": {},
     "output_type": "execute_result"
    }
   ],
   "source": [
    "lst"
   ]
  },
  {
   "cell_type": "code",
   "execution_count": 79,
   "id": "e934bdab-c261-46e1-9279-5d28619a2d60",
   "metadata": {},
   "outputs": [],
   "source": [
    "lst = [20, 30, 12, 12, 34, 56, 49, 10, 15, 43]"
   ]
  },
  {
   "cell_type": "code",
   "execution_count": 80,
   "id": "b1614c44-4b9d-4324-b33d-9a19e42b75cc",
   "metadata": {},
   "outputs": [
    {
     "data": {
      "text/plain": [
       "4"
      ]
     },
     "execution_count": 80,
     "metadata": {},
     "output_type": "execute_result"
    }
   ],
   "source": [
    "lst.index(34)"
   ]
  },
  {
   "cell_type": "code",
   "execution_count": 81,
   "id": "dc673336-33b9-4198-b142-7fe43ab24997",
   "metadata": {},
   "outputs": [
    {
     "data": {
      "text/plain": [
       "2"
      ]
     },
     "execution_count": 81,
     "metadata": {},
     "output_type": "execute_result"
    }
   ],
   "source": [
    "lst.count(12)"
   ]
  },
  {
   "cell_type": "code",
   "execution_count": 82,
   "id": "12aa7ce8-075d-4a6a-b56b-585995801e8c",
   "metadata": {},
   "outputs": [
    {
     "data": {
      "text/plain": [
       "[10, 12, 12, 15, 20, 30, 34, 43, 49, 56]"
      ]
     },
     "execution_count": 82,
     "metadata": {},
     "output_type": "execute_result"
    }
   ],
   "source": [
    "lst.sort()\n",
    "lst"
   ]
  },
  {
   "cell_type": "code",
   "execution_count": 83,
   "id": "3ede0eed-2d71-4395-a82b-b766ff511c42",
   "metadata": {},
   "outputs": [
    {
     "data": {
      "text/plain": [
       "[56, 49, 43, 34, 30, 20, 15, 12, 12, 10]"
      ]
     },
     "execution_count": 83,
     "metadata": {},
     "output_type": "execute_result"
    }
   ],
   "source": [
    "lst.sort(reverse=True)\n",
    "lst"
   ]
  },
  {
   "cell_type": "markdown",
   "id": "624bffc5-2d5b-446c-91d3-2873220f998a",
   "metadata": {},
   "source": [
    "#### 2.\tCreate a tuple that stores 3 student names. Try changing the second name in the tuple. What happens? Explain why."
   ]
  },
  {
   "cell_type": "code",
   "execution_count": 84,
   "id": "dc4649d7-e160-4112-8b61-501d8d554b06",
   "metadata": {},
   "outputs": [],
   "source": [
    "students = ('Muad','Savin','Ajin')"
   ]
  },
  {
   "cell_type": "code",
   "execution_count": 85,
   "id": "825db768-cf9c-4b39-bc27-466be24079e9",
   "metadata": {},
   "outputs": [
    {
     "data": {
      "text/plain": [
       "('Muad', 'Savin', 'Ajin')"
      ]
     },
     "execution_count": 85,
     "metadata": {},
     "output_type": "execute_result"
    }
   ],
   "source": [
    "students"
   ]
  },
  {
   "cell_type": "code",
   "execution_count": 86,
   "id": "6134a04b-ece0-444c-adda-e51f573016c5",
   "metadata": {},
   "outputs": [
    {
     "data": {
      "text/plain": [
       "tuple"
      ]
     },
     "execution_count": 86,
     "metadata": {},
     "output_type": "execute_result"
    }
   ],
   "source": [
    "type(students)"
   ]
  },
  {
   "cell_type": "code",
   "execution_count": 87,
   "id": "517cf3a2-59ff-4fab-8c4d-ec77a58d1f65",
   "metadata": {},
   "outputs": [
    {
     "ename": "TypeError",
     "evalue": "'tuple' object does not support item assignment",
     "output_type": "error",
     "traceback": [
      "\u001b[1;31m---------------------------------------------------------------------------\u001b[0m",
      "\u001b[1;31mTypeError\u001b[0m                                 Traceback (most recent call last)",
      "Cell \u001b[1;32mIn[87], line 1\u001b[0m\n\u001b[1;32m----> 1\u001b[0m students[\u001b[38;5;241m1\u001b[39m] \u001b[38;5;241m=\u001b[39m \u001b[38;5;124m'\u001b[39m\u001b[38;5;124mAmal\u001b[39m\u001b[38;5;124m'\u001b[39m\n",
      "\u001b[1;31mTypeError\u001b[0m: 'tuple' object does not support item assignment"
     ]
    }
   ],
   "source": [
    "students[1] = 'Amal'"
   ]
  },
  {
   "cell_type": "markdown",
   "id": "b04fc0e5-3dae-45c2-b40f-92c7a99141e5",
   "metadata": {},
   "source": [
    "#### Tuples in Python are immutable data structures. once a tuple is created, it cannot be change, add or remove"
   ]
  },
  {
   "cell_type": "markdown",
   "id": "497e8ec0-7027-42cb-a785-e9c828aba0fd",
   "metadata": {},
   "source": [
    "#### 3.\tCreate a set of integers with some duplicate values. Print the set and explain the output"
   ]
  },
  {
   "cell_type": "code",
   "execution_count": 88,
   "id": "8a2dabc3-3eaa-4396-92a7-9d0d5e6689b6",
   "metadata": {},
   "outputs": [
    {
     "data": {
      "text/plain": [
       "{1, 2, 3, 4, 6}"
      ]
     },
     "execution_count": 88,
     "metadata": {},
     "output_type": "execute_result"
    }
   ],
   "source": [
    "lst = [2,4,1,2,3,1,6]\n",
    "l_set = set(lst)\n",
    "l_set"
   ]
  },
  {
   "cell_type": "markdown",
   "id": "c5878155-8506-4382-8f5b-f79688fb6388",
   "metadata": {},
   "source": [
    "#### The lst containing duplicate values (1, 2 appear more than once) is converted into a set, the set automatically eliminates these duplicates, retaining only one instance of each distinct integer"
   ]
  },
  {
   "cell_type": "markdown",
   "id": "ae14451a-2746-4cf7-be91-ab7ae6902de5",
   "metadata": {},
   "source": [
    "#### 4.\tCreate a dictionary with the keys: 'name', 'age', and 'city'. Update the age and add a new key 'email'. Print the final dictionary."
   ]
  },
  {
   "cell_type": "code",
   "execution_count": 90,
   "id": "b19d977b-5f3e-463d-be94-a30d312249fc",
   "metadata": {},
   "outputs": [],
   "source": [
    "d1 = { \n",
    "    'Name' : 'Vighnesh',\n",
    "    'Age' : 22,\n",
    "    'City' : 'Kollam'\n",
    "}"
   ]
  },
  {
   "cell_type": "code",
   "execution_count": 91,
   "id": "cdd7bd03-9bf5-42d0-874a-7d620df22efb",
   "metadata": {},
   "outputs": [
    {
     "data": {
      "text/plain": [
       "{'Name': 'Vighnesh', 'Age': 22, 'City': 'Kollam'}"
      ]
     },
     "execution_count": 91,
     "metadata": {},
     "output_type": "execute_result"
    }
   ],
   "source": [
    "d1"
   ]
  },
  {
   "cell_type": "code",
   "execution_count": 105,
   "id": "87dc9000-41ab-4893-b728-c5d6257002c7",
   "metadata": {},
   "outputs": [],
   "source": [
    "d2 = {\n",
    "    'Age':23,\n",
    "    'Email':'vighneshr2063@gmail.com'\n",
    "}"
   ]
  },
  {
   "cell_type": "code",
   "execution_count": 106,
   "id": "4d031aed-1d57-43f5-874b-cb98f2a373f9",
   "metadata": {},
   "outputs": [],
   "source": [
    "d1.update(d2)"
   ]
  },
  {
   "cell_type": "code",
   "execution_count": 107,
   "id": "b359b2cc-76c4-4d72-ab6d-4aa8fee4d9d5",
   "metadata": {},
   "outputs": [
    {
     "data": {
      "text/plain": [
       "{'Name': 'Vighnesh',\n",
       " 'Age': 23,\n",
       " 'City': 'Kollam',\n",
       " 'Email': 'vighneshr2063@gmail.com'}"
      ]
     },
     "execution_count": 107,
     "metadata": {},
     "output_type": "execute_result"
    }
   ],
   "source": [
    "d1"
   ]
  },
  {
   "cell_type": "markdown",
   "id": "196770ba-48fe-421e-986c-8387c5add9e8",
   "metadata": {},
   "source": [
    "#### 5.\t Write a script that checks if a person is eligible to vote (age ≥ 18). Take age as a variable and print the appropriate message."
   ]
  },
  {
   "cell_type": "code",
   "execution_count": 111,
   "id": "b8b4307b-7f95-4724-a1e4-277025b16cab",
   "metadata": {},
   "outputs": [
    {
     "name": "stdin",
     "output_type": "stream",
     "text": [
      "Please Enter Your Age: 18\n"
     ]
    },
    {
     "name": "stdout",
     "output_type": "stream",
     "text": [
      "You Are Eligible To Vote\n"
     ]
    }
   ],
   "source": [
    "Age = int(input('Please Enter Your Age:'))\n",
    "\n",
    "if Age >= 18:\n",
    "    print('You Are Eligible To Vote')\n",
    "else:\n",
    "    print('Sorry')\n",
    "    print('You Are Not Eligible')"
   ]
  },
  {
   "cell_type": "markdown",
   "id": "2ef6c756-6d84-4649-88a3-274f0a8aad18",
   "metadata": {},
   "source": [
    "#### 6.\tGiven a 'marks' variable, print the grade:\n",
    "- 90 and above: 'A'\n",
    "- 75–89: 'B'\n",
    "- 50–74: 'C'\n",
    "- Below 50: 'Fail'\n"
   ]
  },
  {
   "cell_type": "code",
   "execution_count": 118,
   "id": "6db948a6-5697-4132-8c23-c47490a982d7",
   "metadata": {},
   "outputs": [
    {
     "name": "stdin",
     "output_type": "stream",
     "text": [
      "Enter Your Mark: 49\n"
     ]
    },
    {
     "name": "stdout",
     "output_type": "stream",
     "text": [
      "FAIL\n"
     ]
    }
   ],
   "source": [
    "Mark = int(input('Enter Your Mark:'))\n",
    "\n",
    "if Mark >= 90:\n",
    "    print('A grade')\n",
    "elif Mark >=75 and Mark <90:\n",
    "    print('B grade')\n",
    "elif Mark >=50 and Mark <75:\n",
    "    print('C grade')\n",
    "else:\n",
    "    print('FAIL')"
   ]
  },
  {
   "cell_type": "markdown",
   "id": "58e370d5-3847-460d-996f-c27cfc005c34",
   "metadata": {},
   "source": [
    "#### 7.\tGiven a number, check if it's positive, and if it is also even. If not positive, print if it's zero or negative."
   ]
  },
  {
   "cell_type": "code",
   "execution_count": 122,
   "id": "47957c44-78f3-4fdd-a59a-cc3940f12fb9",
   "metadata": {},
   "outputs": [],
   "source": [
    "def check_number_properties(num):\n",
    "    if num>0:\n",
    "        if num%2 == 0:\n",
    "            print(f'{num} is a postive and a even number')\n",
    "        else:\n",
    "            print(f'{num} is a postive number')\n",
    "    elif num == 0:\n",
    "        print(f'{num} is zero')\n",
    "    else:\n",
    "        print(f'{num} is negative')"
   ]
  },
  {
   "cell_type": "code",
   "execution_count": 123,
   "id": "aea236fd-429b-4646-b94a-452684b1fcd6",
   "metadata": {},
   "outputs": [
    {
     "name": "stdout",
     "output_type": "stream",
     "text": [
      "4 is a postive and a even number\n"
     ]
    }
   ],
   "source": [
    "check_number_properties(4)"
   ]
  },
  {
   "cell_type": "code",
   "execution_count": 124,
   "id": "a21ebce4-dfcf-4423-885b-dd7cae7e8ef9",
   "metadata": {},
   "outputs": [
    {
     "name": "stdout",
     "output_type": "stream",
     "text": [
      "3 is a postive number\n"
     ]
    }
   ],
   "source": [
    "check_number_properties(3)"
   ]
  },
  {
   "cell_type": "code",
   "execution_count": 125,
   "id": "a2aaa223-17e8-463c-b9b6-b479e5f46c0a",
   "metadata": {},
   "outputs": [
    {
     "name": "stdout",
     "output_type": "stream",
     "text": [
      "0 is zero\n"
     ]
    }
   ],
   "source": [
    "check_number_properties(0)"
   ]
  },
  {
   "cell_type": "code",
   "execution_count": 126,
   "id": "7adcd3f5-5cdc-4100-a5ff-932730e660b2",
   "metadata": {},
   "outputs": [
    {
     "name": "stdout",
     "output_type": "stream",
     "text": [
      "-3 is negative\n"
     ]
    }
   ],
   "source": [
    "check_number_properties(-3)"
   ]
  },
  {
   "cell_type": "markdown",
   "id": "f6f2c9c8-d967-4be3-b294-e925e283e799",
   "metadata": {},
   "source": [
    "## Section B: Numpy"
   ]
  },
  {
   "cell_type": "markdown",
   "id": "1d9bea8d-1aae-4c41-ba43-d3c0fb282d50",
   "metadata": {},
   "source": [
    "#### 8.\tCreate:\n",
    "- A scalar using np.array(5)\n",
    "- A 1D array with values 1 to 5\n",
    "- A 2D array (2x3) with values from 10 to 60 in steps of 10\n"
   ]
  },
  {
   "cell_type": "code",
   "execution_count": 140,
   "id": "a37ed1e7-0377-432e-abfa-e7413220407e",
   "metadata": {},
   "outputs": [
    {
     "name": "stdout",
     "output_type": "stream",
     "text": [
      "Scalar: 5\n",
      "Scalar dimension: 0\n",
      "1D Array: [1 2 3 4 5]\n",
      "1D Array dimension: 1\n",
      "2D Array:\n",
      " [[10 20 30]\n",
      " [40 50 60]]\n",
      "2D Array dimension: 2\n"
     ]
    }
   ],
   "source": [
    "import numpy as np\n",
    "\n",
    "scalar = np.array(5)\n",
    "print('Scalar:', scalar)\n",
    "print('Scalar dimension:', scalar.ndim)\n",
    "\n",
    "one_d_array = np.arange(1, 6) \n",
    "print('1D Array:', one_d_array)\n",
    "print('1D Array dimension:', one_d_array.ndim)\n",
    "\n",
    "two_d_array = np.arange(10, 70, 10).reshape(2,3)\n",
    "print('2D Array:\\n', two_d_array)\n",
    "print('2D Array dimension:', two_d_array.ndim)"
   ]
  },
  {
   "cell_type": "markdown",
   "id": "eb418110-e9f5-47f9-a313-08e0240ead7c",
   "metadata": {},
   "source": [
    "#### 9.\tGenerate a 4x4 Numpy array of random integers between 0 and 100 using np.random.randint()."
   ]
  },
  {
   "cell_type": "code",
   "execution_count": 163,
   "id": "9fea6386-a5f0-4381-b989-435b86a107f4",
   "metadata": {},
   "outputs": [
    {
     "data": {
      "text/plain": [
       "array([[34, 75, 72, 38],\n",
       "       [ 8, 79, 36, 93],\n",
       "       [91, 53, 40, 32],\n",
       "       [96, 58, 43, 28]], dtype=int32)"
      ]
     },
     "execution_count": 163,
     "metadata": {},
     "output_type": "execute_result"
    }
   ],
   "source": [
    "import numpy as np\n",
    "randm_array = np.random.randint(0,100,size=(4,4))\n",
    "randm_array"
   ]
  },
  {
   "cell_type": "markdown",
   "id": "7828d44b-8f19-47bb-85d9-04f4f7413a6a",
   "metadata": {},
   "source": [
    "#### 10.\tCreate a 2D numpy array of shape (3x3). Convert it into a pandas DataFrame and add column names: 'A', 'B', 'C'."
   ]
  },
  {
   "cell_type": "code",
   "execution_count": 164,
   "id": "68a927ce-f3e8-4c60-aec1-523c4f73c0f4",
   "metadata": {},
   "outputs": [],
   "source": [
    "import numpy as np\n",
    "import pandas as pd"
   ]
  },
  {
   "cell_type": "code",
   "execution_count": 167,
   "id": "785efdc8-97f5-41c5-8a43-76da5802a73f",
   "metadata": {},
   "outputs": [
    {
     "data": {
      "text/plain": [
       "array([[12, 32, 24],\n",
       "       [13, 43, 45],\n",
       "       [16, 32, 22]])"
      ]
     },
     "execution_count": 167,
     "metadata": {},
     "output_type": "execute_result"
    }
   ],
   "source": [
    "two_d_array = np.array([[12,32,24],[13,43,45],[16,32,22]])\n",
    "two_d_array"
   ]
  },
  {
   "cell_type": "code",
   "execution_count": 168,
   "id": "e5f666f1-81b1-495c-b15b-6c16f1b0cdef",
   "metadata": {},
   "outputs": [
    {
     "data": {
      "text/html": [
       "<div>\n",
       "<style scoped>\n",
       "    .dataframe tbody tr th:only-of-type {\n",
       "        vertical-align: middle;\n",
       "    }\n",
       "\n",
       "    .dataframe tbody tr th {\n",
       "        vertical-align: top;\n",
       "    }\n",
       "\n",
       "    .dataframe thead th {\n",
       "        text-align: right;\n",
       "    }\n",
       "</style>\n",
       "<table border=\"1\" class=\"dataframe\">\n",
       "  <thead>\n",
       "    <tr style=\"text-align: right;\">\n",
       "      <th></th>\n",
       "      <th>A</th>\n",
       "      <th>B</th>\n",
       "      <th>C</th>\n",
       "    </tr>\n",
       "  </thead>\n",
       "  <tbody>\n",
       "    <tr>\n",
       "      <th>0</th>\n",
       "      <td>12</td>\n",
       "      <td>32</td>\n",
       "      <td>24</td>\n",
       "    </tr>\n",
       "    <tr>\n",
       "      <th>1</th>\n",
       "      <td>13</td>\n",
       "      <td>43</td>\n",
       "      <td>45</td>\n",
       "    </tr>\n",
       "    <tr>\n",
       "      <th>2</th>\n",
       "      <td>16</td>\n",
       "      <td>32</td>\n",
       "      <td>22</td>\n",
       "    </tr>\n",
       "  </tbody>\n",
       "</table>\n",
       "</div>"
      ],
      "text/plain": [
       "    A   B   C\n",
       "0  12  32  24\n",
       "1  13  43  45\n",
       "2  16  32  22"
      ]
     },
     "execution_count": 168,
     "metadata": {},
     "output_type": "execute_result"
    }
   ],
   "source": [
    "pd.DataFrame(two_d_array,columns=['A','B','C'])"
   ]
  },
  {
   "cell_type": "markdown",
   "id": "c014a1c3-2fda-4a0f-a8c9-8c8ad9529724",
   "metadata": {},
   "source": [
    "## Section C: Exploring Pandas"
   ]
  },
  {
   "cell_type": "markdown",
   "id": "545ed612-f02b-4189-bf31-1b2b164bb9ee",
   "metadata": {},
   "source": [
    "#### 11.\tCreate a small DataFrame manually with 10 rows and columns: 'Name', 'Age', 'City', and 'Salary'. Then:\n",
    "- Use .info(), .describe()\n",
    "- Select 'Name' and 'City' columns\n",
    "- Drop 'City' column\n",
    "- Fill any missing values in 'Salary' column with the mean\n",
    "- Remove any duplicate rows\n"
   ]
  },
  {
   "cell_type": "code",
   "execution_count": 232,
   "id": "ab0d3b05-e9e9-4ede-8f12-bd44245f6da5",
   "metadata": {},
   "outputs": [],
   "source": [
    "data = [\n",
    "    ['Vighnesh',22,'Kollam',25000],\n",
    "    ['Savin',22,'Kollam',30000],\n",
    "    ['Ajin',23,'TVM',28000],\n",
    "    ['Anzil',24,'Kottayam',25000],\n",
    "    ['Adith',22,'TVM'],\n",
    "    ['Vipin',23,'Kollam',22000],\n",
    "    ['Muad',22,'EKM',23000],\n",
    "    ['Rishad',24,'Kannur',25000],\n",
    "    ['Anzil',24,'Kottayam',25000],\n",
    "    ['Ameen',23,'Kollam',22000]\n",
    "]"
   ]
  },
  {
   "cell_type": "code",
   "execution_count": 233,
   "id": "2b89af9d-27de-4815-a716-503d7c163ac9",
   "metadata": {},
   "outputs": [],
   "source": [
    "col_name = ['Name','Age','City','Salary']"
   ]
  },
  {
   "cell_type": "code",
   "execution_count": 234,
   "id": "0a7af421-d091-421d-ba34-dfe58824a091",
   "metadata": {},
   "outputs": [
    {
     "data": {
      "text/html": [
       "<div>\n",
       "<style scoped>\n",
       "    .dataframe tbody tr th:only-of-type {\n",
       "        vertical-align: middle;\n",
       "    }\n",
       "\n",
       "    .dataframe tbody tr th {\n",
       "        vertical-align: top;\n",
       "    }\n",
       "\n",
       "    .dataframe thead th {\n",
       "        text-align: right;\n",
       "    }\n",
       "</style>\n",
       "<table border=\"1\" class=\"dataframe\">\n",
       "  <thead>\n",
       "    <tr style=\"text-align: right;\">\n",
       "      <th></th>\n",
       "      <th>Name</th>\n",
       "      <th>Age</th>\n",
       "      <th>City</th>\n",
       "      <th>Salary</th>\n",
       "    </tr>\n",
       "  </thead>\n",
       "  <tbody>\n",
       "    <tr>\n",
       "      <th>0</th>\n",
       "      <td>Vighnesh</td>\n",
       "      <td>22</td>\n",
       "      <td>Kollam</td>\n",
       "      <td>25000.0</td>\n",
       "    </tr>\n",
       "    <tr>\n",
       "      <th>1</th>\n",
       "      <td>Savin</td>\n",
       "      <td>22</td>\n",
       "      <td>Kollam</td>\n",
       "      <td>30000.0</td>\n",
       "    </tr>\n",
       "    <tr>\n",
       "      <th>2</th>\n",
       "      <td>Ajin</td>\n",
       "      <td>23</td>\n",
       "      <td>TVM</td>\n",
       "      <td>28000.0</td>\n",
       "    </tr>\n",
       "    <tr>\n",
       "      <th>3</th>\n",
       "      <td>Anzil</td>\n",
       "      <td>24</td>\n",
       "      <td>Kottayam</td>\n",
       "      <td>25000.0</td>\n",
       "    </tr>\n",
       "    <tr>\n",
       "      <th>4</th>\n",
       "      <td>Adith</td>\n",
       "      <td>22</td>\n",
       "      <td>TVM</td>\n",
       "      <td>NaN</td>\n",
       "    </tr>\n",
       "    <tr>\n",
       "      <th>5</th>\n",
       "      <td>Vipin</td>\n",
       "      <td>23</td>\n",
       "      <td>Kollam</td>\n",
       "      <td>22000.0</td>\n",
       "    </tr>\n",
       "    <tr>\n",
       "      <th>6</th>\n",
       "      <td>Muad</td>\n",
       "      <td>22</td>\n",
       "      <td>EKM</td>\n",
       "      <td>23000.0</td>\n",
       "    </tr>\n",
       "    <tr>\n",
       "      <th>7</th>\n",
       "      <td>Rishad</td>\n",
       "      <td>24</td>\n",
       "      <td>Kannur</td>\n",
       "      <td>25000.0</td>\n",
       "    </tr>\n",
       "    <tr>\n",
       "      <th>8</th>\n",
       "      <td>Anzil</td>\n",
       "      <td>24</td>\n",
       "      <td>Kottayam</td>\n",
       "      <td>25000.0</td>\n",
       "    </tr>\n",
       "    <tr>\n",
       "      <th>9</th>\n",
       "      <td>Ameen</td>\n",
       "      <td>23</td>\n",
       "      <td>Kollam</td>\n",
       "      <td>22000.0</td>\n",
       "    </tr>\n",
       "  </tbody>\n",
       "</table>\n",
       "</div>"
      ],
      "text/plain": [
       "       Name  Age      City   Salary\n",
       "0  Vighnesh   22    Kollam  25000.0\n",
       "1     Savin   22    Kollam  30000.0\n",
       "2      Ajin   23       TVM  28000.0\n",
       "3     Anzil   24  Kottayam  25000.0\n",
       "4     Adith   22       TVM      NaN\n",
       "5     Vipin   23    Kollam  22000.0\n",
       "6      Muad   22       EKM  23000.0\n",
       "7    Rishad   24    Kannur  25000.0\n",
       "8     Anzil   24  Kottayam  25000.0\n",
       "9     Ameen   23    Kollam  22000.0"
      ]
     },
     "execution_count": 234,
     "metadata": {},
     "output_type": "execute_result"
    }
   ],
   "source": [
    "df = pd.DataFrame(data,columns=col_name)\n",
    "df"
   ]
  },
  {
   "cell_type": "code",
   "execution_count": 235,
   "id": "530239b0-bf2d-4fa7-a7e0-7ce10f2a7947",
   "metadata": {},
   "outputs": [],
   "source": [
    "df2 = df.copy()"
   ]
  },
  {
   "cell_type": "code",
   "execution_count": 236,
   "id": "cd9829cc-e404-433c-8bf4-4e65f9479074",
   "metadata": {},
   "outputs": [
    {
     "name": "stdout",
     "output_type": "stream",
     "text": [
      "<class 'pandas.core.frame.DataFrame'>\n",
      "RangeIndex: 10 entries, 0 to 9\n",
      "Data columns (total 4 columns):\n",
      " #   Column  Non-Null Count  Dtype  \n",
      "---  ------  --------------  -----  \n",
      " 0   Name    10 non-null     object \n",
      " 1   Age     10 non-null     int64  \n",
      " 2   City    10 non-null     object \n",
      " 3   Salary  9 non-null      float64\n",
      "dtypes: float64(1), int64(1), object(2)\n",
      "memory usage: 452.0+ bytes\n"
     ]
    }
   ],
   "source": [
    "df.info()"
   ]
  },
  {
   "cell_type": "code",
   "execution_count": 237,
   "id": "5b136e1c-dd66-460f-a122-b7de452620ac",
   "metadata": {},
   "outputs": [
    {
     "data": {
      "text/html": [
       "<div>\n",
       "<style scoped>\n",
       "    .dataframe tbody tr th:only-of-type {\n",
       "        vertical-align: middle;\n",
       "    }\n",
       "\n",
       "    .dataframe tbody tr th {\n",
       "        vertical-align: top;\n",
       "    }\n",
       "\n",
       "    .dataframe thead th {\n",
       "        text-align: right;\n",
       "    }\n",
       "</style>\n",
       "<table border=\"1\" class=\"dataframe\">\n",
       "  <thead>\n",
       "    <tr style=\"text-align: right;\">\n",
       "      <th></th>\n",
       "      <th>Age</th>\n",
       "      <th>Salary</th>\n",
       "    </tr>\n",
       "  </thead>\n",
       "  <tbody>\n",
       "    <tr>\n",
       "      <th>count</th>\n",
       "      <td>10.000000</td>\n",
       "      <td>9.000000</td>\n",
       "    </tr>\n",
       "    <tr>\n",
       "      <th>mean</th>\n",
       "      <td>22.900000</td>\n",
       "      <td>25000.000000</td>\n",
       "    </tr>\n",
       "    <tr>\n",
       "      <th>std</th>\n",
       "      <td>0.875595</td>\n",
       "      <td>2645.751311</td>\n",
       "    </tr>\n",
       "    <tr>\n",
       "      <th>min</th>\n",
       "      <td>22.000000</td>\n",
       "      <td>22000.000000</td>\n",
       "    </tr>\n",
       "    <tr>\n",
       "      <th>25%</th>\n",
       "      <td>22.000000</td>\n",
       "      <td>23000.000000</td>\n",
       "    </tr>\n",
       "    <tr>\n",
       "      <th>50%</th>\n",
       "      <td>23.000000</td>\n",
       "      <td>25000.000000</td>\n",
       "    </tr>\n",
       "    <tr>\n",
       "      <th>75%</th>\n",
       "      <td>23.750000</td>\n",
       "      <td>25000.000000</td>\n",
       "    </tr>\n",
       "    <tr>\n",
       "      <th>max</th>\n",
       "      <td>24.000000</td>\n",
       "      <td>30000.000000</td>\n",
       "    </tr>\n",
       "  </tbody>\n",
       "</table>\n",
       "</div>"
      ],
      "text/plain": [
       "             Age        Salary\n",
       "count  10.000000      9.000000\n",
       "mean   22.900000  25000.000000\n",
       "std     0.875595   2645.751311\n",
       "min    22.000000  22000.000000\n",
       "25%    22.000000  23000.000000\n",
       "50%    23.000000  25000.000000\n",
       "75%    23.750000  25000.000000\n",
       "max    24.000000  30000.000000"
      ]
     },
     "execution_count": 237,
     "metadata": {},
     "output_type": "execute_result"
    }
   ],
   "source": [
    "df.describe()"
   ]
  },
  {
   "cell_type": "code",
   "execution_count": 238,
   "id": "47ced959-7c50-46a7-9603-e6fe26e45e8c",
   "metadata": {},
   "outputs": [
    {
     "data": {
      "text/html": [
       "<div>\n",
       "<style scoped>\n",
       "    .dataframe tbody tr th:only-of-type {\n",
       "        vertical-align: middle;\n",
       "    }\n",
       "\n",
       "    .dataframe tbody tr th {\n",
       "        vertical-align: top;\n",
       "    }\n",
       "\n",
       "    .dataframe thead th {\n",
       "        text-align: right;\n",
       "    }\n",
       "</style>\n",
       "<table border=\"1\" class=\"dataframe\">\n",
       "  <thead>\n",
       "    <tr style=\"text-align: right;\">\n",
       "      <th></th>\n",
       "      <th>Name</th>\n",
       "      <th>City</th>\n",
       "    </tr>\n",
       "  </thead>\n",
       "  <tbody>\n",
       "    <tr>\n",
       "      <th>0</th>\n",
       "      <td>Vighnesh</td>\n",
       "      <td>Kollam</td>\n",
       "    </tr>\n",
       "    <tr>\n",
       "      <th>1</th>\n",
       "      <td>Savin</td>\n",
       "      <td>Kollam</td>\n",
       "    </tr>\n",
       "    <tr>\n",
       "      <th>2</th>\n",
       "      <td>Ajin</td>\n",
       "      <td>TVM</td>\n",
       "    </tr>\n",
       "    <tr>\n",
       "      <th>3</th>\n",
       "      <td>Anzil</td>\n",
       "      <td>Kottayam</td>\n",
       "    </tr>\n",
       "    <tr>\n",
       "      <th>4</th>\n",
       "      <td>Adith</td>\n",
       "      <td>TVM</td>\n",
       "    </tr>\n",
       "    <tr>\n",
       "      <th>5</th>\n",
       "      <td>Vipin</td>\n",
       "      <td>Kollam</td>\n",
       "    </tr>\n",
       "    <tr>\n",
       "      <th>6</th>\n",
       "      <td>Muad</td>\n",
       "      <td>EKM</td>\n",
       "    </tr>\n",
       "    <tr>\n",
       "      <th>7</th>\n",
       "      <td>Rishad</td>\n",
       "      <td>Kannur</td>\n",
       "    </tr>\n",
       "    <tr>\n",
       "      <th>8</th>\n",
       "      <td>Anzil</td>\n",
       "      <td>Kottayam</td>\n",
       "    </tr>\n",
       "    <tr>\n",
       "      <th>9</th>\n",
       "      <td>Ameen</td>\n",
       "      <td>Kollam</td>\n",
       "    </tr>\n",
       "  </tbody>\n",
       "</table>\n",
       "</div>"
      ],
      "text/plain": [
       "       Name      City\n",
       "0  Vighnesh    Kollam\n",
       "1     Savin    Kollam\n",
       "2      Ajin       TVM\n",
       "3     Anzil  Kottayam\n",
       "4     Adith       TVM\n",
       "5     Vipin    Kollam\n",
       "6      Muad       EKM\n",
       "7    Rishad    Kannur\n",
       "8     Anzil  Kottayam\n",
       "9     Ameen    Kollam"
      ]
     },
     "execution_count": 238,
     "metadata": {},
     "output_type": "execute_result"
    }
   ],
   "source": [
    "df.loc[:,['Name','City']]"
   ]
  },
  {
   "cell_type": "code",
   "execution_count": 239,
   "id": "b9e1cc26-bb50-49b7-a1f9-71d7277b8327",
   "metadata": {},
   "outputs": [
    {
     "data": {
      "text/html": [
       "<div>\n",
       "<style scoped>\n",
       "    .dataframe tbody tr th:only-of-type {\n",
       "        vertical-align: middle;\n",
       "    }\n",
       "\n",
       "    .dataframe tbody tr th {\n",
       "        vertical-align: top;\n",
       "    }\n",
       "\n",
       "    .dataframe thead th {\n",
       "        text-align: right;\n",
       "    }\n",
       "</style>\n",
       "<table border=\"1\" class=\"dataframe\">\n",
       "  <thead>\n",
       "    <tr style=\"text-align: right;\">\n",
       "      <th></th>\n",
       "      <th>Name</th>\n",
       "      <th>Age</th>\n",
       "      <th>Salary</th>\n",
       "    </tr>\n",
       "  </thead>\n",
       "  <tbody>\n",
       "    <tr>\n",
       "      <th>0</th>\n",
       "      <td>Vighnesh</td>\n",
       "      <td>22</td>\n",
       "      <td>25000.0</td>\n",
       "    </tr>\n",
       "    <tr>\n",
       "      <th>1</th>\n",
       "      <td>Savin</td>\n",
       "      <td>22</td>\n",
       "      <td>30000.0</td>\n",
       "    </tr>\n",
       "    <tr>\n",
       "      <th>2</th>\n",
       "      <td>Ajin</td>\n",
       "      <td>23</td>\n",
       "      <td>28000.0</td>\n",
       "    </tr>\n",
       "    <tr>\n",
       "      <th>3</th>\n",
       "      <td>Anzil</td>\n",
       "      <td>24</td>\n",
       "      <td>25000.0</td>\n",
       "    </tr>\n",
       "    <tr>\n",
       "      <th>4</th>\n",
       "      <td>Adith</td>\n",
       "      <td>22</td>\n",
       "      <td>NaN</td>\n",
       "    </tr>\n",
       "    <tr>\n",
       "      <th>5</th>\n",
       "      <td>Vipin</td>\n",
       "      <td>23</td>\n",
       "      <td>22000.0</td>\n",
       "    </tr>\n",
       "    <tr>\n",
       "      <th>6</th>\n",
       "      <td>Muad</td>\n",
       "      <td>22</td>\n",
       "      <td>23000.0</td>\n",
       "    </tr>\n",
       "    <tr>\n",
       "      <th>7</th>\n",
       "      <td>Rishad</td>\n",
       "      <td>24</td>\n",
       "      <td>25000.0</td>\n",
       "    </tr>\n",
       "    <tr>\n",
       "      <th>8</th>\n",
       "      <td>Anzil</td>\n",
       "      <td>24</td>\n",
       "      <td>25000.0</td>\n",
       "    </tr>\n",
       "    <tr>\n",
       "      <th>9</th>\n",
       "      <td>Ameen</td>\n",
       "      <td>23</td>\n",
       "      <td>22000.0</td>\n",
       "    </tr>\n",
       "  </tbody>\n",
       "</table>\n",
       "</div>"
      ],
      "text/plain": [
       "       Name  Age   Salary\n",
       "0  Vighnesh   22  25000.0\n",
       "1     Savin   22  30000.0\n",
       "2      Ajin   23  28000.0\n",
       "3     Anzil   24  25000.0\n",
       "4     Adith   22      NaN\n",
       "5     Vipin   23  22000.0\n",
       "6      Muad   22  23000.0\n",
       "7    Rishad   24  25000.0\n",
       "8     Anzil   24  25000.0\n",
       "9     Ameen   23  22000.0"
      ]
     },
     "execution_count": 239,
     "metadata": {},
     "output_type": "execute_result"
    }
   ],
   "source": [
    "df.drop('City',axis=1,inplace=True)\n",
    "df"
   ]
  },
  {
   "cell_type": "code",
   "execution_count": 240,
   "id": "282b3985-c14b-4d5d-a09f-acad6b241da9",
   "metadata": {},
   "outputs": [
    {
     "data": {
      "text/plain": [
       "np.float64(25000.0)"
      ]
     },
     "execution_count": 240,
     "metadata": {},
     "output_type": "execute_result"
    }
   ],
   "source": [
    "mean_salry = df2['Salary'].mean()\n",
    "mean_salry"
   ]
  },
  {
   "cell_type": "code",
   "execution_count": 241,
   "id": "ec143916-2a73-4ef3-a82f-6dfb6fceae44",
   "metadata": {},
   "outputs": [
    {
     "name": "stderr",
     "output_type": "stream",
     "text": [
      "C:\\Users\\vighn\\AppData\\Local\\Temp\\ipykernel_3892\\3545359057.py:1: FutureWarning: A value is trying to be set on a copy of a DataFrame or Series through chained assignment using an inplace method.\n",
      "The behavior will change in pandas 3.0. This inplace method will never work because the intermediate object on which we are setting values always behaves as a copy.\n",
      "\n",
      "For example, when doing 'df[col].method(value, inplace=True)', try using 'df.method({col: value}, inplace=True)' or df[col] = df[col].method(value) instead, to perform the operation inplace on the original object.\n",
      "\n",
      "\n",
      "  df2['Salary'].fillna(mean_salry,inplace=True)\n"
     ]
    }
   ],
   "source": [
    "df2['Salary'].fillna(mean_salry,inplace=True)"
   ]
  },
  {
   "cell_type": "code",
   "execution_count": 242,
   "id": "6dd4ebf0-7e2d-4db2-b5d6-abcef49c367b",
   "metadata": {},
   "outputs": [
    {
     "data": {
      "text/html": [
       "<div>\n",
       "<style scoped>\n",
       "    .dataframe tbody tr th:only-of-type {\n",
       "        vertical-align: middle;\n",
       "    }\n",
       "\n",
       "    .dataframe tbody tr th {\n",
       "        vertical-align: top;\n",
       "    }\n",
       "\n",
       "    .dataframe thead th {\n",
       "        text-align: right;\n",
       "    }\n",
       "</style>\n",
       "<table border=\"1\" class=\"dataframe\">\n",
       "  <thead>\n",
       "    <tr style=\"text-align: right;\">\n",
       "      <th></th>\n",
       "      <th>Name</th>\n",
       "      <th>Age</th>\n",
       "      <th>City</th>\n",
       "      <th>Salary</th>\n",
       "    </tr>\n",
       "  </thead>\n",
       "  <tbody>\n",
       "    <tr>\n",
       "      <th>0</th>\n",
       "      <td>Vighnesh</td>\n",
       "      <td>22</td>\n",
       "      <td>Kollam</td>\n",
       "      <td>25000.0</td>\n",
       "    </tr>\n",
       "    <tr>\n",
       "      <th>1</th>\n",
       "      <td>Savin</td>\n",
       "      <td>22</td>\n",
       "      <td>Kollam</td>\n",
       "      <td>30000.0</td>\n",
       "    </tr>\n",
       "    <tr>\n",
       "      <th>2</th>\n",
       "      <td>Ajin</td>\n",
       "      <td>23</td>\n",
       "      <td>TVM</td>\n",
       "      <td>28000.0</td>\n",
       "    </tr>\n",
       "    <tr>\n",
       "      <th>3</th>\n",
       "      <td>Anzil</td>\n",
       "      <td>24</td>\n",
       "      <td>Kottayam</td>\n",
       "      <td>25000.0</td>\n",
       "    </tr>\n",
       "    <tr>\n",
       "      <th>4</th>\n",
       "      <td>Adith</td>\n",
       "      <td>22</td>\n",
       "      <td>TVM</td>\n",
       "      <td>25000.0</td>\n",
       "    </tr>\n",
       "    <tr>\n",
       "      <th>5</th>\n",
       "      <td>Vipin</td>\n",
       "      <td>23</td>\n",
       "      <td>Kollam</td>\n",
       "      <td>22000.0</td>\n",
       "    </tr>\n",
       "    <tr>\n",
       "      <th>6</th>\n",
       "      <td>Muad</td>\n",
       "      <td>22</td>\n",
       "      <td>EKM</td>\n",
       "      <td>23000.0</td>\n",
       "    </tr>\n",
       "    <tr>\n",
       "      <th>7</th>\n",
       "      <td>Rishad</td>\n",
       "      <td>24</td>\n",
       "      <td>Kannur</td>\n",
       "      <td>25000.0</td>\n",
       "    </tr>\n",
       "    <tr>\n",
       "      <th>8</th>\n",
       "      <td>Anzil</td>\n",
       "      <td>24</td>\n",
       "      <td>Kottayam</td>\n",
       "      <td>25000.0</td>\n",
       "    </tr>\n",
       "    <tr>\n",
       "      <th>9</th>\n",
       "      <td>Ameen</td>\n",
       "      <td>23</td>\n",
       "      <td>Kollam</td>\n",
       "      <td>22000.0</td>\n",
       "    </tr>\n",
       "  </tbody>\n",
       "</table>\n",
       "</div>"
      ],
      "text/plain": [
       "       Name  Age      City   Salary\n",
       "0  Vighnesh   22    Kollam  25000.0\n",
       "1     Savin   22    Kollam  30000.0\n",
       "2      Ajin   23       TVM  28000.0\n",
       "3     Anzil   24  Kottayam  25000.0\n",
       "4     Adith   22       TVM  25000.0\n",
       "5     Vipin   23    Kollam  22000.0\n",
       "6      Muad   22       EKM  23000.0\n",
       "7    Rishad   24    Kannur  25000.0\n",
       "8     Anzil   24  Kottayam  25000.0\n",
       "9     Ameen   23    Kollam  22000.0"
      ]
     },
     "execution_count": 242,
     "metadata": {},
     "output_type": "execute_result"
    }
   ],
   "source": [
    "df2"
   ]
  },
  {
   "cell_type": "code",
   "execution_count": 245,
   "id": "293ff724-c436-4898-8d13-3b1c611508fb",
   "metadata": {},
   "outputs": [
    {
     "data": {
      "text/html": [
       "<div>\n",
       "<style scoped>\n",
       "    .dataframe tbody tr th:only-of-type {\n",
       "        vertical-align: middle;\n",
       "    }\n",
       "\n",
       "    .dataframe tbody tr th {\n",
       "        vertical-align: top;\n",
       "    }\n",
       "\n",
       "    .dataframe thead th {\n",
       "        text-align: right;\n",
       "    }\n",
       "</style>\n",
       "<table border=\"1\" class=\"dataframe\">\n",
       "  <thead>\n",
       "    <tr style=\"text-align: right;\">\n",
       "      <th></th>\n",
       "      <th>Name</th>\n",
       "      <th>Age</th>\n",
       "      <th>City</th>\n",
       "      <th>Salary</th>\n",
       "    </tr>\n",
       "  </thead>\n",
       "  <tbody>\n",
       "    <tr>\n",
       "      <th>0</th>\n",
       "      <td>Vighnesh</td>\n",
       "      <td>22</td>\n",
       "      <td>Kollam</td>\n",
       "      <td>25000.0</td>\n",
       "    </tr>\n",
       "    <tr>\n",
       "      <th>1</th>\n",
       "      <td>Savin</td>\n",
       "      <td>22</td>\n",
       "      <td>Kollam</td>\n",
       "      <td>30000.0</td>\n",
       "    </tr>\n",
       "    <tr>\n",
       "      <th>2</th>\n",
       "      <td>Ajin</td>\n",
       "      <td>23</td>\n",
       "      <td>TVM</td>\n",
       "      <td>28000.0</td>\n",
       "    </tr>\n",
       "    <tr>\n",
       "      <th>3</th>\n",
       "      <td>Anzil</td>\n",
       "      <td>24</td>\n",
       "      <td>Kottayam</td>\n",
       "      <td>25000.0</td>\n",
       "    </tr>\n",
       "    <tr>\n",
       "      <th>4</th>\n",
       "      <td>Adith</td>\n",
       "      <td>22</td>\n",
       "      <td>TVM</td>\n",
       "      <td>25000.0</td>\n",
       "    </tr>\n",
       "    <tr>\n",
       "      <th>5</th>\n",
       "      <td>Vipin</td>\n",
       "      <td>23</td>\n",
       "      <td>Kollam</td>\n",
       "      <td>22000.0</td>\n",
       "    </tr>\n",
       "    <tr>\n",
       "      <th>6</th>\n",
       "      <td>Muad</td>\n",
       "      <td>22</td>\n",
       "      <td>EKM</td>\n",
       "      <td>23000.0</td>\n",
       "    </tr>\n",
       "    <tr>\n",
       "      <th>7</th>\n",
       "      <td>Rishad</td>\n",
       "      <td>24</td>\n",
       "      <td>Kannur</td>\n",
       "      <td>25000.0</td>\n",
       "    </tr>\n",
       "    <tr>\n",
       "      <th>9</th>\n",
       "      <td>Ameen</td>\n",
       "      <td>23</td>\n",
       "      <td>Kollam</td>\n",
       "      <td>22000.0</td>\n",
       "    </tr>\n",
       "  </tbody>\n",
       "</table>\n",
       "</div>"
      ],
      "text/plain": [
       "       Name  Age      City   Salary\n",
       "0  Vighnesh   22    Kollam  25000.0\n",
       "1     Savin   22    Kollam  30000.0\n",
       "2      Ajin   23       TVM  28000.0\n",
       "3     Anzil   24  Kottayam  25000.0\n",
       "4     Adith   22       TVM  25000.0\n",
       "5     Vipin   23    Kollam  22000.0\n",
       "6      Muad   22       EKM  23000.0\n",
       "7    Rishad   24    Kannur  25000.0\n",
       "9     Ameen   23    Kollam  22000.0"
      ]
     },
     "execution_count": 245,
     "metadata": {},
     "output_type": "execute_result"
    }
   ],
   "source": [
    "df2.drop_duplicates(inplace=True)\n",
    "df2"
   ]
  },
  {
   "cell_type": "code",
   "execution_count": null,
   "id": "2699b4ea-4d6b-475d-a8aa-cf45c81890d6",
   "metadata": {},
   "outputs": [],
   "source": []
  }
 ],
 "metadata": {
  "kernelspec": {
   "display_name": "Python [conda env:base] *",
   "language": "python",
   "name": "conda-base-py"
  },
  "language_info": {
   "codemirror_mode": {
    "name": "ipython",
    "version": 3
   },
   "file_extension": ".py",
   "mimetype": "text/x-python",
   "name": "python",
   "nbconvert_exporter": "python",
   "pygments_lexer": "ipython3",
   "version": "3.13.5"
  }
 },
 "nbformat": 4,
 "nbformat_minor": 5
}
