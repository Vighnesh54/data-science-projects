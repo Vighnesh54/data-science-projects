{
 "cells": [
  {
   "cell_type": "markdown",
   "id": "672fb2a6-7e98-410c-baa1-826748d47bbf",
   "metadata": {},
   "source": [
    "## ASSOCIATION RULES"
   ]
  },
  {
   "cell_type": "code",
   "execution_count": 16,
   "id": "8f28e429-b6b6-456a-a2fc-0998aa86fd24",
   "metadata": {},
   "outputs": [
    {
     "name": "stdout",
     "output_type": "stream",
     "text": [
      "Requirement already satisfied: pandas in c:\\users\\jbakh\\anaconda3\\lib\\site-packages (2.2.3)\n",
      "Collecting mlxtend\n",
      "  Downloading mlxtend-0.23.4-py3-none-any.whl.metadata (7.3 kB)\n",
      "Requirement already satisfied: numpy>=1.26.0 in c:\\users\\jbakh\\anaconda3\\lib\\site-packages (from pandas) (2.1.3)\n",
      "Requirement already satisfied: python-dateutil>=2.8.2 in c:\\users\\jbakh\\anaconda3\\lib\\site-packages (from pandas) (2.9.0.post0)\n",
      "Requirement already satisfied: pytz>=2020.1 in c:\\users\\jbakh\\anaconda3\\lib\\site-packages (from pandas) (2024.1)\n",
      "Requirement already satisfied: tzdata>=2022.7 in c:\\users\\jbakh\\anaconda3\\lib\\site-packages (from pandas) (2025.2)\n",
      "Requirement already satisfied: scipy>=1.2.1 in c:\\users\\jbakh\\anaconda3\\lib\\site-packages (from mlxtend) (1.15.3)\n",
      "Requirement already satisfied: scikit-learn>=1.3.1 in c:\\users\\jbakh\\anaconda3\\lib\\site-packages (from mlxtend) (1.6.1)\n",
      "Requirement already satisfied: matplotlib>=3.0.0 in c:\\users\\jbakh\\anaconda3\\lib\\site-packages (from mlxtend) (3.10.0)\n",
      "Requirement already satisfied: joblib>=0.13.2 in c:\\users\\jbakh\\anaconda3\\lib\\site-packages (from mlxtend) (1.4.2)\n",
      "Requirement already satisfied: contourpy>=1.0.1 in c:\\users\\jbakh\\anaconda3\\lib\\site-packages (from matplotlib>=3.0.0->mlxtend) (1.3.1)\n",
      "Requirement already satisfied: cycler>=0.10 in c:\\users\\jbakh\\anaconda3\\lib\\site-packages (from matplotlib>=3.0.0->mlxtend) (0.11.0)\n",
      "Requirement already satisfied: fonttools>=4.22.0 in c:\\users\\jbakh\\anaconda3\\lib\\site-packages (from matplotlib>=3.0.0->mlxtend) (4.55.3)\n",
      "Requirement already satisfied: kiwisolver>=1.3.1 in c:\\users\\jbakh\\anaconda3\\lib\\site-packages (from matplotlib>=3.0.0->mlxtend) (1.4.8)\n",
      "Requirement already satisfied: packaging>=20.0 in c:\\users\\jbakh\\anaconda3\\lib\\site-packages (from matplotlib>=3.0.0->mlxtend) (24.2)\n",
      "Requirement already satisfied: pillow>=8 in c:\\users\\jbakh\\anaconda3\\lib\\site-packages (from matplotlib>=3.0.0->mlxtend) (11.1.0)\n",
      "Requirement already satisfied: pyparsing>=2.3.1 in c:\\users\\jbakh\\anaconda3\\lib\\site-packages (from matplotlib>=3.0.0->mlxtend) (3.2.0)\n",
      "Requirement already satisfied: six>=1.5 in c:\\users\\jbakh\\anaconda3\\lib\\site-packages (from python-dateutil>=2.8.2->pandas) (1.17.0)\n",
      "Requirement already satisfied: threadpoolctl>=3.1.0 in c:\\users\\jbakh\\anaconda3\\lib\\site-packages (from scikit-learn>=1.3.1->mlxtend) (3.5.0)\n",
      "Downloading mlxtend-0.23.4-py3-none-any.whl (1.4 MB)\n",
      "   ---------------------------------------- 0.0/1.4 MB ? eta -:--:--\n",
      "   ---------------------------------------- 1.4/1.4 MB 19.3 MB/s eta 0:00:00\n",
      "Installing collected packages: mlxtend\n",
      "Successfully installed mlxtend-0.23.4\n"
     ]
    }
   ],
   "source": [
    "!pip install pandas mlxtend"
   ]
  },
  {
   "cell_type": "markdown",
   "id": "8b2d05dc-ebbb-41fe-abf6-4e9e5a7be5aa",
   "metadata": {},
   "source": [
    "### Dataset:"
   ]
  },
  {
   "cell_type": "markdown",
   "id": "010b6bd7-2a71-4b11-9d98-3d7421708614",
   "metadata": {},
   "source": [
    "Use the Online retail dataset to apply the association rules."
   ]
  },
  {
   "cell_type": "code",
   "execution_count": 17,
   "id": "bbc8db3c-04fa-4cfd-90f4-458940c2dc6f",
   "metadata": {},
   "outputs": [],
   "source": [
    "import pandas as pd"
   ]
  },
  {
   "cell_type": "code",
   "execution_count": 18,
   "id": "06e437a0-657d-445a-a7b1-afaaf9ffe66c",
   "metadata": {},
   "outputs": [],
   "source": [
    "from mlxtend.preprocessing import TransactionEncoder\n",
    "from mlxtend.frequent_patterns import apriori, association_rules"
   ]
  },
  {
   "cell_type": "code",
   "execution_count": 24,
   "id": "b3e7c113-b027-4f3f-9fdc-e059416a99e9",
   "metadata": {},
   "outputs": [
    {
     "data": {
      "text/html": [
       "<div>\n",
       "<style scoped>\n",
       "    .dataframe tbody tr th:only-of-type {\n",
       "        vertical-align: middle;\n",
       "    }\n",
       "\n",
       "    .dataframe tbody tr th {\n",
       "        vertical-align: top;\n",
       "    }\n",
       "\n",
       "    .dataframe thead th {\n",
       "        text-align: right;\n",
       "    }\n",
       "</style>\n",
       "<table border=\"1\" class=\"dataframe\">\n",
       "  <thead>\n",
       "    <tr style=\"text-align: right;\">\n",
       "      <th></th>\n",
       "      <th>0</th>\n",
       "    </tr>\n",
       "  </thead>\n",
       "  <tbody>\n",
       "    <tr>\n",
       "      <th>0</th>\n",
       "      <td>shrimp,almonds,avocado,vegetables mix,green gr...</td>\n",
       "    </tr>\n",
       "    <tr>\n",
       "      <th>1</th>\n",
       "      <td>burgers,meatballs,eggs</td>\n",
       "    </tr>\n",
       "    <tr>\n",
       "      <th>2</th>\n",
       "      <td>chutney</td>\n",
       "    </tr>\n",
       "    <tr>\n",
       "      <th>3</th>\n",
       "      <td>turkey,avocado</td>\n",
       "    </tr>\n",
       "    <tr>\n",
       "      <th>4</th>\n",
       "      <td>mineral water,milk,energy bar,whole wheat rice...</td>\n",
       "    </tr>\n",
       "  </tbody>\n",
       "</table>\n",
       "</div>"
      ],
      "text/plain": [
       "                                                   0\n",
       "0  shrimp,almonds,avocado,vegetables mix,green gr...\n",
       "1                             burgers,meatballs,eggs\n",
       "2                                            chutney\n",
       "3                                     turkey,avocado\n",
       "4  mineral water,milk,energy bar,whole wheat rice..."
      ]
     },
     "execution_count": 24,
     "metadata": {},
     "output_type": "execute_result"
    }
   ],
   "source": [
    "df = pd.read_excel('Online retail.xlsx', header=None)\n",
    "df.head()"
   ]
  },
  {
   "cell_type": "markdown",
   "id": "73a2a667-fb62-4b32-9794-8f38eafad7d3",
   "metadata": {},
   "source": [
    "### Data Preprocessing"
   ]
  },
  {
   "cell_type": "markdown",
   "id": "26fc9080-76a9-4080-93c7-dac53880c45d",
   "metadata": {},
   "source": [
    "Pre-process the dataset to ensure it is suitable for Association rules, this may include handling missing values, removing duplicates, and converting the data to appropriate format. "
   ]
  },
  {
   "cell_type": "code",
   "execution_count": 25,
   "id": "77502a53-457b-4913-8a46-a6d8f2c53432",
   "metadata": {},
   "outputs": [
    {
     "name": "stdout",
     "output_type": "stream",
     "text": [
      "Number of empty transactions: 0\n"
     ]
    }
   ],
   "source": [
    "empty_transactions = df[0].isna() | df[0].apply(lambda x: str(x).strip() == '')\n",
    "print(f\"Number of empty transactions: {empty_transactions.sum()}\")"
   ]
  },
  {
   "cell_type": "code",
   "execution_count": 26,
   "id": "fa46c8fb-4720-4c70-85aa-afef30bc473f",
   "metadata": {},
   "outputs": [],
   "source": [
    "df = df[~empty_transactions]"
   ]
  },
  {
   "cell_type": "code",
   "execution_count": 27,
   "id": "745fd34d-360d-408b-a637-547ff28ffb2a",
   "metadata": {},
   "outputs": [
    {
     "name": "stdout",
     "output_type": "stream",
     "text": [
      "Number of duplicate transactions: 2741\n"
     ]
    }
   ],
   "source": [
    "df['transaction_str'] = df[0].apply(lambda x: ','.join(sorted(str(x).split(','))))\n",
    "duplicates = df.duplicated(subset='transaction_str', keep=False)\n",
    "print(f\"Number of duplicate transactions: {duplicates.sum()}\")"
   ]
  },
  {
   "cell_type": "code",
   "execution_count": 28,
   "id": "efcaa5d8-b1e4-467c-8096-b48532004855",
   "metadata": {},
   "outputs": [],
   "source": [
    "df = df.drop_duplicates(subset='transaction_str')\n",
    "df = df.drop(columns=['transaction_str'])"
   ]
  },
  {
   "cell_type": "code",
   "execution_count": 29,
   "id": "c57f1179-daa4-44ae-82f0-39e3f5d9cca0",
   "metadata": {},
   "outputs": [],
   "source": [
    "transactions = df[0].apply(lambda x: [item.strip() for item in str(x).split(',')]).tolist()"
   ]
  },
  {
   "cell_type": "code",
   "execution_count": 32,
   "id": "f2161371-4ae0-4c53-840b-152e9d105f66",
   "metadata": {},
   "outputs": [],
   "source": [
    "te = TransactionEncoder()\n",
    "te_ary = te.fit(transactions).transform(transactions)\n",
    "df_onehot = pd.DataFrame(te_ary, columns=te.columns_)"
   ]
  },
  {
   "cell_type": "code",
   "execution_count": 33,
   "id": "0162ed97-0f67-4250-ad9d-765e3dc67267",
   "metadata": {},
   "outputs": [
    {
     "data": {
      "text/html": [
       "<div>\n",
       "<style scoped>\n",
       "    .dataframe tbody tr th:only-of-type {\n",
       "        vertical-align: middle;\n",
       "    }\n",
       "\n",
       "    .dataframe tbody tr th {\n",
       "        vertical-align: top;\n",
       "    }\n",
       "\n",
       "    .dataframe thead th {\n",
       "        text-align: right;\n",
       "    }\n",
       "</style>\n",
       "<table border=\"1\" class=\"dataframe\">\n",
       "  <thead>\n",
       "    <tr style=\"text-align: right;\">\n",
       "      <th></th>\n",
       "      <th>almonds</th>\n",
       "      <th>antioxydant juice</th>\n",
       "      <th>asparagus</th>\n",
       "      <th>avocado</th>\n",
       "      <th>babies food</th>\n",
       "      <th>bacon</th>\n",
       "      <th>barbecue sauce</th>\n",
       "      <th>black tea</th>\n",
       "      <th>blueberries</th>\n",
       "      <th>body spray</th>\n",
       "      <th>...</th>\n",
       "      <th>turkey</th>\n",
       "      <th>vegetables mix</th>\n",
       "      <th>water spray</th>\n",
       "      <th>white wine</th>\n",
       "      <th>whole weat flour</th>\n",
       "      <th>whole wheat pasta</th>\n",
       "      <th>whole wheat rice</th>\n",
       "      <th>yams</th>\n",
       "      <th>yogurt cake</th>\n",
       "      <th>zucchini</th>\n",
       "    </tr>\n",
       "  </thead>\n",
       "  <tbody>\n",
       "    <tr>\n",
       "      <th>0</th>\n",
       "      <td>True</td>\n",
       "      <td>True</td>\n",
       "      <td>False</td>\n",
       "      <td>True</td>\n",
       "      <td>False</td>\n",
       "      <td>False</td>\n",
       "      <td>False</td>\n",
       "      <td>False</td>\n",
       "      <td>False</td>\n",
       "      <td>False</td>\n",
       "      <td>...</td>\n",
       "      <td>False</td>\n",
       "      <td>True</td>\n",
       "      <td>False</td>\n",
       "      <td>False</td>\n",
       "      <td>True</td>\n",
       "      <td>False</td>\n",
       "      <td>False</td>\n",
       "      <td>True</td>\n",
       "      <td>False</td>\n",
       "      <td>False</td>\n",
       "    </tr>\n",
       "    <tr>\n",
       "      <th>1</th>\n",
       "      <td>False</td>\n",
       "      <td>False</td>\n",
       "      <td>False</td>\n",
       "      <td>False</td>\n",
       "      <td>False</td>\n",
       "      <td>False</td>\n",
       "      <td>False</td>\n",
       "      <td>False</td>\n",
       "      <td>False</td>\n",
       "      <td>False</td>\n",
       "      <td>...</td>\n",
       "      <td>False</td>\n",
       "      <td>False</td>\n",
       "      <td>False</td>\n",
       "      <td>False</td>\n",
       "      <td>False</td>\n",
       "      <td>False</td>\n",
       "      <td>False</td>\n",
       "      <td>False</td>\n",
       "      <td>False</td>\n",
       "      <td>False</td>\n",
       "    </tr>\n",
       "    <tr>\n",
       "      <th>2</th>\n",
       "      <td>False</td>\n",
       "      <td>False</td>\n",
       "      <td>False</td>\n",
       "      <td>False</td>\n",
       "      <td>False</td>\n",
       "      <td>False</td>\n",
       "      <td>False</td>\n",
       "      <td>False</td>\n",
       "      <td>False</td>\n",
       "      <td>False</td>\n",
       "      <td>...</td>\n",
       "      <td>False</td>\n",
       "      <td>False</td>\n",
       "      <td>False</td>\n",
       "      <td>False</td>\n",
       "      <td>False</td>\n",
       "      <td>False</td>\n",
       "      <td>False</td>\n",
       "      <td>False</td>\n",
       "      <td>False</td>\n",
       "      <td>False</td>\n",
       "    </tr>\n",
       "    <tr>\n",
       "      <th>3</th>\n",
       "      <td>False</td>\n",
       "      <td>False</td>\n",
       "      <td>False</td>\n",
       "      <td>True</td>\n",
       "      <td>False</td>\n",
       "      <td>False</td>\n",
       "      <td>False</td>\n",
       "      <td>False</td>\n",
       "      <td>False</td>\n",
       "      <td>False</td>\n",
       "      <td>...</td>\n",
       "      <td>True</td>\n",
       "      <td>False</td>\n",
       "      <td>False</td>\n",
       "      <td>False</td>\n",
       "      <td>False</td>\n",
       "      <td>False</td>\n",
       "      <td>False</td>\n",
       "      <td>False</td>\n",
       "      <td>False</td>\n",
       "      <td>False</td>\n",
       "    </tr>\n",
       "    <tr>\n",
       "      <th>4</th>\n",
       "      <td>False</td>\n",
       "      <td>False</td>\n",
       "      <td>False</td>\n",
       "      <td>False</td>\n",
       "      <td>False</td>\n",
       "      <td>False</td>\n",
       "      <td>False</td>\n",
       "      <td>False</td>\n",
       "      <td>False</td>\n",
       "      <td>False</td>\n",
       "      <td>...</td>\n",
       "      <td>False</td>\n",
       "      <td>False</td>\n",
       "      <td>False</td>\n",
       "      <td>False</td>\n",
       "      <td>False</td>\n",
       "      <td>False</td>\n",
       "      <td>True</td>\n",
       "      <td>False</td>\n",
       "      <td>False</td>\n",
       "      <td>False</td>\n",
       "    </tr>\n",
       "  </tbody>\n",
       "</table>\n",
       "<p>5 rows × 119 columns</p>\n",
       "</div>"
      ],
      "text/plain": [
       "   almonds  antioxydant juice  asparagus  avocado  babies food  bacon  \\\n",
       "0     True               True      False     True        False  False   \n",
       "1    False              False      False    False        False  False   \n",
       "2    False              False      False    False        False  False   \n",
       "3    False              False      False     True        False  False   \n",
       "4    False              False      False    False        False  False   \n",
       "\n",
       "   barbecue sauce  black tea  blueberries  body spray  ...  turkey  \\\n",
       "0           False      False        False       False  ...   False   \n",
       "1           False      False        False       False  ...   False   \n",
       "2           False      False        False       False  ...   False   \n",
       "3           False      False        False       False  ...    True   \n",
       "4           False      False        False       False  ...   False   \n",
       "\n",
       "   vegetables mix  water spray  white wine  whole weat flour  \\\n",
       "0            True        False       False              True   \n",
       "1           False        False       False             False   \n",
       "2           False        False       False             False   \n",
       "3           False        False       False             False   \n",
       "4           False        False       False             False   \n",
       "\n",
       "   whole wheat pasta  whole wheat rice   yams  yogurt cake  zucchini  \n",
       "0              False             False   True        False     False  \n",
       "1              False             False  False        False     False  \n",
       "2              False             False  False        False     False  \n",
       "3              False             False  False        False     False  \n",
       "4              False              True  False        False     False  \n",
       "\n",
       "[5 rows x 119 columns]"
      ]
     },
     "execution_count": 33,
     "metadata": {},
     "output_type": "execute_result"
    }
   ],
   "source": [
    "df_onehot.head()"
   ]
  },
  {
   "cell_type": "code",
   "execution_count": 34,
   "id": "7b19bf2c-4f8f-4242-b73e-2129f10e8367",
   "metadata": {},
   "outputs": [
    {
     "name": "stdout",
     "output_type": "stream",
     "text": [
      "Frequent Itemsets:\n",
      "      support                               itemsets\n",
      "0    0.029492                              (almonds)\n",
      "1    0.011253                    (antioxydant juice)\n",
      "2    0.046178                              (avocado)\n",
      "3    0.012612                                (bacon)\n",
      "4    0.015522                       (barbecue sauce)\n",
      "..        ...                                    ...\n",
      "433  0.014746  (olive oil, spaghetti, mineral water)\n",
      "434  0.016686   (pancakes, spaghetti, mineral water)\n",
      "435  0.012418     (shrimp, spaghetti, mineral water)\n",
      "436  0.010865       (spaghetti, mineral water, soup)\n",
      "437  0.013582   (tomatoes, spaghetti, mineral water)\n",
      "\n",
      "[438 rows x 2 columns]\n"
     ]
    }
   ],
   "source": [
    "frequent_itemsets = apriori(df_onehot, min_support=0.01, use_colnames=True)\n",
    "print(\"Frequent Itemsets:\")\n",
    "print(frequent_itemsets)"
   ]
  },
  {
   "cell_type": "code",
   "execution_count": 35,
   "id": "67a06858-b7e7-4f19-bd03-cea89950b901",
   "metadata": {},
   "outputs": [
    {
     "name": "stdout",
     "output_type": "stream",
     "text": [
      "Association Rules:\n",
      "                        antecedents      consequents  antecedent support  \\\n",
      "0              (chocolate, chicken)  (mineral water)            0.021149   \n",
      "1            (olive oil, chocolate)  (mineral water)            0.023671   \n",
      "2               (ground beef, eggs)  (mineral water)            0.028910   \n",
      "3  (ground beef, frozen vegetables)  (mineral water)            0.024641   \n",
      "4  (ground beef, frozen vegetables)      (spaghetti)            0.024641   \n",
      "\n",
      "   consequent support   support  confidence      lift  representativity  \\\n",
      "0            0.299961  0.010865    0.513761  1.712760               1.0   \n",
      "1            0.299961  0.012029    0.508197  1.694208               1.0   \n",
      "2            0.299961  0.014552    0.503356  1.678069               1.0   \n",
      "3            0.299961  0.013388    0.543307  1.811258               1.0   \n",
      "4            0.230113  0.012612    0.511811  2.224177               1.0   \n",
      "\n",
      "   leverage  conviction  zhangs_metric   jaccard  certainty  kulczynski  \n",
      "0  0.004522    1.439702       0.425138  0.035022   0.305412    0.274992  \n",
      "1  0.004929    1.423412       0.419688  0.038605   0.297463    0.274150  \n",
      "2  0.005880    1.409538       0.416107  0.046296   0.290547    0.275934  \n",
      "3  0.005996    1.532844       0.459213  0.043017   0.347618    0.293969  \n",
      "4  0.006941    1.577028       0.564300  0.052083   0.365896    0.283309  \n"
     ]
    }
   ],
   "source": [
    "rules = association_rules(frequent_itemsets, metric=\"confidence\", min_threshold=0.5)\n",
    "print(\"Association Rules:\")\n",
    "print(rules.head())"
   ]
  },
  {
   "cell_type": "markdown",
   "id": "eb7e495b-4bbf-4eb9-82c3-6f31945db0f5",
   "metadata": {},
   "source": [
    "### Association Rule Mining"
   ]
  },
  {
   "cell_type": "markdown",
   "id": "a6377027-23e2-4d8c-81d3-b291420d06e2",
   "metadata": {},
   "source": [
    "##### A. Implement an Apriori algorithm using tool like python with libraries such as Pandas and Mlxtend etc."
   ]
  },
  {
   "cell_type": "code",
   "execution_count": 36,
   "id": "ca7cab5c-1bc7-4b7c-9991-174da075e5be",
   "metadata": {},
   "outputs": [],
   "source": [
    "frequent_itemsets = apriori(df_onehot, min_support=0.01, use_colnames=True)"
   ]
  },
  {
   "cell_type": "code",
   "execution_count": 37,
   "id": "eba9fa4f-8fa8-4e76-9d35-3e2b0da76518",
   "metadata": {},
   "outputs": [],
   "source": [
    "rules = association_rules(frequent_itemsets, metric=\"confidence\", min_threshold=0.5)"
   ]
  },
  {
   "cell_type": "code",
   "execution_count": 38,
   "id": "b7b3a6d1-060f-44c0-87fa-6f78d5e1a037",
   "metadata": {},
   "outputs": [],
   "source": [
    "rules['jaccard'] = rules['support'] / (rules['antecedent support'] + rules['consequent support'] - rules['support'])"
   ]
  },
  {
   "cell_type": "code",
   "execution_count": 39,
   "id": "d9475c89-4c98-4e90-8c92-b68c0576db34",
   "metadata": {},
   "outputs": [
    {
     "name": "stdout",
     "output_type": "stream",
     "text": [
      "                        antecedents      consequents   support  confidence  \\\n",
      "0              (chocolate, chicken)  (mineral water)  0.010865    0.513761   \n",
      "1            (olive oil, chocolate)  (mineral water)  0.012029    0.508197   \n",
      "2               (ground beef, eggs)  (mineral water)  0.014552    0.503356   \n",
      "3  (ground beef, frozen vegetables)  (mineral water)  0.013388    0.543307   \n",
      "4  (ground beef, frozen vegetables)      (spaghetti)  0.012612    0.511811   \n",
      "5               (ground beef, milk)  (mineral water)  0.016104    0.506098   \n",
      "6           (pancakes, ground beef)  (mineral water)  0.010865    0.518519   \n",
      "7                 (olive oil, milk)  (mineral water)  0.012418    0.512000   \n",
      "8                      (soup, milk)  (mineral water)  0.012418    0.576577   \n",
      "9                 (spaghetti, soup)  (mineral water)  0.010865    0.523364   \n",
      "\n",
      "       lift  leverage  conviction  zhangs_metric   jaccard  certainty  \\\n",
      "0  1.712760  0.004522    1.439702       0.425138  0.035022   0.305412   \n",
      "1  1.694208  0.004929    1.423412       0.419688  0.038605   0.297463   \n",
      "2  1.678069  0.005880    1.409538       0.416107  0.046296   0.290547   \n",
      "3  1.811258  0.005996    1.532844       0.459213  0.043017   0.347618   \n",
      "4  2.224177  0.006941    1.577028       0.564300  0.052083   0.365896   \n",
      "5  1.687210  0.006559    1.417363       0.420692  0.051014   0.294464   \n",
      "6  1.728619  0.004580    1.453927       0.430525  0.035044   0.312207   \n",
      "7  1.706887  0.005143    1.434506       0.424432  0.039826   0.302896   \n",
      "8  1.922171  0.005957    1.653283       0.490315  0.040176   0.395143   \n",
      "9  1.744774  0.004638    1.468709       0.435910  0.035066   0.319130   \n",
      "\n",
      "   kulczynski  \n",
      "0    0.274992  \n",
      "1    0.274150  \n",
      "2    0.275934  \n",
      "3    0.293969  \n",
      "4    0.283309  \n",
      "5    0.279892  \n",
      "6    0.277371  \n",
      "7    0.276699  \n",
      "8    0.308987  \n",
      "9    0.279793  \n"
     ]
    }
   ],
   "source": [
    "display_columns = ['antecedents', 'consequents', 'support', 'confidence', 'lift', 'leverage', 'conviction', 'zhangs_metric', 'jaccard', 'certainty', 'kulczynski']\n",
    "print(rules[display_columns])"
   ]
  },
  {
   "cell_type": "markdown",
   "id": "d992b4e3-02bc-4fd3-88e5-8c2d231c6c35",
   "metadata": {},
   "source": [
    "##### B. Apply association rule mining techniques to the pre-processed dataset to discover interesting relationships between products purchased together."
   ]
  },
  {
   "cell_type": "code",
   "execution_count": 40,
   "id": "499652ad-872a-430f-beed-442ce705f51c",
   "metadata": {},
   "outputs": [],
   "source": [
    "rules = association_rules(frequent_itemsets, metric=\"confidence\", min_threshold=0.2)"
   ]
  },
  {
   "cell_type": "code",
   "execution_count": 41,
   "id": "3ffe7914-4943-4366-a0b3-eff9780d445a",
   "metadata": {},
   "outputs": [],
   "source": [
    "rules['leverage'] = rules.apply(lambda x: x['support'] - (x['antecedent support'] * x['consequent support']), axis=1)\n",
    "rules['conviction'] = rules.apply(lambda x: (1 - x['consequent support']) / (1 - x['confidence']) if (1 - x['confidence']) != 0 else float('inf'), axis=1)\n",
    "rules['zhangs_metric'] = rules.apply(lambda x: (x['lift'] - 1) / (max(x['lift'], 1) + 1) if x['lift'] > 1 else (x['lift'] - 1) / (1 + max(x['lift'], 1)), axis=1)\n",
    "rules['jaccard'] = rules.apply(lambda x: x['support'] / (x['antecedent support'] + x['consequent support'] - x['support']) if (x['antecedent support'] + x['consequent support'] - x['support']) != 0 else 0, axis=1)\n",
    "rules['certainty'] = rules.apply(lambda x: (x['confidence'] - x['consequent support']) / (1 - x['consequent support']) if (1 - x['consequent support']) != 0 else 0, axis=1)\n",
    "rules['kulczynski'] = rules.apply(lambda x: (x['confidence'] + (x['support'] / x['consequent support'])) / 2 if x['consequent support'] != 0 else 0, axis=1)"
   ]
  },
  {
   "cell_type": "code",
   "execution_count": 42,
   "id": "1881652b-e7b2-4108-ad87-b4f516fa02ff",
   "metadata": {},
   "outputs": [],
   "source": [
    "rules = rules[rules['lift'] >= 1.2].sort_values(by='lift', ascending=False)"
   ]
  },
  {
   "cell_type": "code",
   "execution_count": 43,
   "id": "89818a68-7767-4d44-993b-f38f5c1b0086",
   "metadata": {},
   "outputs": [
    {
     "data": {
      "text/html": [
       "<div>\n",
       "<style scoped>\n",
       "    .dataframe tbody tr th:only-of-type {\n",
       "        vertical-align: middle;\n",
       "    }\n",
       "\n",
       "    .dataframe tbody tr th {\n",
       "        vertical-align: top;\n",
       "    }\n",
       "\n",
       "    .dataframe thead th {\n",
       "        text-align: right;\n",
       "    }\n",
       "</style>\n",
       "<table border=\"1\" class=\"dataframe\">\n",
       "  <thead>\n",
       "    <tr style=\"text-align: right;\">\n",
       "      <th></th>\n",
       "      <th>antecedents</th>\n",
       "      <th>consequents</th>\n",
       "      <th>support</th>\n",
       "      <th>confidence</th>\n",
       "      <th>lift</th>\n",
       "      <th>leverage</th>\n",
       "      <th>conviction</th>\n",
       "      <th>zhangs_metric</th>\n",
       "      <th>jaccard</th>\n",
       "      <th>certainty</th>\n",
       "      <th>kulczynski</th>\n",
       "    </tr>\n",
       "  </thead>\n",
       "  <tbody>\n",
       "    <tr>\n",
       "      <th>177</th>\n",
       "      <td>(whole wheat pasta)</td>\n",
       "      <td>(olive oil)</td>\n",
       "      <td>0.011059</td>\n",
       "      <td>0.271429</td>\n",
       "      <td>3.081372</td>\n",
       "      <td>0.007470</td>\n",
       "      <td>1.251645</td>\n",
       "      <td>0.509969</td>\n",
       "      <td>0.093904</td>\n",
       "      <td>0.201052</td>\n",
       "      <td>0.198490</td>\n",
       "    </tr>\n",
       "    <tr>\n",
       "      <th>127</th>\n",
       "      <td>(herb &amp; pepper)</td>\n",
       "      <td>(ground beef)</td>\n",
       "      <td>0.022895</td>\n",
       "      <td>0.343023</td>\n",
       "      <td>2.514853</td>\n",
       "      <td>0.013791</td>\n",
       "      <td>1.314508</td>\n",
       "      <td>0.430986</td>\n",
       "      <td>0.127018</td>\n",
       "      <td>0.239259</td>\n",
       "      <td>0.255438</td>\n",
       "    </tr>\n",
       "    <tr>\n",
       "      <th>314</th>\n",
       "      <td>(shrimp, mineral water)</td>\n",
       "      <td>(frozen vegetables)</td>\n",
       "      <td>0.010477</td>\n",
       "      <td>0.310345</td>\n",
       "      <td>2.380234</td>\n",
       "      <td>0.006076</td>\n",
       "      <td>1.260943</td>\n",
       "      <td>0.408325</td>\n",
       "      <td>0.068182</td>\n",
       "      <td>0.206943</td>\n",
       "      <td>0.195351</td>\n",
       "    </tr>\n",
       "    <tr>\n",
       "      <th>306</th>\n",
       "      <td>(spaghetti, frozen vegetables)</td>\n",
       "      <td>(ground beef)</td>\n",
       "      <td>0.012612</td>\n",
       "      <td>0.321782</td>\n",
       "      <td>2.359126</td>\n",
       "      <td>0.007266</td>\n",
       "      <td>1.273339</td>\n",
       "      <td>0.404607</td>\n",
       "      <td>0.077381</td>\n",
       "      <td>0.214663</td>\n",
       "      <td>0.207122</td>\n",
       "    </tr>\n",
       "    <tr>\n",
       "      <th>345</th>\n",
       "      <td>(spaghetti, milk)</td>\n",
       "      <td>(olive oil)</td>\n",
       "      <td>0.010283</td>\n",
       "      <td>0.204633</td>\n",
       "      <td>2.323083</td>\n",
       "      <td>0.005857</td>\n",
       "      <td>1.146531</td>\n",
       "      <td>0.398149</td>\n",
       "      <td>0.080303</td>\n",
       "      <td>0.127804</td>\n",
       "      <td>0.160687</td>\n",
       "    </tr>\n",
       "    <tr>\n",
       "      <th>305</th>\n",
       "      <td>(ground beef, frozen vegetables)</td>\n",
       "      <td>(spaghetti)</td>\n",
       "      <td>0.012612</td>\n",
       "      <td>0.511811</td>\n",
       "      <td>2.224177</td>\n",
       "      <td>0.006941</td>\n",
       "      <td>1.577028</td>\n",
       "      <td>0.379687</td>\n",
       "      <td>0.052083</td>\n",
       "      <td>0.365896</td>\n",
       "      <td>0.283309</td>\n",
       "    </tr>\n",
       "    <tr>\n",
       "      <th>339</th>\n",
       "      <td>(soup, mineral water)</td>\n",
       "      <td>(milk)</td>\n",
       "      <td>0.012418</td>\n",
       "      <td>0.369942</td>\n",
       "      <td>2.171620</td>\n",
       "      <td>0.006699</td>\n",
       "      <td>1.316779</td>\n",
       "      <td>0.369407</td>\n",
       "      <td>0.064843</td>\n",
       "      <td>0.240571</td>\n",
       "      <td>0.221418</td>\n",
       "    </tr>\n",
       "    <tr>\n",
       "      <th>191</th>\n",
       "      <td>(french fries, eggs)</td>\n",
       "      <td>(burgers)</td>\n",
       "      <td>0.011447</td>\n",
       "      <td>0.245833</td>\n",
       "      <td>2.151146</td>\n",
       "      <td>0.006126</td>\n",
       "      <td>1.174435</td>\n",
       "      <td>0.365310</td>\n",
       "      <td>0.076623</td>\n",
       "      <td>0.148527</td>\n",
       "      <td>0.173002</td>\n",
       "    </tr>\n",
       "    <tr>\n",
       "      <th>331</th>\n",
       "      <td>(spaghetti, mineral water)</td>\n",
       "      <td>(ground beef)</td>\n",
       "      <td>0.024835</td>\n",
       "      <td>0.291572</td>\n",
       "      <td>2.137640</td>\n",
       "      <td>0.013217</td>\n",
       "      <td>1.219038</td>\n",
       "      <td>0.362578</td>\n",
       "      <td>0.126233</td>\n",
       "      <td>0.179681</td>\n",
       "      <td>0.236824</td>\n",
       "    </tr>\n",
       "    <tr>\n",
       "      <th>315</th>\n",
       "      <td>(frozen vegetables, mineral water)</td>\n",
       "      <td>(shrimp)</td>\n",
       "      <td>0.010477</td>\n",
       "      <td>0.206897</td>\n",
       "      <td>2.082705</td>\n",
       "      <td>0.005447</td>\n",
       "      <td>1.135614</td>\n",
       "      <td>0.351219</td>\n",
       "      <td>0.075104</td>\n",
       "      <td>0.119419</td>\n",
       "      <td>0.156183</td>\n",
       "    </tr>\n",
       "  </tbody>\n",
       "</table>\n",
       "</div>"
      ],
      "text/plain": [
       "                            antecedents          consequents   support  \\\n",
       "177                 (whole wheat pasta)          (olive oil)  0.011059   \n",
       "127                     (herb & pepper)        (ground beef)  0.022895   \n",
       "314             (shrimp, mineral water)  (frozen vegetables)  0.010477   \n",
       "306      (spaghetti, frozen vegetables)        (ground beef)  0.012612   \n",
       "345                   (spaghetti, milk)          (olive oil)  0.010283   \n",
       "305    (ground beef, frozen vegetables)          (spaghetti)  0.012612   \n",
       "339               (soup, mineral water)               (milk)  0.012418   \n",
       "191                (french fries, eggs)            (burgers)  0.011447   \n",
       "331          (spaghetti, mineral water)        (ground beef)  0.024835   \n",
       "315  (frozen vegetables, mineral water)             (shrimp)  0.010477   \n",
       "\n",
       "     confidence      lift  leverage  conviction  zhangs_metric   jaccard  \\\n",
       "177    0.271429  3.081372  0.007470    1.251645       0.509969  0.093904   \n",
       "127    0.343023  2.514853  0.013791    1.314508       0.430986  0.127018   \n",
       "314    0.310345  2.380234  0.006076    1.260943       0.408325  0.068182   \n",
       "306    0.321782  2.359126  0.007266    1.273339       0.404607  0.077381   \n",
       "345    0.204633  2.323083  0.005857    1.146531       0.398149  0.080303   \n",
       "305    0.511811  2.224177  0.006941    1.577028       0.379687  0.052083   \n",
       "339    0.369942  2.171620  0.006699    1.316779       0.369407  0.064843   \n",
       "191    0.245833  2.151146  0.006126    1.174435       0.365310  0.076623   \n",
       "331    0.291572  2.137640  0.013217    1.219038       0.362578  0.126233   \n",
       "315    0.206897  2.082705  0.005447    1.135614       0.351219  0.075104   \n",
       "\n",
       "     certainty  kulczynski  \n",
       "177   0.201052    0.198490  \n",
       "127   0.239259    0.255438  \n",
       "314   0.206943    0.195351  \n",
       "306   0.214663    0.207122  \n",
       "345   0.127804    0.160687  \n",
       "305   0.365896    0.283309  \n",
       "339   0.240571    0.221418  \n",
       "191   0.148527    0.173002  \n",
       "331   0.179681    0.236824  \n",
       "315   0.119419    0.156183  "
      ]
     },
     "execution_count": 43,
     "metadata": {},
     "output_type": "execute_result"
    }
   ],
   "source": [
    "rules[['antecedents', 'consequents', 'support', 'confidence', 'lift', 'leverage', 'conviction', 'zhangs_metric', 'jaccard', 'certainty', 'kulczynski']].head(10)"
   ]
  },
  {
   "cell_type": "markdown",
   "id": "db43bab2-33b3-44b2-a864-3e89bc4e7341",
   "metadata": {},
   "source": [
    "#### C. •\tSet appropriate threshold for support, confidence and lift to extract meaning full rules."
   ]
  },
  {
   "cell_type": "code",
   "execution_count": 44,
   "id": "3ba0e509-8050-47d9-b4e7-18e05d31497e",
   "metadata": {},
   "outputs": [],
   "source": [
    "min_support = 0.01"
   ]
  },
  {
   "cell_type": "code",
   "execution_count": 45,
   "id": "2f264508-b432-41ac-ac9b-1040884f2b7c",
   "metadata": {},
   "outputs": [],
   "source": [
    "min_confidence = 0.2"
   ]
  },
  {
   "cell_type": "code",
   "execution_count": 46,
   "id": "cfcc7cfe-c8f8-46fe-8003-cb17e0721b3e",
   "metadata": {},
   "outputs": [],
   "source": [
    "min_lift = 1.2"
   ]
  },
  {
   "cell_type": "code",
   "execution_count": 47,
   "id": "42b715ad-2691-44ae-91c4-fcbb5539ee7b",
   "metadata": {},
   "outputs": [],
   "source": [
    "frequent_itemsets = apriori(df_onehot, min_support=min_support, use_colnames=True)\n",
    "rules = association_rules(frequent_itemsets, metric=\"confidence\", min_threshold=min_confidence)\n",
    "rules = rules[rules['lift'] >= min_lift].sort_values(by='lift', ascending=False)"
   ]
  },
  {
   "cell_type": "code",
   "execution_count": 48,
   "id": "8a4cdf25-9b8c-4022-87f8-2bd9467a245c",
   "metadata": {},
   "outputs": [
    {
     "data": {
      "text/html": [
       "<div>\n",
       "<style scoped>\n",
       "    .dataframe tbody tr th:only-of-type {\n",
       "        vertical-align: middle;\n",
       "    }\n",
       "\n",
       "    .dataframe tbody tr th {\n",
       "        vertical-align: top;\n",
       "    }\n",
       "\n",
       "    .dataframe thead th {\n",
       "        text-align: right;\n",
       "    }\n",
       "</style>\n",
       "<table border=\"1\" class=\"dataframe\">\n",
       "  <thead>\n",
       "    <tr style=\"text-align: right;\">\n",
       "      <th></th>\n",
       "      <th>antecedents</th>\n",
       "      <th>consequents</th>\n",
       "      <th>support</th>\n",
       "      <th>confidence</th>\n",
       "      <th>lift</th>\n",
       "    </tr>\n",
       "  </thead>\n",
       "  <tbody>\n",
       "    <tr>\n",
       "      <th>177</th>\n",
       "      <td>(whole wheat pasta)</td>\n",
       "      <td>(olive oil)</td>\n",
       "      <td>0.011059</td>\n",
       "      <td>0.271429</td>\n",
       "      <td>3.081372</td>\n",
       "    </tr>\n",
       "    <tr>\n",
       "      <th>127</th>\n",
       "      <td>(herb &amp; pepper)</td>\n",
       "      <td>(ground beef)</td>\n",
       "      <td>0.022895</td>\n",
       "      <td>0.343023</td>\n",
       "      <td>2.514853</td>\n",
       "    </tr>\n",
       "    <tr>\n",
       "      <th>314</th>\n",
       "      <td>(shrimp, mineral water)</td>\n",
       "      <td>(frozen vegetables)</td>\n",
       "      <td>0.010477</td>\n",
       "      <td>0.310345</td>\n",
       "      <td>2.380234</td>\n",
       "    </tr>\n",
       "    <tr>\n",
       "      <th>306</th>\n",
       "      <td>(spaghetti, frozen vegetables)</td>\n",
       "      <td>(ground beef)</td>\n",
       "      <td>0.012612</td>\n",
       "      <td>0.321782</td>\n",
       "      <td>2.359126</td>\n",
       "    </tr>\n",
       "    <tr>\n",
       "      <th>345</th>\n",
       "      <td>(spaghetti, milk)</td>\n",
       "      <td>(olive oil)</td>\n",
       "      <td>0.010283</td>\n",
       "      <td>0.204633</td>\n",
       "      <td>2.323083</td>\n",
       "    </tr>\n",
       "    <tr>\n",
       "      <th>305</th>\n",
       "      <td>(ground beef, frozen vegetables)</td>\n",
       "      <td>(spaghetti)</td>\n",
       "      <td>0.012612</td>\n",
       "      <td>0.511811</td>\n",
       "      <td>2.224177</td>\n",
       "    </tr>\n",
       "    <tr>\n",
       "      <th>339</th>\n",
       "      <td>(soup, mineral water)</td>\n",
       "      <td>(milk)</td>\n",
       "      <td>0.012418</td>\n",
       "      <td>0.369942</td>\n",
       "      <td>2.171620</td>\n",
       "    </tr>\n",
       "    <tr>\n",
       "      <th>191</th>\n",
       "      <td>(french fries, eggs)</td>\n",
       "      <td>(burgers)</td>\n",
       "      <td>0.011447</td>\n",
       "      <td>0.245833</td>\n",
       "      <td>2.151146</td>\n",
       "    </tr>\n",
       "    <tr>\n",
       "      <th>331</th>\n",
       "      <td>(spaghetti, mineral water)</td>\n",
       "      <td>(ground beef)</td>\n",
       "      <td>0.024835</td>\n",
       "      <td>0.291572</td>\n",
       "      <td>2.137640</td>\n",
       "    </tr>\n",
       "    <tr>\n",
       "      <th>315</th>\n",
       "      <td>(frozen vegetables, mineral water)</td>\n",
       "      <td>(shrimp)</td>\n",
       "      <td>0.010477</td>\n",
       "      <td>0.206897</td>\n",
       "      <td>2.082705</td>\n",
       "    </tr>\n",
       "  </tbody>\n",
       "</table>\n",
       "</div>"
      ],
      "text/plain": [
       "                            antecedents          consequents   support  \\\n",
       "177                 (whole wheat pasta)          (olive oil)  0.011059   \n",
       "127                     (herb & pepper)        (ground beef)  0.022895   \n",
       "314             (shrimp, mineral water)  (frozen vegetables)  0.010477   \n",
       "306      (spaghetti, frozen vegetables)        (ground beef)  0.012612   \n",
       "345                   (spaghetti, milk)          (olive oil)  0.010283   \n",
       "305    (ground beef, frozen vegetables)          (spaghetti)  0.012612   \n",
       "339               (soup, mineral water)               (milk)  0.012418   \n",
       "191                (french fries, eggs)            (burgers)  0.011447   \n",
       "331          (spaghetti, mineral water)        (ground beef)  0.024835   \n",
       "315  (frozen vegetables, mineral water)             (shrimp)  0.010477   \n",
       "\n",
       "     confidence      lift  \n",
       "177    0.271429  3.081372  \n",
       "127    0.343023  2.514853  \n",
       "314    0.310345  2.380234  \n",
       "306    0.321782  2.359126  \n",
       "345    0.204633  2.323083  \n",
       "305    0.511811  2.224177  \n",
       "339    0.369942  2.171620  \n",
       "191    0.245833  2.151146  \n",
       "331    0.291572  2.137640  \n",
       "315    0.206897  2.082705  "
      ]
     },
     "execution_count": 48,
     "metadata": {},
     "output_type": "execute_result"
    }
   ],
   "source": [
    "rules[['antecedents', 'consequents', 'support', 'confidence', 'lift']].head(10)"
   ]
  },
  {
   "cell_type": "markdown",
   "id": "f80885dd-c18e-4546-9e26-41c5e2558684",
   "metadata": {},
   "source": [
    "### Analysis and Interpretation"
   ]
  },
  {
   "cell_type": "markdown",
   "id": "d9e5c05f-7a4f-4e4a-ac80-2e7ef1bda8b0",
   "metadata": {},
   "source": [
    "Analyse the generated rules to identify interesting patterns and relationships between the products."
   ]
  },
  {
   "cell_type": "markdown",
   "id": "76012418-85ed-45e9-aa25-9d392926c280",
   "metadata": {},
   "source": [
    "Interpret the results and provide insights into customer purchasing behaviour based on the discovered rules."
   ]
  },
  {
   "cell_type": "code",
   "execution_count": 49,
   "id": "edba1670-4990-44fd-a94b-f353cfa49e08",
   "metadata": {},
   "outputs": [],
   "source": [
    "MIN_LIFT = 2.0\n",
    "MIN_CONFIDENCE = 0.2"
   ]
  },
  {
   "cell_type": "code",
   "execution_count": 50,
   "id": "78b3f4fc-991d-4419-a5f9-a27e23f9fb82",
   "metadata": {},
   "outputs": [],
   "source": [
    "strong_rules = rules[\n",
    "    (rules['lift'] >= MIN_LIFT) &\n",
    "    (rules['confidence'] >= MIN_CONFIDENCE)\n",
    "].sort_values(by=['lift', 'confidence'], ascending=[False, False])"
   ]
  },
  {
   "cell_type": "code",
   "execution_count": 51,
   "id": "52b1eea9-bab6-4d3e-9b57-7437cc05d96f",
   "metadata": {},
   "outputs": [],
   "source": [
    "strong_rules['antecedents'] = strong_rules['antecedents'].apply(lambda x: tuple(x))\n",
    "strong_rules['consequents'] = strong_rules['consequents'].apply(lambda x: tuple(x))\n"
   ]
  },
  {
   "cell_type": "code",
   "execution_count": 52,
   "id": "c4047a33-d43b-4515-89cb-28d11a7f9a5c",
   "metadata": {},
   "outputs": [],
   "source": [
    "final_rules = strong_rules[['antecedents', 'consequents', 'support', 'confidence', 'lift']]\n"
   ]
  },
  {
   "cell_type": "code",
   "execution_count": 53,
   "id": "e397f6da-f2c1-4bda-ac91-c5e538d7d17f",
   "metadata": {},
   "outputs": [
    {
     "name": "stdout",
     "output_type": "stream",
     "text": [
      "--- Top 10 Strongest Rules (Lift >= 2.0, Confidence >= 0.2) ---\n",
      "                            antecedents           consequents   support  \\\n",
      "177                (whole wheat pasta,)          (olive oil,)  0.011059   \n",
      "127                    (herb & pepper,)        (ground beef,)  0.022895   \n",
      "314             (shrimp, mineral water)  (frozen vegetables,)  0.010477   \n",
      "306      (spaghetti, frozen vegetables)        (ground beef,)  0.012612   \n",
      "345                   (spaghetti, milk)          (olive oil,)  0.010283   \n",
      "305    (ground beef, frozen vegetables)          (spaghetti,)  0.012612   \n",
      "339               (soup, mineral water)               (milk,)  0.012418   \n",
      "191                (french fries, eggs)            (burgers,)  0.011447   \n",
      "331          (spaghetti, mineral water)        (ground beef,)  0.024835   \n",
      "315  (frozen vegetables, mineral water)             (shrimp,)  0.010477   \n",
      "\n",
      "     confidence      lift  \n",
      "177    0.271429  3.081372  \n",
      "127    0.343023  2.514853  \n",
      "314    0.310345  2.380234  \n",
      "306    0.321782  2.359126  \n",
      "345    0.204633  2.323083  \n",
      "305    0.511811  2.224177  \n",
      "339    0.369942  2.171620  \n",
      "191    0.245833  2.151146  \n",
      "331    0.291572  2.137640  \n",
      "315    0.206897  2.082705  \n"
     ]
    }
   ],
   "source": [
    "print(f\"--- Top 10 Strongest Rules (Lift >= {MIN_LIFT}, Confidence >= {MIN_CONFIDENCE}) ---\")\n",
    "print(final_rules.head(10))"
   ]
  },
  {
   "cell_type": "markdown",
   "id": "61a9b168-3d36-4f1f-8f2f-b2484cb5a3f2",
   "metadata": {},
   "source": [
    "#### association rules by using more different values of support,confidences "
   ]
  },
  {
   "cell_type": "code",
   "execution_count": 54,
   "id": "fe890555-8709-4e85-aea2-28e92b7575c6",
   "metadata": {},
   "outputs": [],
   "source": [
    "from mlxtend.frequent_patterns import apriori, association_rules\n",
    "import pandas as pd"
   ]
  },
  {
   "cell_type": "code",
   "execution_count": 55,
   "id": "8b9da62c-5121-49b4-970d-5ccb180a9158",
   "metadata": {},
   "outputs": [],
   "source": [
    "from mlxtend.frequent_patterns import apriori, association_rules\n",
    "import pandas as pd"
   ]
  },
  {
   "cell_type": "code",
   "execution_count": 56,
   "id": "03922e05-8dd0-44b9-802d-53c97edda2aa",
   "metadata": {},
   "outputs": [],
   "source": [
    "support_values = [0.05, 0.1, 0.15]\n",
    "confidence_values = [0.5, 0.6, 0.7]\n"
   ]
  },
  {
   "cell_type": "code",
   "execution_count": 57,
   "id": "5222038a-e93a-471d-9cd0-0bc628f3bd16",
   "metadata": {},
   "outputs": [
    {
     "name": "stdout",
     "output_type": "stream",
     "text": [
      "[{'support': 0.05, 'confidence': 0.5, 'num_rules': 3}, {'support': 0.1, 'confidence': 0.6, 'num_rules': 3}, {'support': 0.15, 'confidence': 0.7, 'num_rules': 3}]\n"
     ]
    }
   ],
   "source": [
    "data = {\n",
    "    'antecedents': [{'milk'}, {'bread'}, {'milk', 'bread'}],\n",
    "    'consequents': [{'bread'}, {'butter'}, {'butter'}]\n",
    "}\n",
    "rules = pd.DataFrame(data)\n",
    "\n",
    "support_values = [0.05, 0.1, 0.15]\n",
    "confidence_values = [0.5, 0.6, 0.7]\n",
    "\n",
    "results = []\n",
    "\n",
    "for support, confidence in zip(support_values, confidence_values):\n",
    "    rules[\"antecedents_str\"] = rules[\"antecedents\"].apply(lambda x: ', '.join(sorted(list(x))))\n",
    "    rules[\"consequents_str\"] = rules[\"consequents\"].apply(lambda x: ', '.join(sorted(list(x))))\n",
    "    rules[\"rule\"] = rules[\"antecedents_str\"] + \" -> \" + rules[\"consequents_str\"]\n",
    "    rules = rules.drop_duplicates(subset=[\"rule\"])\n",
    "    results.append({\n",
    "        \"support\": support,\n",
    "        \"confidence\": confidence,\n",
    "        \"num_rules\": rules.shape[0]\n",
    "    })\n",
    "\n",
    "print(results)"
   ]
  },
  {
   "cell_type": "markdown",
   "id": "664549b9-fdc9-4e26-b2dc-e30e1c89d7a9",
   "metadata": {},
   "source": [
    "number of association rules gained"
   ]
  },
  {
   "cell_type": "code",
   "execution_count": 58,
   "id": "ca919fbb-5256-4e53-8a5a-e20da992c4b4",
   "metadata": {},
   "outputs": [],
   "source": [
    "data = {\n",
    "    'milk': [1, 0, 1, 1],\n",
    "    'bread': [1, 1, 0, 1],\n",
    "    'butter': [0, 1, 1, 1],\n",
    "}"
   ]
  },
  {
   "cell_type": "code",
   "execution_count": 59,
   "id": "9a8d75e9-a5ad-4a75-84e1-183e3e37e4be",
   "metadata": {},
   "outputs": [],
   "source": [
    "df = pd.DataFrame(data)"
   ]
  },
  {
   "cell_type": "code",
   "execution_count": 60,
   "id": "fead485e-7229-4053-8913-392eff969f31",
   "metadata": {},
   "outputs": [],
   "source": [
    "support_values = [0.05, 0.1, 0.15]\n",
    "confidence_values = [0.5, 0.6, 0.7]"
   ]
  },
  {
   "cell_type": "code",
   "execution_count": 65,
   "id": "cea09042-7280-4bf6-a6e1-0552507da10c",
   "metadata": {},
   "outputs": [],
   "source": [
    "results = []"
   ]
  },
  {
   "cell_type": "code",
   "execution_count": 64,
   "id": "f26ec129-1b60-426d-ae4d-98bb8ed7b913",
   "metadata": {},
   "outputs": [],
   "source": [
    "df_bool = df.astype(bool)"
   ]
  },
  {
   "cell_type": "code",
   "execution_count": 63,
   "id": "6ceba8c8-9376-47f7-b0aa-8e22e1074040",
   "metadata": {},
   "outputs": [
    {
     "name": "stdout",
     "output_type": "stream",
     "text": [
      "   support  confidence  num_rules\n",
      "0     0.15         0.5          9\n",
      "1     0.15         0.6          6\n",
      "2     0.15         0.7          0\n"
     ]
    }
   ],
   "source": [
    "frequent_itemsets = apriori(df_bool, min_support=support, use_colnames=True)\n",
    "\n",
    "for confidence in confidence_values:\n",
    "    rules = association_rules(frequent_itemsets, metric=\"confidence\", min_threshold=confidence)\n",
    "\n",
    "    num_rules = rules.shape[0]\n",
    "\n",
    "    results.append({\n",
    "        \"support\": support,\n",
    "        \"confidence\": confidence,\n",
    "        \"num_rules\": num_rules\n",
    "    })\n",
    "\n",
    "print(pd.DataFrame(results))"
   ]
  },
  {
   "cell_type": "markdown",
   "id": "79d22d54-f798-42f0-922e-4004b1ae0e81",
   "metadata": {},
   "source": [
    "To eliminate redundant rules"
   ]
  },
  {
   "cell_type": "code",
   "execution_count": 66,
   "id": "7853b73a-3369-4f22-95b1-afae17055897",
   "metadata": {},
   "outputs": [],
   "source": [
    "support_values = [0.05, 0.1, 0.15]\n",
    "confidence_values = [0.5, 0.6, 0.7]"
   ]
  },
  {
   "cell_type": "code",
   "execution_count": 67,
   "id": "aa40afb4-5e16-46c0-8964-e4f5cbd35622",
   "metadata": {},
   "outputs": [
    {
     "name": "stdout",
     "output_type": "stream",
     "text": [
      "   support  confidence  num_rules\n",
      "0     0.15         0.5          9\n",
      "   support  confidence  num_rules\n",
      "0     0.15         0.5          9\n",
      "1     0.15         0.6          6\n",
      "   support  confidence  num_rules\n",
      "0     0.15         0.5          9\n",
      "1     0.15         0.6          6\n",
      "2     0.15         0.7          0\n"
     ]
    }
   ],
   "source": [
    "for confidence in confidence_values:\n",
    "    rules = association_rules(frequent_itemsets, metric=\"confidence\", min_threshold=confidence)\n",
    "    \n",
    "    # Drop duplicates to remove redundant rules\n",
    "    rules = rules.drop_duplicates(subset=['antecedents', 'consequents'])\n",
    "    \n",
    "    num_rules = rules.shape[0]\n",
    "\n",
    "    results.append({\n",
    "        \"support\": support,\n",
    "        \"confidence\": confidence,\n",
    "        \"num_rules\": num_rules\n",
    "    })\n",
    "    print(pd.DataFrame(results))\n"
   ]
  },
  {
   "cell_type": "code",
   "execution_count": 68,
   "id": "371d2e5c-cea0-4a2b-853f-5797e8de5d1b",
   "metadata": {},
   "outputs": [],
   "source": [
    "rules = rules.drop_duplicates(subset=['antecedents', 'consequents'])"
   ]
  },
  {
   "cell_type": "code",
   "execution_count": 69,
   "id": "76de8ea1-d1ec-42c1-a02a-a1eac708ae53",
   "metadata": {},
   "outputs": [
    {
     "data": {
      "text/plain": [
       "0"
      ]
     },
     "execution_count": 69,
     "metadata": {},
     "output_type": "execute_result"
    }
   ],
   "source": [
    "num_rules"
   ]
  },
  {
   "cell_type": "markdown",
   "id": "e67ed75b-e7d0-407b-86b8-c64f9927946e",
   "metadata": {},
   "source": [
    "### Interview Questions"
   ]
  },
  {
   "cell_type": "markdown",
   "id": "ef0c48f8-fc4d-4ac6-bb7c-49c44a04f57d",
   "metadata": {},
   "source": [
    "1.\tWhat is lift and why is it important in Association rules?"
   ]
  },
  {
   "cell_type": "markdown",
   "id": "7233a2eb-c3fb-4598-a6da-05f8601f4c5d",
   "metadata": {},
   "source": [
    "1. What is lift and why is it important in Association rules?  \n",
    "   Lift measures how much more often the antecedent and consequent occur together than expected if they were independent.  \n",
    "   Formula: Lift(A→B) = Support(A ∪ B) / (Support(A) * Support(B))  \n",
    "   Importance: It shows the strength and interestingness of a rule; a lift > 1 indicates a positive association."
   ]
  },
  {
   "cell_type": "markdown",
   "id": "9e7de6eb-334e-4b46-a19b-0e5845e2934d",
   "metadata": {},
   "source": [
    "2. What is support and confidence? How do you calculate them?  \n",
    "   - Support: The proportion of transactions that contain the itemset.  \n",
    "     Support(A) = (Number of transactions containing A) / (Total transactions)  \n",
    "   - Confidence: The likelihood of occurrence of the consequent given the antecedent.  \n",
    "     Confidence(A→B) = Support(A ∪ B) / Support(A)\n"
   ]
  },
  {
   "cell_type": "markdown",
   "id": "3f4e68d3-6e33-4e68-b6bc-b8a437e0ad75",
   "metadata": {},
   "source": [
    "3. What are some limitations or challenges of Association rules mining?  \n",
    "   - Can generate a huge number of rules, many of which may be irrelevant or redundant.  \n",
    "   - Doesn’t consider causality, only correlations.  \n",
    "   - Sensitive to choice of support and confidence thresholds.  \n",
    "   - Computationally expensive on large datasets.  \n",
    "   - May miss interesting rare itemsets due to minimum support thresholds.\n"
   ]
  },
  {
   "cell_type": "code",
   "execution_count": null,
   "id": "07cc8e13-a087-4ef4-95b3-e7dd3e993962",
   "metadata": {},
   "outputs": [],
   "source": []
  }
 ],
 "metadata": {
  "kernelspec": {
   "display_name": "Python [conda env:base] *",
   "language": "python",
   "name": "conda-base-py"
  },
  "language_info": {
   "codemirror_mode": {
    "name": "ipython",
    "version": 3
   },
   "file_extension": ".py",
   "mimetype": "text/x-python",
   "name": "python",
   "nbconvert_exporter": "python",
   "pygments_lexer": "ipython3",
   "version": "3.13.5"
  }
 },
 "nbformat": 4,
 "nbformat_minor": 5
}
