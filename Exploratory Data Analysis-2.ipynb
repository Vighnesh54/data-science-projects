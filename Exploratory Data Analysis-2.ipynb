{
 "cells": [
  {
   "cell_type": "markdown",
   "id": "8de5d933-3e6e-4ad0-b7c3-c0f5ba8ba47a",
   "metadata": {},
   "source": [
    "#### DATA PREPROCESSING AND FEATURE ENGINEERING IN MACHINE LEARNING"
   ]
  },
  {
   "cell_type": "code",
   "execution_count": 1,
   "id": "4d8c2075-c1d8-49d5-a389-d478dc58afdb",
   "metadata": {},
   "outputs": [],
   "source": [
    "import pandas as pd\n",
    "import numpy as np\n",
    "import matplotlib.pyplot as plt\n",
    "import seaborn as sns\n",
    "\n",
    "\n",
    "from sklearn.preprocessing import StandardScaler,MinMaxScaler,LabelEncoder"
   ]
  },
  {
   "cell_type": "markdown",
   "id": "16fc69f0-10c1-4a80-bea8-828e660e4376",
   "metadata": {},
   "source": [
    "### 1. Data Exploration and Preprocessing:"
   ]
  },
  {
   "cell_type": "markdown",
   "id": "146333e4-a1ae-480c-b58a-07ff18d1b420",
   "metadata": {},
   "source": [
    "Load the dataset and conduct basic data exploration (summary statistics, missing values, data types)."
   ]
  },
  {
   "cell_type": "code",
   "execution_count": 4,
   "id": "06845270-aeb9-4c5e-8a15-e0c05b3cde78",
   "metadata": {},
   "outputs": [
    {
     "data": {
      "text/html": [
       "<div>\n",
       "<style scoped>\n",
       "    .dataframe tbody tr th:only-of-type {\n",
       "        vertical-align: middle;\n",
       "    }\n",
       "\n",
       "    .dataframe tbody tr th {\n",
       "        vertical-align: top;\n",
       "    }\n",
       "\n",
       "    .dataframe thead th {\n",
       "        text-align: right;\n",
       "    }\n",
       "</style>\n",
       "<table border=\"1\" class=\"dataframe\">\n",
       "  <thead>\n",
       "    <tr style=\"text-align: right;\">\n",
       "      <th></th>\n",
       "      <th>age</th>\n",
       "      <th>workclass</th>\n",
       "      <th>fnlwgt</th>\n",
       "      <th>education</th>\n",
       "      <th>education_num</th>\n",
       "      <th>marital_status</th>\n",
       "      <th>occupation</th>\n",
       "      <th>relationship</th>\n",
       "      <th>race</th>\n",
       "      <th>sex</th>\n",
       "      <th>capital_gain</th>\n",
       "      <th>capital_loss</th>\n",
       "      <th>hours_per_week</th>\n",
       "      <th>native_country</th>\n",
       "      <th>income</th>\n",
       "    </tr>\n",
       "  </thead>\n",
       "  <tbody>\n",
       "    <tr>\n",
       "      <th>0</th>\n",
       "      <td>39</td>\n",
       "      <td>State-gov</td>\n",
       "      <td>77516</td>\n",
       "      <td>Bachelors</td>\n",
       "      <td>13</td>\n",
       "      <td>Never-married</td>\n",
       "      <td>Adm-clerical</td>\n",
       "      <td>Not-in-family</td>\n",
       "      <td>White</td>\n",
       "      <td>Male</td>\n",
       "      <td>2174</td>\n",
       "      <td>0</td>\n",
       "      <td>40</td>\n",
       "      <td>United-States</td>\n",
       "      <td>&lt;=50K</td>\n",
       "    </tr>\n",
       "    <tr>\n",
       "      <th>1</th>\n",
       "      <td>50</td>\n",
       "      <td>Self-emp-not-inc</td>\n",
       "      <td>83311</td>\n",
       "      <td>Bachelors</td>\n",
       "      <td>13</td>\n",
       "      <td>Married-civ-spouse</td>\n",
       "      <td>Exec-managerial</td>\n",
       "      <td>Husband</td>\n",
       "      <td>White</td>\n",
       "      <td>Male</td>\n",
       "      <td>0</td>\n",
       "      <td>0</td>\n",
       "      <td>13</td>\n",
       "      <td>United-States</td>\n",
       "      <td>&lt;=50K</td>\n",
       "    </tr>\n",
       "    <tr>\n",
       "      <th>2</th>\n",
       "      <td>38</td>\n",
       "      <td>Private</td>\n",
       "      <td>215646</td>\n",
       "      <td>HS-grad</td>\n",
       "      <td>9</td>\n",
       "      <td>Divorced</td>\n",
       "      <td>Handlers-cleaners</td>\n",
       "      <td>Not-in-family</td>\n",
       "      <td>White</td>\n",
       "      <td>Male</td>\n",
       "      <td>0</td>\n",
       "      <td>0</td>\n",
       "      <td>40</td>\n",
       "      <td>United-States</td>\n",
       "      <td>&lt;=50K</td>\n",
       "    </tr>\n",
       "    <tr>\n",
       "      <th>3</th>\n",
       "      <td>53</td>\n",
       "      <td>Private</td>\n",
       "      <td>234721</td>\n",
       "      <td>11th</td>\n",
       "      <td>7</td>\n",
       "      <td>Married-civ-spouse</td>\n",
       "      <td>Handlers-cleaners</td>\n",
       "      <td>Husband</td>\n",
       "      <td>Black</td>\n",
       "      <td>Male</td>\n",
       "      <td>0</td>\n",
       "      <td>0</td>\n",
       "      <td>40</td>\n",
       "      <td>United-States</td>\n",
       "      <td>&lt;=50K</td>\n",
       "    </tr>\n",
       "    <tr>\n",
       "      <th>4</th>\n",
       "      <td>28</td>\n",
       "      <td>Private</td>\n",
       "      <td>338409</td>\n",
       "      <td>Bachelors</td>\n",
       "      <td>13</td>\n",
       "      <td>Married-civ-spouse</td>\n",
       "      <td>Prof-specialty</td>\n",
       "      <td>Wife</td>\n",
       "      <td>Black</td>\n",
       "      <td>Female</td>\n",
       "      <td>0</td>\n",
       "      <td>0</td>\n",
       "      <td>40</td>\n",
       "      <td>Cuba</td>\n",
       "      <td>&lt;=50K</td>\n",
       "    </tr>\n",
       "  </tbody>\n",
       "</table>\n",
       "</div>"
      ],
      "text/plain": [
       "   age          workclass  fnlwgt   education  education_num  \\\n",
       "0   39          State-gov   77516   Bachelors             13   \n",
       "1   50   Self-emp-not-inc   83311   Bachelors             13   \n",
       "2   38            Private  215646     HS-grad              9   \n",
       "3   53            Private  234721        11th              7   \n",
       "4   28            Private  338409   Bachelors             13   \n",
       "\n",
       "        marital_status          occupation    relationship    race      sex  \\\n",
       "0        Never-married        Adm-clerical   Not-in-family   White     Male   \n",
       "1   Married-civ-spouse     Exec-managerial         Husband   White     Male   \n",
       "2             Divorced   Handlers-cleaners   Not-in-family   White     Male   \n",
       "3   Married-civ-spouse   Handlers-cleaners         Husband   Black     Male   \n",
       "4   Married-civ-spouse      Prof-specialty            Wife   Black   Female   \n",
       "\n",
       "   capital_gain  capital_loss  hours_per_week  native_country  income  \n",
       "0          2174             0              40   United-States   <=50K  \n",
       "1             0             0              13   United-States   <=50K  \n",
       "2             0             0              40   United-States   <=50K  \n",
       "3             0             0              40   United-States   <=50K  \n",
       "4             0             0              40            Cuba   <=50K  "
      ]
     },
     "execution_count": 4,
     "metadata": {},
     "output_type": "execute_result"
    }
   ],
   "source": [
    "awh = pd.read_csv('adult_with_headers.csv')\n",
    "awh.head()"
   ]
  },
  {
   "cell_type": "markdown",
   "id": "07c5ce47-6a47-45d3-8677-945e8f1622e8",
   "metadata": {},
   "source": [
    "##### Basic info"
   ]
  },
  {
   "cell_type": "code",
   "execution_count": 5,
   "id": "88850b6a-3d9e-4627-9256-ddffb8bbc3bd",
   "metadata": {},
   "outputs": [
    {
     "name": "stdout",
     "output_type": "stream",
     "text": [
      "<class 'pandas.core.frame.DataFrame'>\n",
      "RangeIndex: 32561 entries, 0 to 32560\n",
      "Data columns (total 15 columns):\n",
      " #   Column          Non-Null Count  Dtype \n",
      "---  ------          --------------  ----- \n",
      " 0   age             32561 non-null  int64 \n",
      " 1   workclass       32561 non-null  object\n",
      " 2   fnlwgt          32561 non-null  int64 \n",
      " 3   education       32561 non-null  object\n",
      " 4   education_num   32561 non-null  int64 \n",
      " 5   marital_status  32561 non-null  object\n",
      " 6   occupation      32561 non-null  object\n",
      " 7   relationship    32561 non-null  object\n",
      " 8   race            32561 non-null  object\n",
      " 9   sex             32561 non-null  object\n",
      " 10  capital_gain    32561 non-null  int64 \n",
      " 11  capital_loss    32561 non-null  int64 \n",
      " 12  hours_per_week  32561 non-null  int64 \n",
      " 13  native_country  32561 non-null  object\n",
      " 14  income          32561 non-null  object\n",
      "dtypes: int64(6), object(9)\n",
      "memory usage: 3.7+ MB\n"
     ]
    }
   ],
   "source": [
    "awh.info()"
   ]
  },
  {
   "cell_type": "markdown",
   "id": "90e8950f-ebc8-42e1-81a1-8f29a331f568",
   "metadata": {},
   "source": [
    "##### Summary statistics for numerical columns\n"
   ]
  },
  {
   "cell_type": "code",
   "execution_count": 6,
   "id": "e27be3b1-a277-4c94-a87a-5b58cca7745d",
   "metadata": {},
   "outputs": [
    {
     "data": {
      "text/html": [
       "<div>\n",
       "<style scoped>\n",
       "    .dataframe tbody tr th:only-of-type {\n",
       "        vertical-align: middle;\n",
       "    }\n",
       "\n",
       "    .dataframe tbody tr th {\n",
       "        vertical-align: top;\n",
       "    }\n",
       "\n",
       "    .dataframe thead th {\n",
       "        text-align: right;\n",
       "    }\n",
       "</style>\n",
       "<table border=\"1\" class=\"dataframe\">\n",
       "  <thead>\n",
       "    <tr style=\"text-align: right;\">\n",
       "      <th></th>\n",
       "      <th>age</th>\n",
       "      <th>fnlwgt</th>\n",
       "      <th>education_num</th>\n",
       "      <th>capital_gain</th>\n",
       "      <th>capital_loss</th>\n",
       "      <th>hours_per_week</th>\n",
       "    </tr>\n",
       "  </thead>\n",
       "  <tbody>\n",
       "    <tr>\n",
       "      <th>count</th>\n",
       "      <td>32561.000000</td>\n",
       "      <td>3.256100e+04</td>\n",
       "      <td>32561.000000</td>\n",
       "      <td>32561.000000</td>\n",
       "      <td>32561.000000</td>\n",
       "      <td>32561.000000</td>\n",
       "    </tr>\n",
       "    <tr>\n",
       "      <th>mean</th>\n",
       "      <td>38.581647</td>\n",
       "      <td>1.897784e+05</td>\n",
       "      <td>10.080679</td>\n",
       "      <td>1077.648844</td>\n",
       "      <td>87.303830</td>\n",
       "      <td>40.437456</td>\n",
       "    </tr>\n",
       "    <tr>\n",
       "      <th>std</th>\n",
       "      <td>13.640433</td>\n",
       "      <td>1.055500e+05</td>\n",
       "      <td>2.572720</td>\n",
       "      <td>7385.292085</td>\n",
       "      <td>402.960219</td>\n",
       "      <td>12.347429</td>\n",
       "    </tr>\n",
       "    <tr>\n",
       "      <th>min</th>\n",
       "      <td>17.000000</td>\n",
       "      <td>1.228500e+04</td>\n",
       "      <td>1.000000</td>\n",
       "      <td>0.000000</td>\n",
       "      <td>0.000000</td>\n",
       "      <td>1.000000</td>\n",
       "    </tr>\n",
       "    <tr>\n",
       "      <th>25%</th>\n",
       "      <td>28.000000</td>\n",
       "      <td>1.178270e+05</td>\n",
       "      <td>9.000000</td>\n",
       "      <td>0.000000</td>\n",
       "      <td>0.000000</td>\n",
       "      <td>40.000000</td>\n",
       "    </tr>\n",
       "    <tr>\n",
       "      <th>50%</th>\n",
       "      <td>37.000000</td>\n",
       "      <td>1.783560e+05</td>\n",
       "      <td>10.000000</td>\n",
       "      <td>0.000000</td>\n",
       "      <td>0.000000</td>\n",
       "      <td>40.000000</td>\n",
       "    </tr>\n",
       "    <tr>\n",
       "      <th>75%</th>\n",
       "      <td>48.000000</td>\n",
       "      <td>2.370510e+05</td>\n",
       "      <td>12.000000</td>\n",
       "      <td>0.000000</td>\n",
       "      <td>0.000000</td>\n",
       "      <td>45.000000</td>\n",
       "    </tr>\n",
       "    <tr>\n",
       "      <th>max</th>\n",
       "      <td>90.000000</td>\n",
       "      <td>1.484705e+06</td>\n",
       "      <td>16.000000</td>\n",
       "      <td>99999.000000</td>\n",
       "      <td>4356.000000</td>\n",
       "      <td>99.000000</td>\n",
       "    </tr>\n",
       "  </tbody>\n",
       "</table>\n",
       "</div>"
      ],
      "text/plain": [
       "                age        fnlwgt  education_num  capital_gain  capital_loss  \\\n",
       "count  32561.000000  3.256100e+04   32561.000000  32561.000000  32561.000000   \n",
       "mean      38.581647  1.897784e+05      10.080679   1077.648844     87.303830   \n",
       "std       13.640433  1.055500e+05       2.572720   7385.292085    402.960219   \n",
       "min       17.000000  1.228500e+04       1.000000      0.000000      0.000000   \n",
       "25%       28.000000  1.178270e+05       9.000000      0.000000      0.000000   \n",
       "50%       37.000000  1.783560e+05      10.000000      0.000000      0.000000   \n",
       "75%       48.000000  2.370510e+05      12.000000      0.000000      0.000000   \n",
       "max       90.000000  1.484705e+06      16.000000  99999.000000   4356.000000   \n",
       "\n",
       "       hours_per_week  \n",
       "count    32561.000000  \n",
       "mean        40.437456  \n",
       "std         12.347429  \n",
       "min          1.000000  \n",
       "25%         40.000000  \n",
       "50%         40.000000  \n",
       "75%         45.000000  \n",
       "max         99.000000  "
      ]
     },
     "execution_count": 6,
     "metadata": {},
     "output_type": "execute_result"
    }
   ],
   "source": [
    "awh.describe()"
   ]
  },
  {
   "cell_type": "markdown",
   "id": "4ad870fa-8db6-45ef-a8e3-d481a5182c8f",
   "metadata": {},
   "source": [
    "##### Check missing values"
   ]
  },
  {
   "cell_type": "code",
   "execution_count": 7,
   "id": "563279b7-24e9-4f3c-8df4-71c5ac877a2a",
   "metadata": {},
   "outputs": [
    {
     "data": {
      "text/plain": [
       "age               0\n",
       "workclass         0\n",
       "fnlwgt            0\n",
       "education         0\n",
       "education_num     0\n",
       "marital_status    0\n",
       "occupation        0\n",
       "relationship      0\n",
       "race              0\n",
       "sex               0\n",
       "capital_gain      0\n",
       "capital_loss      0\n",
       "hours_per_week    0\n",
       "native_country    0\n",
       "income            0\n",
       "dtype: int64"
      ]
     },
     "execution_count": 7,
     "metadata": {},
     "output_type": "execute_result"
    }
   ],
   "source": [
    "awh.isnull().sum()"
   ]
  },
  {
   "cell_type": "markdown",
   "id": "bd8f64a3-5da0-42ed-962e-94eceec4385b",
   "metadata": {},
   "source": [
    "##### Check data types"
   ]
  },
  {
   "cell_type": "code",
   "execution_count": 8,
   "id": "266de1fa-32c0-4d1f-93cf-d7c9d34227d3",
   "metadata": {},
   "outputs": [
    {
     "data": {
      "text/plain": [
       "age                int64\n",
       "workclass         object\n",
       "fnlwgt             int64\n",
       "education         object\n",
       "education_num      int64\n",
       "marital_status    object\n",
       "occupation        object\n",
       "relationship      object\n",
       "race              object\n",
       "sex               object\n",
       "capital_gain       int64\n",
       "capital_loss       int64\n",
       "hours_per_week     int64\n",
       "native_country    object\n",
       "income            object\n",
       "dtype: object"
      ]
     },
     "execution_count": 8,
     "metadata": {},
     "output_type": "execute_result"
    }
   ],
   "source": [
    "awh.dtypes"
   ]
  },
  {
   "cell_type": "markdown",
   "id": "0f36aad4-dba3-4305-9ff5-fd2d6d61f39f",
   "metadata": {},
   "source": [
    "##### •\tHandle missing values as per the best practices (imputation, removal, etc.)."
   ]
  },
  {
   "cell_type": "code",
   "execution_count": 17,
   "id": "5012428b-13db-4125-b3b8-713d555479e5",
   "metadata": {},
   "outputs": [],
   "source": [
    "cat_cols = awh.select_dtypes(include='object').columns"
   ]
  },
  {
   "cell_type": "code",
   "execution_count": 18,
   "id": "90abb8b4-418d-4c9f-96ea-46a1030faa77",
   "metadata": {},
   "outputs": [],
   "source": [
    "awh = awh.replace('?',np.nan)"
   ]
  },
  {
   "cell_type": "code",
   "execution_count": 56,
   "id": "b9feecd9-e724-4aea-a5bb-301362a6a4df",
   "metadata": {},
   "outputs": [],
   "source": [
    "if awh[col].isnull().sum()>0:\n",
    "    mode_val = awh[col].mode()[0]\n",
    "    awh[col].fillna(mode_val,inplace=True)"
   ]
  },
  {
   "cell_type": "code",
   "execution_count": null,
   "id": "aef403d0-f0a6-4edd-9322-5823b69f0964",
   "metadata": {},
   "outputs": [],
   "source": [
    "•\tApply scaling techniques to numerical features:\n",
    "•\tStandard Scaling\n",
    "•\tMin-Max Scaling"
   ]
  },
  {
   "cell_type": "code",
   "execution_count": 21,
   "id": "a23076bc-ac01-41c6-aa29-fb3fea11a6c0",
   "metadata": {},
   "outputs": [],
   "source": [
    "num_columns = awh.select_dtypes(include=['number'])"
   ]
  },
  {
   "cell_type": "code",
   "execution_count": 22,
   "id": "342d8267-2a12-481b-8605-06db6b6f9fce",
   "metadata": {},
   "outputs": [
    {
     "data": {
      "text/html": [
       "<div>\n",
       "<style scoped>\n",
       "    .dataframe tbody tr th:only-of-type {\n",
       "        vertical-align: middle;\n",
       "    }\n",
       "\n",
       "    .dataframe tbody tr th {\n",
       "        vertical-align: top;\n",
       "    }\n",
       "\n",
       "    .dataframe thead th {\n",
       "        text-align: right;\n",
       "    }\n",
       "</style>\n",
       "<table border=\"1\" class=\"dataframe\">\n",
       "  <thead>\n",
       "    <tr style=\"text-align: right;\">\n",
       "      <th></th>\n",
       "      <th>age</th>\n",
       "      <th>fnlwgt</th>\n",
       "      <th>education_num</th>\n",
       "      <th>capital_gain</th>\n",
       "      <th>capital_loss</th>\n",
       "      <th>hours_per_week</th>\n",
       "    </tr>\n",
       "  </thead>\n",
       "  <tbody>\n",
       "    <tr>\n",
       "      <th>0</th>\n",
       "      <td>39</td>\n",
       "      <td>77516</td>\n",
       "      <td>13</td>\n",
       "      <td>2174</td>\n",
       "      <td>0</td>\n",
       "      <td>40</td>\n",
       "    </tr>\n",
       "    <tr>\n",
       "      <th>1</th>\n",
       "      <td>50</td>\n",
       "      <td>83311</td>\n",
       "      <td>13</td>\n",
       "      <td>0</td>\n",
       "      <td>0</td>\n",
       "      <td>13</td>\n",
       "    </tr>\n",
       "    <tr>\n",
       "      <th>2</th>\n",
       "      <td>38</td>\n",
       "      <td>215646</td>\n",
       "      <td>9</td>\n",
       "      <td>0</td>\n",
       "      <td>0</td>\n",
       "      <td>40</td>\n",
       "    </tr>\n",
       "    <tr>\n",
       "      <th>3</th>\n",
       "      <td>53</td>\n",
       "      <td>234721</td>\n",
       "      <td>7</td>\n",
       "      <td>0</td>\n",
       "      <td>0</td>\n",
       "      <td>40</td>\n",
       "    </tr>\n",
       "    <tr>\n",
       "      <th>4</th>\n",
       "      <td>28</td>\n",
       "      <td>338409</td>\n",
       "      <td>13</td>\n",
       "      <td>0</td>\n",
       "      <td>0</td>\n",
       "      <td>40</td>\n",
       "    </tr>\n",
       "    <tr>\n",
       "      <th>...</th>\n",
       "      <td>...</td>\n",
       "      <td>...</td>\n",
       "      <td>...</td>\n",
       "      <td>...</td>\n",
       "      <td>...</td>\n",
       "      <td>...</td>\n",
       "    </tr>\n",
       "    <tr>\n",
       "      <th>32556</th>\n",
       "      <td>27</td>\n",
       "      <td>257302</td>\n",
       "      <td>12</td>\n",
       "      <td>0</td>\n",
       "      <td>0</td>\n",
       "      <td>38</td>\n",
       "    </tr>\n",
       "    <tr>\n",
       "      <th>32557</th>\n",
       "      <td>40</td>\n",
       "      <td>154374</td>\n",
       "      <td>9</td>\n",
       "      <td>0</td>\n",
       "      <td>0</td>\n",
       "      <td>40</td>\n",
       "    </tr>\n",
       "    <tr>\n",
       "      <th>32558</th>\n",
       "      <td>58</td>\n",
       "      <td>151910</td>\n",
       "      <td>9</td>\n",
       "      <td>0</td>\n",
       "      <td>0</td>\n",
       "      <td>40</td>\n",
       "    </tr>\n",
       "    <tr>\n",
       "      <th>32559</th>\n",
       "      <td>22</td>\n",
       "      <td>201490</td>\n",
       "      <td>9</td>\n",
       "      <td>0</td>\n",
       "      <td>0</td>\n",
       "      <td>20</td>\n",
       "    </tr>\n",
       "    <tr>\n",
       "      <th>32560</th>\n",
       "      <td>52</td>\n",
       "      <td>287927</td>\n",
       "      <td>9</td>\n",
       "      <td>15024</td>\n",
       "      <td>0</td>\n",
       "      <td>40</td>\n",
       "    </tr>\n",
       "  </tbody>\n",
       "</table>\n",
       "<p>32561 rows × 6 columns</p>\n",
       "</div>"
      ],
      "text/plain": [
       "       age  fnlwgt  education_num  capital_gain  capital_loss  hours_per_week\n",
       "0       39   77516             13          2174             0              40\n",
       "1       50   83311             13             0             0              13\n",
       "2       38  215646              9             0             0              40\n",
       "3       53  234721              7             0             0              40\n",
       "4       28  338409             13             0             0              40\n",
       "...    ...     ...            ...           ...           ...             ...\n",
       "32556   27  257302             12             0             0              38\n",
       "32557   40  154374              9             0             0              40\n",
       "32558   58  151910              9             0             0              40\n",
       "32559   22  201490              9             0             0              20\n",
       "32560   52  287927              9         15024             0              40\n",
       "\n",
       "[32561 rows x 6 columns]"
      ]
     },
     "execution_count": 22,
     "metadata": {},
     "output_type": "execute_result"
    }
   ],
   "source": [
    "num_columns"
   ]
  },
  {
   "cell_type": "code",
   "execution_count": 23,
   "id": "21dbd166-9e6e-4dd1-88ce-be78eb2d3876",
   "metadata": {},
   "outputs": [],
   "source": [
    "num_features = ['age','fnlwgt','education_num','capital_gain','capital_loss','hours_per_week']"
   ]
  },
  {
   "cell_type": "code",
   "execution_count": 24,
   "id": "117cc1e6-c1a7-4afd-83fa-2cdb113bc2d5",
   "metadata": {},
   "outputs": [],
   "source": [
    "awh_standard_sacled = awh.copy()"
   ]
  },
  {
   "cell_type": "code",
   "execution_count": 25,
   "id": "b759e67f-231b-4ca8-910f-e64d0f491810",
   "metadata": {},
   "outputs": [],
   "source": [
    "scaler_std = StandardScaler()"
   ]
  },
  {
   "cell_type": "code",
   "execution_count": 26,
   "id": "73645a3b-8058-4be0-a21f-60db1dd30829",
   "metadata": {},
   "outputs": [],
   "source": [
    "awh_standard_sacled[num_features] = scaler_std.fit_transform(awh[num_features])"
   ]
  },
  {
   "cell_type": "code",
   "execution_count": 27,
   "id": "36c0155f-16a3-4ec6-b191-fcca61cce1b2",
   "metadata": {},
   "outputs": [
    {
     "data": {
      "text/html": [
       "<div>\n",
       "<style scoped>\n",
       "    .dataframe tbody tr th:only-of-type {\n",
       "        vertical-align: middle;\n",
       "    }\n",
       "\n",
       "    .dataframe tbody tr th {\n",
       "        vertical-align: top;\n",
       "    }\n",
       "\n",
       "    .dataframe thead th {\n",
       "        text-align: right;\n",
       "    }\n",
       "</style>\n",
       "<table border=\"1\" class=\"dataframe\">\n",
       "  <thead>\n",
       "    <tr style=\"text-align: right;\">\n",
       "      <th></th>\n",
       "      <th>age</th>\n",
       "      <th>fnlwgt</th>\n",
       "      <th>education_num</th>\n",
       "      <th>capital_gain</th>\n",
       "      <th>capital_loss</th>\n",
       "      <th>hours_per_week</th>\n",
       "    </tr>\n",
       "  </thead>\n",
       "  <tbody>\n",
       "    <tr>\n",
       "      <th>0</th>\n",
       "      <td>0.030671</td>\n",
       "      <td>-1.063611</td>\n",
       "      <td>1.134739</td>\n",
       "      <td>0.148453</td>\n",
       "      <td>-0.21666</td>\n",
       "      <td>-0.035429</td>\n",
       "    </tr>\n",
       "    <tr>\n",
       "      <th>1</th>\n",
       "      <td>0.837109</td>\n",
       "      <td>-1.008707</td>\n",
       "      <td>1.134739</td>\n",
       "      <td>-0.145920</td>\n",
       "      <td>-0.21666</td>\n",
       "      <td>-2.222153</td>\n",
       "    </tr>\n",
       "    <tr>\n",
       "      <th>2</th>\n",
       "      <td>-0.042642</td>\n",
       "      <td>0.245079</td>\n",
       "      <td>-0.420060</td>\n",
       "      <td>-0.145920</td>\n",
       "      <td>-0.21666</td>\n",
       "      <td>-0.035429</td>\n",
       "    </tr>\n",
       "    <tr>\n",
       "      <th>3</th>\n",
       "      <td>1.057047</td>\n",
       "      <td>0.425801</td>\n",
       "      <td>-1.197459</td>\n",
       "      <td>-0.145920</td>\n",
       "      <td>-0.21666</td>\n",
       "      <td>-0.035429</td>\n",
       "    </tr>\n",
       "    <tr>\n",
       "      <th>4</th>\n",
       "      <td>-0.775768</td>\n",
       "      <td>1.408176</td>\n",
       "      <td>1.134739</td>\n",
       "      <td>-0.145920</td>\n",
       "      <td>-0.21666</td>\n",
       "      <td>-0.035429</td>\n",
       "    </tr>\n",
       "    <tr>\n",
       "      <th>...</th>\n",
       "      <td>...</td>\n",
       "      <td>...</td>\n",
       "      <td>...</td>\n",
       "      <td>...</td>\n",
       "      <td>...</td>\n",
       "      <td>...</td>\n",
       "    </tr>\n",
       "    <tr>\n",
       "      <th>32556</th>\n",
       "      <td>-0.849080</td>\n",
       "      <td>0.639741</td>\n",
       "      <td>0.746039</td>\n",
       "      <td>-0.145920</td>\n",
       "      <td>-0.21666</td>\n",
       "      <td>-0.197409</td>\n",
       "    </tr>\n",
       "    <tr>\n",
       "      <th>32557</th>\n",
       "      <td>0.103983</td>\n",
       "      <td>-0.335433</td>\n",
       "      <td>-0.420060</td>\n",
       "      <td>-0.145920</td>\n",
       "      <td>-0.21666</td>\n",
       "      <td>-0.035429</td>\n",
       "    </tr>\n",
       "    <tr>\n",
       "      <th>32558</th>\n",
       "      <td>1.423610</td>\n",
       "      <td>-0.358777</td>\n",
       "      <td>-0.420060</td>\n",
       "      <td>-0.145920</td>\n",
       "      <td>-0.21666</td>\n",
       "      <td>-0.035429</td>\n",
       "    </tr>\n",
       "    <tr>\n",
       "      <th>32559</th>\n",
       "      <td>-1.215643</td>\n",
       "      <td>0.110960</td>\n",
       "      <td>-0.420060</td>\n",
       "      <td>-0.145920</td>\n",
       "      <td>-0.21666</td>\n",
       "      <td>-1.655225</td>\n",
       "    </tr>\n",
       "    <tr>\n",
       "      <th>32560</th>\n",
       "      <td>0.983734</td>\n",
       "      <td>0.929893</td>\n",
       "      <td>-0.420060</td>\n",
       "      <td>1.888424</td>\n",
       "      <td>-0.21666</td>\n",
       "      <td>-0.035429</td>\n",
       "    </tr>\n",
       "  </tbody>\n",
       "</table>\n",
       "<p>32561 rows × 6 columns</p>\n",
       "</div>"
      ],
      "text/plain": [
       "            age    fnlwgt  education_num  capital_gain  capital_loss  \\\n",
       "0      0.030671 -1.063611       1.134739      0.148453      -0.21666   \n",
       "1      0.837109 -1.008707       1.134739     -0.145920      -0.21666   \n",
       "2     -0.042642  0.245079      -0.420060     -0.145920      -0.21666   \n",
       "3      1.057047  0.425801      -1.197459     -0.145920      -0.21666   \n",
       "4     -0.775768  1.408176       1.134739     -0.145920      -0.21666   \n",
       "...         ...       ...            ...           ...           ...   \n",
       "32556 -0.849080  0.639741       0.746039     -0.145920      -0.21666   \n",
       "32557  0.103983 -0.335433      -0.420060     -0.145920      -0.21666   \n",
       "32558  1.423610 -0.358777      -0.420060     -0.145920      -0.21666   \n",
       "32559 -1.215643  0.110960      -0.420060     -0.145920      -0.21666   \n",
       "32560  0.983734  0.929893      -0.420060      1.888424      -0.21666   \n",
       "\n",
       "       hours_per_week  \n",
       "0           -0.035429  \n",
       "1           -2.222153  \n",
       "2           -0.035429  \n",
       "3           -0.035429  \n",
       "4           -0.035429  \n",
       "...               ...  \n",
       "32556       -0.197409  \n",
       "32557       -0.035429  \n",
       "32558       -0.035429  \n",
       "32559       -1.655225  \n",
       "32560       -0.035429  \n",
       "\n",
       "[32561 rows x 6 columns]"
      ]
     },
     "execution_count": 27,
     "metadata": {},
     "output_type": "execute_result"
    }
   ],
   "source": [
    "awh_standard_sacled[num_features]"
   ]
  },
  {
   "cell_type": "code",
   "execution_count": 28,
   "id": "acdab174-2dbf-45af-b4f7-4fd4356070b5",
   "metadata": {},
   "outputs": [],
   "source": [
    "awh_minmax_sacled = awh.copy()"
   ]
  },
  {
   "cell_type": "code",
   "execution_count": 29,
   "id": "dc3c3157-2d73-43e8-b54a-2ffb9c3f2681",
   "metadata": {},
   "outputs": [],
   "source": [
    "scaler_mm = MinMaxScaler()"
   ]
  },
  {
   "cell_type": "code",
   "execution_count": 30,
   "id": "768e3596-0e0e-4168-9920-a29a3b0a5214",
   "metadata": {},
   "outputs": [],
   "source": [
    "awh_minmax_sacled[num_features] = scaler_mm.fit_transform(awh[num_features])"
   ]
  },
  {
   "cell_type": "code",
   "execution_count": 31,
   "id": "feff1957-ec85-49ce-88fc-9ed379588c4e",
   "metadata": {},
   "outputs": [
    {
     "data": {
      "text/html": [
       "<div>\n",
       "<style scoped>\n",
       "    .dataframe tbody tr th:only-of-type {\n",
       "        vertical-align: middle;\n",
       "    }\n",
       "\n",
       "    .dataframe tbody tr th {\n",
       "        vertical-align: top;\n",
       "    }\n",
       "\n",
       "    .dataframe thead th {\n",
       "        text-align: right;\n",
       "    }\n",
       "</style>\n",
       "<table border=\"1\" class=\"dataframe\">\n",
       "  <thead>\n",
       "    <tr style=\"text-align: right;\">\n",
       "      <th></th>\n",
       "      <th>age</th>\n",
       "      <th>fnlwgt</th>\n",
       "      <th>education_num</th>\n",
       "      <th>capital_gain</th>\n",
       "      <th>capital_loss</th>\n",
       "      <th>hours_per_week</th>\n",
       "    </tr>\n",
       "  </thead>\n",
       "  <tbody>\n",
       "    <tr>\n",
       "      <th>0</th>\n",
       "      <td>0.301370</td>\n",
       "      <td>0.044302</td>\n",
       "      <td>0.800000</td>\n",
       "      <td>0.021740</td>\n",
       "      <td>0.0</td>\n",
       "      <td>0.397959</td>\n",
       "    </tr>\n",
       "    <tr>\n",
       "      <th>1</th>\n",
       "      <td>0.452055</td>\n",
       "      <td>0.048238</td>\n",
       "      <td>0.800000</td>\n",
       "      <td>0.000000</td>\n",
       "      <td>0.0</td>\n",
       "      <td>0.122449</td>\n",
       "    </tr>\n",
       "    <tr>\n",
       "      <th>2</th>\n",
       "      <td>0.287671</td>\n",
       "      <td>0.138113</td>\n",
       "      <td>0.533333</td>\n",
       "      <td>0.000000</td>\n",
       "      <td>0.0</td>\n",
       "      <td>0.397959</td>\n",
       "    </tr>\n",
       "    <tr>\n",
       "      <th>3</th>\n",
       "      <td>0.493151</td>\n",
       "      <td>0.151068</td>\n",
       "      <td>0.400000</td>\n",
       "      <td>0.000000</td>\n",
       "      <td>0.0</td>\n",
       "      <td>0.397959</td>\n",
       "    </tr>\n",
       "    <tr>\n",
       "      <th>4</th>\n",
       "      <td>0.150685</td>\n",
       "      <td>0.221488</td>\n",
       "      <td>0.800000</td>\n",
       "      <td>0.000000</td>\n",
       "      <td>0.0</td>\n",
       "      <td>0.397959</td>\n",
       "    </tr>\n",
       "    <tr>\n",
       "      <th>...</th>\n",
       "      <td>...</td>\n",
       "      <td>...</td>\n",
       "      <td>...</td>\n",
       "      <td>...</td>\n",
       "      <td>...</td>\n",
       "      <td>...</td>\n",
       "    </tr>\n",
       "    <tr>\n",
       "      <th>32556</th>\n",
       "      <td>0.136986</td>\n",
       "      <td>0.166404</td>\n",
       "      <td>0.733333</td>\n",
       "      <td>0.000000</td>\n",
       "      <td>0.0</td>\n",
       "      <td>0.377551</td>\n",
       "    </tr>\n",
       "    <tr>\n",
       "      <th>32557</th>\n",
       "      <td>0.315068</td>\n",
       "      <td>0.096500</td>\n",
       "      <td>0.533333</td>\n",
       "      <td>0.000000</td>\n",
       "      <td>0.0</td>\n",
       "      <td>0.397959</td>\n",
       "    </tr>\n",
       "    <tr>\n",
       "      <th>32558</th>\n",
       "      <td>0.561644</td>\n",
       "      <td>0.094827</td>\n",
       "      <td>0.533333</td>\n",
       "      <td>0.000000</td>\n",
       "      <td>0.0</td>\n",
       "      <td>0.397959</td>\n",
       "    </tr>\n",
       "    <tr>\n",
       "      <th>32559</th>\n",
       "      <td>0.068493</td>\n",
       "      <td>0.128499</td>\n",
       "      <td>0.533333</td>\n",
       "      <td>0.000000</td>\n",
       "      <td>0.0</td>\n",
       "      <td>0.193878</td>\n",
       "    </tr>\n",
       "    <tr>\n",
       "      <th>32560</th>\n",
       "      <td>0.479452</td>\n",
       "      <td>0.187203</td>\n",
       "      <td>0.533333</td>\n",
       "      <td>0.150242</td>\n",
       "      <td>0.0</td>\n",
       "      <td>0.397959</td>\n",
       "    </tr>\n",
       "  </tbody>\n",
       "</table>\n",
       "<p>32561 rows × 6 columns</p>\n",
       "</div>"
      ],
      "text/plain": [
       "            age    fnlwgt  education_num  capital_gain  capital_loss  \\\n",
       "0      0.301370  0.044302       0.800000      0.021740           0.0   \n",
       "1      0.452055  0.048238       0.800000      0.000000           0.0   \n",
       "2      0.287671  0.138113       0.533333      0.000000           0.0   \n",
       "3      0.493151  0.151068       0.400000      0.000000           0.0   \n",
       "4      0.150685  0.221488       0.800000      0.000000           0.0   \n",
       "...         ...       ...            ...           ...           ...   \n",
       "32556  0.136986  0.166404       0.733333      0.000000           0.0   \n",
       "32557  0.315068  0.096500       0.533333      0.000000           0.0   \n",
       "32558  0.561644  0.094827       0.533333      0.000000           0.0   \n",
       "32559  0.068493  0.128499       0.533333      0.000000           0.0   \n",
       "32560  0.479452  0.187203       0.533333      0.150242           0.0   \n",
       "\n",
       "       hours_per_week  \n",
       "0            0.397959  \n",
       "1            0.122449  \n",
       "2            0.397959  \n",
       "3            0.397959  \n",
       "4            0.397959  \n",
       "...               ...  \n",
       "32556        0.377551  \n",
       "32557        0.397959  \n",
       "32558        0.397959  \n",
       "32559        0.193878  \n",
       "32560        0.397959  \n",
       "\n",
       "[32561 rows x 6 columns]"
      ]
     },
     "execution_count": 31,
     "metadata": {},
     "output_type": "execute_result"
    }
   ],
   "source": [
    "awh_minmax_sacled[num_features]"
   ]
  },
  {
   "cell_type": "markdown",
   "id": "d7d04e4f-8aa0-400c-840c-d6c85428737f",
   "metadata": {},
   "source": [
    "##### •\tDiscuss the scenarios where each scaling technique is preferred and why."
   ]
  },
  {
   "cell_type": "markdown",
   "id": "f9cbfadb-c705-4cba-ba3f-9b8887040ace",
   "metadata": {},
   "source": [
    "### • Standard Scaling"
   ]
  },
  {
   "cell_type": "markdown",
   "id": "2e7ff8f5-eb85-4d77-9aea-f8d43c60cba4",
   "metadata": {},
   "source": [
    "#### Standard Scaling Preference Scenarios"
   ]
  },
  {
   "cell_type": "markdown",
   "id": "f62c5ee3-01aa-47f9-8f97-22dd2a3c0d53",
   "metadata": {},
   "source": [
    "Standard Scaling is preferred when the goal is to center the data around zero and scale it according to its variance, especially for models that assume features follow a normal distribution."
   ]
  },
  {
   "cell_type": "markdown",
   "id": "09fa1de1-d2f0-4e68-aa69-af3e1500c505",
   "metadata": {},
   "source": [
    "Standard Scaling is preferred when the goal is to transform features so that they have a mean of zero and a standard deviation of one, which is especially useful when the data roughly follows a normal distribution. It is commonly applied in machine learning algorithms that assume normally distributed data or are sensitive to the scale of features, such as linear regression, logistic regression, support vector machines, and principal component analysis. By centering and scaling the data, Standard Scaling ensures that all features contribute equally to the model, prevents bias toward variables with larger magnitudes, and improves the efficiency and accuracy of training."
   ]
  },
  {
   "cell_type": "markdown",
   "id": "c664f9e2-b60a-45eb-8bce-a67258e1fc2b",
   "metadata": {},
   "source": [
    "### • Min-Max Scaling"
   ]
  },
  {
   "cell_type": "markdown",
   "id": "83ed508c-7b83-4120-9d00-2df4f01d7333",
   "metadata": {},
   "source": [
    "#### Min-Max Scaling Preference Scenarios"
   ]
  },
  {
   "cell_type": "markdown",
   "id": "5e425b72-57a7-4f41-8be4-c66a4a3be247",
   "metadata": {},
   "source": [
    "Min-Max Scaling (Normalization) is preferred when a fixed, bounded range is required, often for algorithms that use gradient descent and are sensitive to the absolute scale of input values."
   ]
  },
  {
   "cell_type": "markdown",
   "id": "c739a113-7ef3-498e-b70d-b46d21f621c0",
   "metadata": {},
   "source": [
    "Min-Max Scaling (Normalization) is a technique that transforms features to a fixed range, usually [0,1], making it especially useful when models are sensitive to the absolute scale of input values. It is commonly preferred in scenarios such as neural networks and deep learning, where activation functions like sigmoid or tanh work best when inputs are within a small range, preventing saturation and improving convergence. It is also widely applied in image processing and computer vision tasks, as pixel values can be normalized for faster and more efficient processing while ensuring consistency across different features."
   ]
  },
  {
   "cell_type": "markdown",
   "id": "0c60c2be-cb40-4292-b1c6-d1127e70c8c1",
   "metadata": {},
   "source": [
    "#### 2. Encoding Techniques:"
   ]
  },
  {
   "cell_type": "markdown",
   "id": "3121901e-3cdf-4568-aeef-5c87e1cde071",
   "metadata": {},
   "source": [
    "•\tApply One-Hot Encoding to categorical variables with less than 5 categories.\n",
    "•\tUse Label Encoding for categorical variables with more than 5 categories.\n",
    "•\tDiscuss the pros and cons of One-Hot Encoding and Label Encoding."
   ]
  },
  {
   "cell_type": "code",
   "execution_count": 32,
   "id": "9ca37d1b-744e-4a68-bc93-b07a07b8478f",
   "metadata": {},
   "outputs": [
    {
     "data": {
      "text/plain": [
       "Index(['workclass', 'education', 'marital_status', 'occupation',\n",
       "       'relationship', 'race', 'sex', 'native_country', 'income'],\n",
       "      dtype='object')"
      ]
     },
     "execution_count": 32,
     "metadata": {},
     "output_type": "execute_result"
    }
   ],
   "source": [
    "cat_cols = awh.select_dtypes(include='object').columns\n",
    "cat_cols"
   ]
  },
  {
   "cell_type": "code",
   "execution_count": 33,
   "id": "1e75c889-3fc9-43aa-bb50-4bf19727b914",
   "metadata": {},
   "outputs": [
    {
     "data": {
      "text/plain": [
       "workclass          9\n",
       "education         16\n",
       "marital_status     7\n",
       "occupation        15\n",
       "relationship       6\n",
       "race               5\n",
       "sex                2\n",
       "native_country    42\n",
       "income             2\n",
       "dtype: int64"
      ]
     },
     "execution_count": 33,
     "metadata": {},
     "output_type": "execute_result"
    }
   ],
   "source": [
    "unique_counts = awh[cat_cols].nunique()\n",
    "unique_counts"
   ]
  },
  {
   "cell_type": "code",
   "execution_count": 34,
   "id": "25623d5d-7fbc-49db-896e-d16ad4035a6d",
   "metadata": {},
   "outputs": [
    {
     "data": {
      "text/plain": [
       "['race', 'sex', 'income']"
      ]
     },
     "execution_count": 34,
     "metadata": {},
     "output_type": "execute_result"
    }
   ],
   "source": [
    "df_cols = unique_counts[unique_counts<=5].index.tolist()\n",
    "df_cols"
   ]
  },
  {
   "cell_type": "code",
   "execution_count": 35,
   "id": "fb8ac581-3d50-45e0-9f5d-f69c1b818d1d",
   "metadata": {},
   "outputs": [
    {
     "data": {
      "text/plain": [
       "['workclass',\n",
       " 'education',\n",
       " 'marital_status',\n",
       " 'occupation',\n",
       " 'relationship',\n",
       " 'native_country']"
      ]
     },
     "execution_count": 35,
     "metadata": {},
     "output_type": "execute_result"
    }
   ],
   "source": [
    "tf_cols = unique_counts[unique_counts>5].index.tolist()\n",
    "tf_cols"
   ]
  },
  {
   "cell_type": "code",
   "execution_count": 36,
   "id": "f1857055-3978-4704-a191-0a99f34ede36",
   "metadata": {},
   "outputs": [
    {
     "name": "stdout",
     "output_type": "stream",
     "text": [
      "One-Hot Encoded: race\n",
      "One-Hot Encoded: sex\n",
      "One-Hot Encoded: income\n"
     ]
    }
   ],
   "source": [
    "awh_encode = pd.get_dummies(awh, columns=df_cols, drop_first=True)\n",
    "for col in df_cols:\n",
    "    print(f\"One-Hot Encoded: {col}\")"
   ]
  },
  {
   "cell_type": "code",
   "execution_count": 37,
   "id": "ec7beda2-1b3d-4bc0-8fc5-30edc772c978",
   "metadata": {},
   "outputs": [],
   "source": [
    "le = LabelEncoder()"
   ]
  },
  {
   "cell_type": "code",
   "execution_count": 38,
   "id": "912ef1a3-85ec-495d-80f8-373bf4fbff23",
   "metadata": {},
   "outputs": [
    {
     "name": "stdout",
     "output_type": "stream",
     "text": [
      "Label encoded:workclass\n",
      "Label encoded:education\n",
      "Label encoded:marital_status\n",
      "Label encoded:occupation\n",
      "Label encoded:relationship\n",
      "Label encoded:native_country\n"
     ]
    }
   ],
   "source": [
    "for col in awh.select_dtypes(include=['object']).columns:\n",
    "    if awh[col].nunique()>5:\n",
    "        awh[col]=le.fit_transform(awh[col])\n",
    "        print(f\"Label encoded:{col}\")"
   ]
  },
  {
   "cell_type": "markdown",
   "id": "37c56ca3-99fb-496a-b535-0d411e056bd5",
   "metadata": {},
   "source": [
    "##### The pros and cons of One-Hot Encoding and Label Encoding"
   ]
  },
  {
   "cell_type": "markdown",
   "id": "900a8049-837b-49e8-9301-adb77f33bfd1",
   "metadata": {},
   "source": [
    "#### 🔹 Label Encoding"
   ]
  },
  {
   "cell_type": "markdown",
   "id": "a990eef0-3263-4fc0-8be9-cd0b96c5628e",
   "metadata": {},
   "source": [
    "✅ Pros"
   ]
  },
  {
   "cell_type": "markdown",
   "id": "cf6e741b-3c16-46ad-8ab8-dfda800351db",
   "metadata": {},
   "source": [
    "1. Simple and efficient – Converts categories into numeric values (0, 1, 2, …) quickly."
   ]
  },
  {
   "cell_type": "markdown",
   "id": "bec12aaa-92ed-4c83-bdf4-84a1bf6e0f4c",
   "metadata": {},
   "source": [
    "2. Memory efficient – Does not increase the number of columns (keeps dataset compact)."
   ]
  },
  {
   "cell_type": "markdown",
   "id": "4eb9167e-965e-4f3b-ac11-45b0018cf3cc",
   "metadata": {},
   "source": [
    "3. Works well for ordinal data – Suitable when categories have a natural order (e.g., low < medium < high)."
   ]
  },
  {
   "cell_type": "markdown",
   "id": "12ce8c42-025b-4a0f-af19-f9da15bd67da",
   "metadata": {},
   "source": [
    "❌ Cons"
   ]
  },
  {
   "cell_type": "markdown",
   "id": "eb50818c-9ea8-49bb-94f7-a17a09997363",
   "metadata": {},
   "source": [
    "1. Can mislead machine learning models – Models may assume numerical order or distance between labels that doesn’t actually exist (e.g., “Apple=0”, “Banana=1”, “Cherry=2”)."
   ]
  },
  {
   "cell_type": "markdown",
   "id": "8b4a5b18-cbf3-4bcb-b940-cf0a36778f4e",
   "metadata": {},
   "source": [
    "2. Not suitable for nominal data – For categories without order, the numeric encoding can introduce bias."
   ]
  },
  {
   "cell_type": "markdown",
   "id": "06aeb124-f913-403d-b91b-108877fc7a77",
   "metadata": {},
   "source": [
    "3. Difficult for high-cardinality columns – Large numbers of categories may still confuse models."
   ]
  },
  {
   "cell_type": "markdown",
   "id": "fdc4d4bd-8ae0-45a9-9bfc-afef9e5797fd",
   "metadata": {},
   "source": [
    "\n",
    "\n",
    "🔹 One-Hot Encoding\n",
    "\n",
    "✅ Pros\n",
    "\n",
    "1. No ordinal relationship implied – Each category is represented by an independent binary column, avoiding false numeric order.\n",
    "\n",
    "\n",
    "2. Works well with most ML models – Especially linear models (like logistic regression) and tree-based models.\n",
    "\n",
    "\n",
    "3. Interpretable – Easy to understand which category a column represents.\n",
    "\n",
    "\n",
    "\n",
    "❌ Cons\n",
    "\n",
    "1. Increases dimensionality – Creates many new columns, especially if there are many categories (can lead to the “curse of dimensionality”).\n",
    "\n",
    "\n",
    "2. Higher memory usage – Larger datasets require more storage and computation time.\n",
    "\n",
    "\n",
    "3. Sparse data – Produces many zeros, which can be inefficient for some algorithms."
   ]
  },
  {
   "cell_type": "markdown",
   "id": "5aa869a7-70aa-4d56-80f7-5712cec6ab6e",
   "metadata": {},
   "source": [
    "#### 🔹 One-Hot Encoding"
   ]
  },
  {
   "cell_type": "markdown",
   "id": "af1cc0f3-3e55-4d91-902a-6741eb2f7c59",
   "metadata": {},
   "source": [
    "✅ Pros"
   ]
  },
  {
   "cell_type": "markdown",
   "id": "dcc28853-29d5-4ce8-b22d-488e007a78ac",
   "metadata": {},
   "source": [
    "1. No ordinal relationship implied – Each category is represented by an independent binary column, avoiding false numeric order."
   ]
  },
  {
   "cell_type": "markdown",
   "id": "0a506e04-b765-4099-ade4-4d9515882cac",
   "metadata": {},
   "source": [
    "2. Works well with most ML models – Especially linear models (like logistic regression) and tree-based models."
   ]
  },
  {
   "cell_type": "markdown",
   "id": "3d5adbc8-ff22-4099-bd9b-128036e95b6f",
   "metadata": {},
   "source": [
    "3. Interpretable – Easy to understand which category a column represents."
   ]
  },
  {
   "cell_type": "markdown",
   "id": "7c8d0a63-6ebd-4dd5-b7da-3f0803fda944",
   "metadata": {},
   "source": [
    "❌ Cons"
   ]
  },
  {
   "cell_type": "markdown",
   "id": "021f340a-fedb-43c6-8fde-0053a924ae65",
   "metadata": {},
   "source": [
    "1. Increases dimensionality – Creates many new columns, especially if there are many categories (can lead to the “curse of dimensionality”)."
   ]
  },
  {
   "cell_type": "markdown",
   "id": "3f6c3d11-0d7d-4796-b990-319ef904066c",
   "metadata": {},
   "source": [
    "2. Higher memory usage – Larger datasets require more storage and computation time."
   ]
  },
  {
   "cell_type": "markdown",
   "id": "55e638bc-4147-4a48-9622-165451eaf11b",
   "metadata": {},
   "source": [
    "3. Sparse data – Produces many zeros, which can be inefficient for some algorithms."
   ]
  },
  {
   "cell_type": "markdown",
   "id": "4aa0cb6c-2d5c-4f03-afd5-cf1e65b39e8b",
   "metadata": {},
   "source": [
    "#### 3. Feature Engineering:"
   ]
  },
  {
   "cell_type": "markdown",
   "id": "516e2f00-688a-4487-9f61-a84cec91df21",
   "metadata": {},
   "source": [
    "•\tCreate at least 2 new features that could be beneficial for the model. Explain the rationale behind your choices."
   ]
  },
  {
   "cell_type": "markdown",
   "id": "a987dae8-71c6-459c-9e26-f81cfc1a6303",
   "metadata": {},
   "source": [
    "•\tApply a transformation (e.g., log transformation) to at least one skewed numerical feature and justify your choice."
   ]
  },
  {
   "cell_type": "markdown",
   "id": "c4be9db9-1e63-4d2f-a1c3-1c8098bf2969",
   "metadata": {},
   "source": [
    "Feature 1: Age Group\n",
    "\n",
    "New Feature Name: age_group"
   ]
  },
  {
   "cell_type": "code",
   "execution_count": 40,
   "id": "1e6129c5-2f0e-4fa1-9832-25815580ace4",
   "metadata": {},
   "outputs": [],
   "source": [
    "awh['age_grp'] = pd.cut(awh['age'], bins=[0,25,40,60,100],\n",
    "                        labels=['Young','Adult','Middle-aged','senior'])"
   ]
  },
  {
   "cell_type": "markdown",
   "id": "2314fee9-a60c-4fd9-8a3a-a7f73266ecd5",
   "metadata": {},
   "source": [
    "Rationale:\n",
    "\n",
    "Income and occupation patterns often vary by age category rather than exact age.\n",
    "\n",
    "Grouping ages helps capture nonlinear relationships (e.g., people aged 35–50 often have higher incomes due to experience)."
   ]
  },
  {
   "cell_type": "markdown",
   "id": "adde93f5-4d42-41b0-99f9-216da6df3015",
   "metadata": {},
   "source": [
    " Feature 2: Hours-per-week × Education\n",
    "\n",
    "New Feature Name: edu_hours_index"
   ]
  },
  {
   "cell_type": "code",
   "execution_count": 41,
   "id": "2d012bff-f73e-4f0c-97d9-0713bf11bec1",
   "metadata": {},
   "outputs": [],
   "source": [
    "awh['edu_hours_index'] = awh['hours_per_week'] * awh['education_num']"
   ]
  },
  {
   "cell_type": "markdown",
   "id": "6afef1aa-c36f-4d93-88d9-72e29953d80a",
   "metadata": {},
   "source": [
    "Rationale:\n",
    "\n",
    "This combines effort (hours worked) and qualification (education level).\n",
    "\n",
    "People with higher education working longer hours may have higher income potential.\n",
    "\n",
    "This feature helps the model capture interaction effects between education and working time."
   ]
  },
  {
   "cell_type": "code",
   "execution_count": 42,
   "id": "916a6c3f-702c-4117-ade1-7f6cc910b238",
   "metadata": {},
   "outputs": [],
   "source": [
    "numerical_columns = awh.select_dtypes(include=['int64','float64']).columns"
   ]
  },
  {
   "cell_type": "code",
   "execution_count": 43,
   "id": "17373417-0706-4575-b395-0f3b70589bb5",
   "metadata": {},
   "outputs": [
    {
     "data": {
      "text/plain": [
       "age                 0.558743\n",
       "workclass          -0.752024\n",
       "fnlwgt              1.446980\n",
       "education          -0.934042\n",
       "education_num      -0.311676\n",
       "marital_status     -0.013508\n",
       "occupation          0.114583\n",
       "relationship        0.786818\n",
       "capital_gain       11.953848\n",
       "capital_loss        4.594629\n",
       "hours_per_week      0.227643\n",
       "native_country     -3.658303\n",
       "edu_hours_index     0.697997\n",
       "dtype: float64"
      ]
     },
     "execution_count": 43,
     "metadata": {},
     "output_type": "execute_result"
    }
   ],
   "source": [
    "awh[numerical_columns].skew()"
   ]
  },
  {
   "cell_type": "code",
   "execution_count": 44,
   "id": "d7f29026-35e9-49ae-ac91-df4b8a80570c",
   "metadata": {},
   "outputs": [],
   "source": [
    "awh['capital_gain_log'] = np.log1p(awh['capital_gain'])"
   ]
  },
  {
   "cell_type": "code",
   "execution_count": 45,
   "id": "24c02f87-a998-48ca-a499-ca363048dd1d",
   "metadata": {},
   "outputs": [
    {
     "data": {
      "image/png": "[encoded data removed]",
      "text/plain": [
       "<Figure size 640x480 with 1 Axes>"
      ]
     },
     "metadata": {},
     "output_type": "display_data"
    }
   ],
   "source": [
    "sns.histplot(awh['capital_gain_log'], bins=50, kde=True)\n",
    "plt.title(\"Distribution of Log-Transformed Capital Gain\")\n",
    "plt.show()"
   ]
  },
  {
   "cell_type": "markdown",
   "id": "61226cd2-0d55-4408-9e05-b3d637c0a44c",
   "metadata": {},
   "source": [
    "### 4. Feature Selection:"
   ]
  },
  {
   "cell_type": "markdown",
   "id": "05360d90-6fbd-4fbf-aff8-2189daa84619",
   "metadata": {},
   "source": [
    "•\tUse the Isolation Forest algorithm to identify and remove outliers. Discuss how outliers can affect model performance."
   ]
  },
  {
   "cell_type": "markdown",
   "id": "2fecc512-bb51-4320-b6e9-05e36fd7f6c8",
   "metadata": {},
   "source": [
    "•\tApply the PPS (Predictive Power Score) to find and discuss the relationships between features. Compare its findings with the correlation matrix."
   ]
  },
  {
   "cell_type": "code",
   "execution_count": 46,
   "id": "46d3b392-f928-4ab8-ad7c-6ea9da999337",
   "metadata": {},
   "outputs": [],
   "source": [
    "from sklearn.ensemble import IsolationForest"
   ]
  },
  {
   "cell_type": "code",
   "execution_count": 47,
   "id": "fa8c54fe-65d7-4f6d-8dd5-ac65e190b978",
   "metadata": {},
   "outputs": [],
   "source": [
    "numeric_cols = awh.select_dtypes(include=['int64', 'float64']).columns\n",
    "X = awh[numeric_cols]"
   ]
  },
  {
   "cell_type": "code",
   "execution_count": 48,
   "id": "8f6c16f3-b74f-4cb2-b7b2-9bc8fd8e4847",
   "metadata": {},
   "outputs": [],
   "source": [
    "iso = IsolationForest(contamination=0.05, random_state=42)"
   ]
  },
  {
   "cell_type": "code",
   "execution_count": 49,
   "id": "86509fd3-93a3-45e8-8984-8a6cecda983c",
   "metadata": {},
   "outputs": [],
   "source": [
    "awh['outlier'] = iso.fit_predict(X)"
   ]
  },
  {
   "cell_type": "code",
   "execution_count": 50,
   "id": "a7b17f1a-32f1-4669-aa2e-d8b96760e56b",
   "metadata": {},
   "outputs": [
    {
     "name": "stdout",
     "output_type": "stream",
     "text": [
      "outlier\n",
      " 1    30933\n",
      "-1     1628\n",
      "Name: count, dtype: int64\n"
     ]
    }
   ],
   "source": [
    "print(awh['outlier'].value_counts())"
   ]
  },
  {
   "cell_type": "code",
   "execution_count": 51,
   "id": "d3b338bb-0b1d-4732-b3f7-416d50afbe27",
   "metadata": {},
   "outputs": [],
   "source": [
    "awh_clean = awh[awh['outlier'] == 1].drop(columns=['outlier'])"
   ]
  },
  {
   "cell_type": "markdown",
   "id": "b792fe08-65d3-453d-9847-7a28997b7c7f",
   "metadata": {},
   "source": [
    "\n",
    "Uses only numeric features to detect outliers.\n",
    "\n",
    "IsolationForest assigns -1 to outliers and 1 to normal points.\n",
    "\n",
    "Removes rows flagged as outliers, creating a clean dataset."
   ]
  },
  {
   "cell_type": "code",
   "execution_count": 52,
   "id": "12797827-b220-48eb-b53b-69e2c6ad0d04",
   "metadata": {},
   "outputs": [],
   "source": [
    "corr_matrix = awh.corr(numeric_only=True)"
   ]
  },
  {
   "cell_type": "code",
   "execution_count": 53,
   "id": "5da916dd-443c-4e73-8973-2498d0165ac7",
   "metadata": {},
   "outputs": [
    {
     "name": "stdout",
     "output_type": "stream",
     "text": [
      "Correlation with target:\n",
      " education           1.000000\n",
      "education_num       0.359153\n",
      "edu_hours_index     0.230541\n",
      "outlier             0.066540\n",
      "native_country      0.064288\n",
      "hours_per_week      0.055510\n",
      "capital_gain        0.030046\n",
      "capital_gain_log    0.024955\n",
      "workclass           0.023513\n",
      "capital_loss        0.016746\n",
      "age                -0.010508\n",
      "relationship       -0.010876\n",
      "occupation         -0.021260\n",
      "fnlwgt             -0.028145\n",
      "marital_status     -0.038407\n",
      "Name: education, dtype: float64\n"
     ]
    }
   ],
   "source": [
    "corr_with_target = corr_matrix[\"education\"].sort_values(ascending=False)\n",
    "print(\"Correlation with target:\\n\", corr_with_target)"
   ]
  },
  {
   "cell_type": "code",
   "execution_count": 54,
   "id": "4a256c8e-5053-41ad-9895-792d3e238d7f",
   "metadata": {},
   "outputs": [
    {
     "data": {
      "image/png": "[encoded data removed]",
      "text/plain": [
       "<Figure size 1000x600 with 2 Axes>"
      ]
     },
     "metadata": {},
     "output_type": "display_data"
    }
   ],
   "source": [
    "plt.figure(figsize=(10,6))\n",
    "sns.heatmap(corr_matrix, annot=True, cmap=\"coolwarm\", fmt=\".2f\")\n",
    "plt.title(\"Feature Correlation Heatmap\")\n",
    "plt.show()"
   ]
  },
  {
   "cell_type": "markdown",
   "id": "05aac589-0347-408b-9c1b-2b4e5589c89c",
   "metadata": {},
   "source": [
    "### * Correlation"
   ]
  },
  {
   "cell_type": "markdown",
   "id": "8ec344a0-4d51-4e07-aa6e-c0cbbe1fe9f2",
   "metadata": {},
   "source": [
    "Measures linear relationships only."
   ]
  },
  {
   "cell_type": "markdown",
   "id": "e8d1ce8c-ddfb-49e4-820d-bc93e25b2df3",
   "metadata": {},
   "source": [
    "Symmetric: correlation(A, B) = correlation(B, A)."
   ]
  },
  {
   "cell_type": "markdown",
   "id": "0108b84f-97ad-4941-ba69-33d3f19afe47",
   "metadata": {},
   "source": [
    "Example: If age has correlation 0.65 with survival, it means as age increases, survival probability changes in a somewhat linear way."
   ]
  },
  {
   "cell_type": "markdown",
   "id": "5b85153f-9169-4f66-bcb5-428312a2fbc8",
   "metadata": {},
   "source": [
    "### * PPS"
   ]
  },
  {
   "cell_type": "markdown",
   "id": "fdbde6be-3858-43c9-b661-5658433230a2",
   "metadata": {},
   "source": [
    "Works with non-linear and categorical data."
   ]
  },
  {
   "cell_type": "markdown",
   "id": "9a6a994b-1b08-4e59-9956-98540d0f8797",
   "metadata": {},
   "source": [
    "Example: cabin might have low correlation with survival (because many missing values), but PPS may still detect predictive value if certain cabin groups influence survival."
   ]
  },
  {
   "cell_type": "markdown",
   "id": "4948bb9a-9b97-4082-a9f4-75f6b1cae229",
   "metadata": {},
   "source": [
    "The correlation matrix shows linear associations between features and the target. For example, [Feature A] has the highest positive correlation, while [Feature B] has negative correlation with the target.\n",
    "\n",
    "PPS, on the other hand, is more powerful since it can capture non-linear and categorical relationships. In practice, PPS may highlight features that correlation misses (e.g., categorical features with predictive patterns).\n",
    "\n",
    "Comparing the two, correlation is simpler but limited, while PPS provides a broader view of feature importance. In our case, since PPS is not available, we rely on the correlation matrix to identify the strongest predictive features"
   ]
  },
  {
   "cell_type": "code",
   "execution_count": null,
   "id": "fb34968e-373a-4717-878b-e43a3705a01e",
   "metadata": {},
   "outputs": [],
   "source": []
  }
 ],
 "metadata": {
  "kernelspec": {
   "display_name": "Python [conda env:base] *",
   "language": "python",
   "name": "conda-base-py"
  },
  "language_info": {
   "codemirror_mode": {
    "name": "ipython",
    "version": 3
   },
   "file_extension": ".py",
   "mimetype": "text/x-python",
   "name": "python",
   "nbconvert_exporter": "python",
   "pygments_lexer": "ipython3",
   "version": "3.13.5"
  }
 },
 "nbformat": 4,
 "nbformat_minor": 5
}
