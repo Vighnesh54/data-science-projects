{
 "cells": [
  {
   "cell_type": "code",
   "execution_count": 5,
   "id": "9ec991d3-4620-4d83-b2f2-169c00cdeb5d",
   "metadata": {},
   "outputs": [
    {
     "name": "stdout",
     "output_type": "stream",
     "text": [
      "enter a number: 2\n"
     ]
    },
    {
     "name": "stdout",
     "output_type": "stream",
     "text": [
      "True\n"
     ]
    }
   ],
   "source": [
    "import math\n",
    "number=int(input('enter a number:'))\n",
    "if number<=1:\n",
    "    print(False)\n",
    "else:\n",
    "    is_prime=True\n",
    "    for i in range(2,int(math.sqrt(number))+1):\n",
    "            if number%i==0:\n",
    "                is_prime=False\n",
    "                break\n",
    "    print(is_prime)\n",
    "            \n",
    "                 \n",
    "\n",
    "\n",
    "\n",
    "                "
   ]
  },
  {
   "cell_type": "code",
   "execution_count": 10,
   "id": "4a2ccbd9-ca16-45df-9d96-9d4927778cd9",
   "metadata": {},
   "outputs": [
    {
     "name": "stdout",
     "output_type": "stream",
     "text": [
      "what is 16x7?\n"
     ]
    },
    {
     "name": "stdout",
     "output_type": "stream",
     "text": [
      "enter your answer: 23\n"
     ]
    },
    {
     "name": "stdout",
     "output_type": "stream",
     "text": [
      "Wrong Answer! The Correct Answer Is 112\n"
     ]
    }
   ],
   "source": [
    "import random\n",
    "num1=random.randrange(1, 20)\n",
    "num2=random.randrange(1, 11)\n",
    "print(f'what is {num1}x{num2}?')\n",
    "user_answer=int(input('enter your answer:'))\n",
    "correct_answer = num1 * num2\n",
    "if user_answer==correct_answer:\n",
    "    print('Correct Answer')\n",
    "    print('Welldone')\n",
    "else:\n",
    "    print(f'Wrong Answer! The Correct Answer Is {correct_answer}')\n"
   ]
  },
  {
   "cell_type": "code",
   "execution_count": 21,
   "id": "81af3dcf-8525-4904-8bb9-1d29dfc7d822",
   "metadata": {},
   "outputs": [
    {
     "name": "stdout",
     "output_type": "stream",
     "text": [
      "The squre of 100 is 10000\n",
      "The squre of 101 is 10000\n",
      "The squre of 102 is 10404\n",
      "The squre of 103 is 10404\n",
      "The squre of 104 is 10816\n",
      "The squre of 105 is 10816\n",
      "The squre of 106 is 11236\n",
      "The squre of 107 is 11236\n",
      "The squre of 108 is 11664\n",
      "The squre of 109 is 11664\n",
      "The squre of 110 is 12100\n",
      "The squre of 111 is 12100\n",
      "The squre of 112 is 12544\n",
      "The squre of 113 is 12544\n",
      "The squre of 114 is 12996\n",
      "The squre of 115 is 12996\n",
      "The squre of 116 is 13456\n",
      "The squre of 117 is 13456\n",
      "The squre of 118 is 13924\n",
      "The squre of 119 is 13924\n",
      "The squre of 120 is 14400\n",
      "The squre of 121 is 14400\n",
      "The squre of 122 is 14884\n",
      "The squre of 123 is 14884\n",
      "The squre of 124 is 15376\n",
      "The squre of 125 is 15376\n",
      "The squre of 126 is 15876\n",
      "The squre of 127 is 15876\n",
      "The squre of 128 is 16384\n",
      "The squre of 129 is 16384\n",
      "The squre of 130 is 16900\n",
      "The squre of 131 is 16900\n",
      "The squre of 132 is 17424\n",
      "The squre of 133 is 17424\n",
      "The squre of 134 is 17956\n",
      "The squre of 135 is 17956\n",
      "The squre of 136 is 18496\n",
      "The squre of 137 is 18496\n",
      "The squre of 138 is 19044\n",
      "The squre of 139 is 19044\n",
      "The squre of 140 is 19600\n",
      "The squre of 141 is 19600\n",
      "The squre of 142 is 20164\n",
      "The squre of 143 is 20164\n",
      "The squre of 144 is 20736\n",
      "The squre of 145 is 20736\n",
      "The squre of 146 is 21316\n",
      "The squre of 147 is 21316\n",
      "The squre of 148 is 21904\n",
      "The squre of 149 is 21904\n",
      "The squre of 150 is 22500\n",
      "The squre of 151 is 22500\n",
      "The squre of 152 is 23104\n",
      "The squre of 153 is 23104\n",
      "The squre of 154 is 23716\n",
      "The squre of 155 is 23716\n",
      "The squre of 156 is 24336\n",
      "The squre of 157 is 24336\n",
      "The squre of 158 is 24964\n",
      "The squre of 159 is 24964\n",
      "The squre of 160 is 25600\n",
      "The squre of 161 is 25600\n",
      "The squre of 162 is 26244\n",
      "The squre of 163 is 26244\n",
      "The squre of 164 is 26896\n",
      "The squre of 165 is 26896\n",
      "The squre of 166 is 27556\n",
      "The squre of 167 is 27556\n",
      "The squre of 168 is 28224\n",
      "The squre of 169 is 28224\n",
      "The squre of 170 is 28900\n",
      "The squre of 171 is 28900\n",
      "The squre of 172 is 29584\n",
      "The squre of 173 is 29584\n",
      "The squre of 174 is 30276\n",
      "The squre of 175 is 30276\n",
      "The squre of 176 is 30976\n",
      "The squre of 177 is 30976\n",
      "The squre of 178 is 31684\n",
      "The squre of 179 is 31684\n",
      "The squre of 180 is 32400\n",
      "The squre of 181 is 32400\n",
      "The squre of 182 is 33124\n",
      "The squre of 183 is 33124\n",
      "The squre of 184 is 33856\n",
      "The squre of 185 is 33856\n",
      "The squre of 186 is 34596\n",
      "The squre of 187 is 34596\n",
      "The squre of 188 is 35344\n",
      "The squre of 189 is 35344\n",
      "The squre of 190 is 36100\n",
      "The squre of 191 is 36100\n",
      "The squre of 192 is 36864\n",
      "The squre of 193 is 36864\n",
      "The squre of 194 is 37636\n",
      "The squre of 195 is 37636\n",
      "The squre of 196 is 38416\n",
      "The squre of 197 is 38416\n",
      "The squre of 198 is 39204\n",
      "The squre of 199 is 39204\n",
      "The squre of 200 is 40000\n"
     ]
    }
   ],
   "source": [
    "for num in range(100,201):\n",
    "    if num%2==0:\n",
    "        squre=num**2\n",
    "        print(f'The squre of {num} is {squre}')\n",
    "    else:\n",
    "        print(f'The squre of {num} is {squre}')\n",
    "        "
   ]
  },
  {
   "cell_type": "code",
   "execution_count": 77,
   "id": "eacc2880-34d1-40af-99dc-c40f461f4bc6",
   "metadata": {},
   "outputs": [
    {
     "name": "stdout",
     "output_type": "stream",
     "text": [
      "enter the digit: 1\n"
     ]
    },
    {
     "name": "stdout",
     "output_type": "stream",
     "text": [
      "invalid! enter a valid text\n"
     ]
    }
   ],
   "source": [
    "text=input('enter the digit:')\n",
    "if not text or text.isdigit():\n",
    "    print('invalid! enter a valid text')\n",
    "else:\n",
    "    words=text.split()\n",
    "    word_count={}\n",
    "    for word in words:\n",
    "        if word in word_count:\n",
    "            word_count[word]+=1\n",
    "        else:\n",
    "            word_count[word]=1\n",
    "    print('Number Of Words In The Text is:',word_count)"
   ]
  },
  {
   "cell_type": "code",
   "execution_count": 3,
   "id": "f617e46e-c2c9-47eb-acd2-8924541a1b3c",
   "metadata": {},
   "outputs": [
    {
     "name": "stdout",
     "output_type": "stream",
     "text": [
      "True\n",
      "False\n"
     ]
    }
   ],
   "source": [
    "def is_palindrome(text):\n",
    "    text = text.lower()  \n",
    "    cleaned = \"\"        \n",
    "    for ch in text:\n",
    "        if ch.isalnum():   \n",
    "            cleaned += ch\n",
    "    \n",
    "    return cleaned == cleaned[::-1]                    \n",
    "print(is_palindrome(\"Never odd or even\"))  \n",
    "print(is_palindrome(\"hello\"))                       \n"
   ]
  },
  {
   "cell_type": "code",
   "execution_count": null,
   "id": "8e53a895-cfcb-4adb-95e9-b07001285303",
   "metadata": {},
   "outputs": [],
   "source": []
  },
  {
   "cell_type": "code",
   "execution_count": null,
   "id": "78ba3d1c-07af-48cd-b06d-b00dcf2b62f5",
   "metadata": {},
   "outputs": [],
   "source": []
  }
 ],
 "metadata": {
  "kernelspec": {
   "display_name": "Python [conda env:base] *",
   "language": "python",
   "name": "conda-base-py"
  },
  "language_info": {
   "codemirror_mode": {
    "name": "ipython",
    "version": 3
   },
   "file_extension": ".py",
   "mimetype": "text/x-python",
   "name": "python",
   "nbconvert_exporter": "python",
   "pygments_lexer": "ipython3",
   "version": "3.13.5"
  }
 },
 "nbformat": 4,
 "nbformat_minor": 5
}
