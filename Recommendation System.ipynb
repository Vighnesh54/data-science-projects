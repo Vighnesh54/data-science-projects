{
 "cells": [
  {
   "cell_type": "code",
   "execution_count": 1,
   "id": "f5594bd6-578d-45c0-8c67-53b74d7d3a78",
   "metadata": {},
   "outputs": [],
   "source": [
    "import pandas as pd\n",
    "import matplotlib.pyplot as plt\n",
    "import numpy as np\n",
    "import seaborn as sns"
   ]
  },
  {
   "cell_type": "code",
   "execution_count": 2,
   "id": "e097c425-481b-458a-853a-9c3336909b80",
   "metadata": {},
   "outputs": [],
   "source": [
    "from sklearn.feature_extraction.text import TfidfVectorizer"
   ]
  },
  {
   "cell_type": "markdown",
   "id": "7d52dc61-9826-485e-a56d-eca11af85595",
   "metadata": {},
   "source": [
    "#### Data preprocessing"
   ]
  },
  {
   "cell_type": "code",
   "execution_count": 3,
   "id": "ad3da5cf-c35a-47f1-a477-66a0a4952c10",
   "metadata": {},
   "outputs": [
    {
     "data": {
      "text/html": [
       "<div>\n",
       "<style scoped>\n",
       "    .dataframe tbody tr th:only-of-type {\n",
       "        vertical-align: middle;\n",
       "    }\n",
       "\n",
       "    .dataframe tbody tr th {\n",
       "        vertical-align: top;\n",
       "    }\n",
       "\n",
       "    .dataframe thead th {\n",
       "        text-align: right;\n",
       "    }\n",
       "</style>\n",
       "<table border=\"1\" class=\"dataframe\">\n",
       "  <thead>\n",
       "    <tr style=\"text-align: right;\">\n",
       "      <th></th>\n",
       "      <th>anime_id</th>\n",
       "      <th>name</th>\n",
       "      <th>genre</th>\n",
       "      <th>type</th>\n",
       "      <th>episodes</th>\n",
       "      <th>rating</th>\n",
       "      <th>members</th>\n",
       "    </tr>\n",
       "  </thead>\n",
       "  <tbody>\n",
       "    <tr>\n",
       "      <th>0</th>\n",
       "      <td>32281</td>\n",
       "      <td>Kimi no Na wa.</td>\n",
       "      <td>Drama, Romance, School, Supernatural</td>\n",
       "      <td>Movie</td>\n",
       "      <td>1</td>\n",
       "      <td>9.37</td>\n",
       "      <td>200630</td>\n",
       "    </tr>\n",
       "    <tr>\n",
       "      <th>1</th>\n",
       "      <td>5114</td>\n",
       "      <td>Fullmetal Alchemist: Brotherhood</td>\n",
       "      <td>Action, Adventure, Drama, Fantasy, Magic, Mili...</td>\n",
       "      <td>TV</td>\n",
       "      <td>64</td>\n",
       "      <td>9.26</td>\n",
       "      <td>793665</td>\n",
       "    </tr>\n",
       "    <tr>\n",
       "      <th>2</th>\n",
       "      <td>28977</td>\n",
       "      <td>Gintama°</td>\n",
       "      <td>Action, Comedy, Historical, Parody, Samurai, S...</td>\n",
       "      <td>TV</td>\n",
       "      <td>51</td>\n",
       "      <td>9.25</td>\n",
       "      <td>114262</td>\n",
       "    </tr>\n",
       "    <tr>\n",
       "      <th>3</th>\n",
       "      <td>9253</td>\n",
       "      <td>Steins;Gate</td>\n",
       "      <td>Sci-Fi, Thriller</td>\n",
       "      <td>TV</td>\n",
       "      <td>24</td>\n",
       "      <td>9.17</td>\n",
       "      <td>673572</td>\n",
       "    </tr>\n",
       "    <tr>\n",
       "      <th>4</th>\n",
       "      <td>9969</td>\n",
       "      <td>Gintama&amp;#039;</td>\n",
       "      <td>Action, Comedy, Historical, Parody, Samurai, S...</td>\n",
       "      <td>TV</td>\n",
       "      <td>51</td>\n",
       "      <td>9.16</td>\n",
       "      <td>151266</td>\n",
       "    </tr>\n",
       "  </tbody>\n",
       "</table>\n",
       "</div>"
      ],
      "text/plain": [
       "   anime_id                              name  \\\n",
       "0     32281                    Kimi no Na wa.   \n",
       "1      5114  Fullmetal Alchemist: Brotherhood   \n",
       "2     28977                          Gintama°   \n",
       "3      9253                       Steins;Gate   \n",
       "4      9969                     Gintama&#039;   \n",
       "\n",
       "                                               genre   type episodes  rating  \\\n",
       "0               Drama, Romance, School, Supernatural  Movie        1    9.37   \n",
       "1  Action, Adventure, Drama, Fantasy, Magic, Mili...     TV       64    9.26   \n",
       "2  Action, Comedy, Historical, Parody, Samurai, S...     TV       51    9.25   \n",
       "3                                   Sci-Fi, Thriller     TV       24    9.17   \n",
       "4  Action, Comedy, Historical, Parody, Samurai, S...     TV       51    9.16   \n",
       "\n",
       "   members  \n",
       "0   200630  \n",
       "1   793665  \n",
       "2   114262  \n",
       "3   673572  \n",
       "4   151266  "
      ]
     },
     "execution_count": 3,
     "metadata": {},
     "output_type": "execute_result"
    }
   ],
   "source": [
    "df = pd.read_csv('anime.csv')\n",
    "df.head()"
   ]
  },
  {
   "cell_type": "code",
   "execution_count": 4,
   "id": "92f67b6f-892f-42e7-8dd9-9f01681c5d35",
   "metadata": {},
   "outputs": [],
   "source": [
    "df['genre'] = df['genre'].fillna(\"Unknown\")"
   ]
  },
  {
   "cell_type": "code",
   "execution_count": 5,
   "id": "edf3c48b-c944-4cd3-b204-00f47a846668",
   "metadata": {},
   "outputs": [],
   "source": [
    "df['type'] = df['type'].fillna('Unknown')"
   ]
  },
  {
   "cell_type": "code",
   "execution_count": 6,
   "id": "db7341f4-c19f-49a6-b495-c78cbbd12547",
   "metadata": {},
   "outputs": [],
   "source": [
    "df['rating'] = df['rating'].fillna(df['rating'].mean())"
   ]
  },
  {
   "cell_type": "code",
   "execution_count": 7,
   "id": "71c6931e-715b-4c52-92e2-54545d99b5c9",
   "metadata": {},
   "outputs": [],
   "source": [
    "df['episodes'] = pd.to_numeric(df['episodes'], errors='coerce')\n",
    "df['episodes'] = df['episodes'].fillna(0).astype(int)"
   ]
  },
  {
   "cell_type": "code",
   "execution_count": 8,
   "id": "1e9fdaff-8cda-410f-b197-d432520edf53",
   "metadata": {},
   "outputs": [],
   "source": [
    "df['name'] = df['name'].str.lower()\n",
    "df['genre'] = df['genre'].str.lower()\n",
    "df['type'] = df['type'].str.lower()"
   ]
  },
  {
   "cell_type": "code",
   "execution_count": 9,
   "id": "a796d56d-497a-440e-b61f-f407f64882f2",
   "metadata": {},
   "outputs": [],
   "source": [
    "tfidf =TfidfVectorizer(stop_words='english')"
   ]
  },
  {
   "cell_type": "code",
   "execution_count": 10,
   "id": "bd39fa1f-af0d-4284-8869-28ae29342e22",
   "metadata": {},
   "outputs": [],
   "source": [
    "Tfidf_matrix = tfidf.fit_transform(df['genre'])"
   ]
  },
  {
   "cell_type": "code",
   "execution_count": 11,
   "id": "e8eac310-a769-43a6-bb06-f9b6dcb20b86",
   "metadata": {},
   "outputs": [
    {
     "name": "stdout",
     "output_type": "stream",
     "text": [
      "TF-IDF matrix shape: (12294, 47)\n"
     ]
    }
   ],
   "source": [
    "print(\"TF-IDF matrix shape:\", Tfidf_matrix.shape)"
   ]
  },
  {
   "cell_type": "code",
   "execution_count": 12,
   "id": "45b92824-57a9-436d-9e62-3a9b726f5a6f",
   "metadata": {},
   "outputs": [
    {
     "name": "stdout",
     "output_type": "stream",
     "text": [
      "   anime_id                              name  \\\n",
      "0     32281                    kimi no na wa.   \n",
      "1      5114  fullmetal alchemist: brotherhood   \n",
      "2     28977                          gintama°   \n",
      "3      9253                       steins;gate   \n",
      "4      9969                     gintama&#039;   \n",
      "\n",
      "                                               genre   type  episodes  rating  \\\n",
      "0               drama, romance, school, supernatural  movie         1    9.37   \n",
      "1  action, adventure, drama, fantasy, magic, mili...     tv        64    9.26   \n",
      "2  action, comedy, historical, parody, samurai, s...     tv        51    9.25   \n",
      "3                                   sci-fi, thriller     tv        24    9.17   \n",
      "4  action, comedy, historical, parody, samurai, s...     tv        51    9.16   \n",
      "\n",
      "   members  \n",
      "0   200630  \n",
      "1   793665  \n",
      "2   114262  \n",
      "3   673572  \n",
      "4   151266  \n"
     ]
    }
   ],
   "source": [
    "final_df = df[['anime_id', 'name', 'genre', 'type', 'episodes', 'rating', 'members']]\n",
    "print(final_df.head())"
   ]
  },
  {
   "cell_type": "markdown",
   "id": "03a8d563-3a28-4c7c-b102-9f7b51b61c60",
   "metadata": {},
   "source": [
    "#### Feature extraction"
   ]
  },
  {
   "cell_type": "code",
   "execution_count": 13,
   "id": "2d85b23b-f598-4291-8475-9df3d63cdfe4",
   "metadata": {},
   "outputs": [],
   "source": [
    "from sklearn.feature_extraction.text import TfidfVectorizer"
   ]
  },
  {
   "cell_type": "code",
   "execution_count": 14,
   "id": "1fb1a941-e0d9-4cab-952c-f6cf05dcb8cf",
   "metadata": {},
   "outputs": [
    {
     "name": "stdout",
     "output_type": "stream",
     "text": [
      "TF-IDF shape: (12294, 47)\n"
     ]
    }
   ],
   "source": [
    "tfidf = TfidfVectorizer(stop_words=\"english\")\n",
    "tfidf_matrix = tfidf.fit_transform(df['genre'])\n",
    "print(\"TF-IDF shape:\", tfidf_matrix.shape)"
   ]
  },
  {
   "cell_type": "markdown",
   "id": "dc1da484-c56e-4976-9c47-d8d7b78175e6",
   "metadata": {},
   "source": [
    "This creates a sparse matrix where each genre word is a feature."
   ]
  },
  {
   "cell_type": "code",
   "execution_count": 16,
   "id": "8376e07a-0497-49de-b44e-6a428857d1e9",
   "metadata": {},
   "outputs": [],
   "source": [
    "from sklearn.preprocessing import MinMaxScaler"
   ]
  },
  {
   "cell_type": "code",
   "execution_count": 17,
   "id": "a75ca9f8-6661-4907-9cde-7fc8841e8ac6",
   "metadata": {},
   "outputs": [],
   "source": [
    "# Select numeric features\n",
    "numeric_features = df[['rating', 'episodes']].fillna(0)"
   ]
  },
  {
   "cell_type": "code",
   "execution_count": 18,
   "id": "3b7c8d65-7d33-4f6d-9830-76cc5f9ddbbf",
   "metadata": {},
   "outputs": [],
   "source": [
    "# Normalize values to [0,1]\n",
    "scaler = MinMaxScaler()\n",
    "numeric_scaled = scaler.fit_transform(numeric_features)"
   ]
  },
  {
   "cell_type": "code",
   "execution_count": 20,
   "id": "08502c55-afa9-4a1b-a4cc-e6a1378ba98b",
   "metadata": {},
   "outputs": [],
   "source": [
    "from scipy.sparse import hstack"
   ]
  },
  {
   "cell_type": "code",
   "execution_count": 21,
   "id": "062e1367-1b69-40e7-bf2c-bf603753cb8c",
   "metadata": {},
   "outputs": [
    {
     "name": "stdout",
     "output_type": "stream",
     "text": [
      "Final feature matrix shape: (12294, 49)\n"
     ]
    }
   ],
   "source": [
    "feature_matrix = hstack([tfidf_matrix, numeric_scaled])\n",
    "print(\"Final feature matrix shape:\", feature_matrix.shape)"
   ]
  },
  {
   "cell_type": "markdown",
   "id": "38bf62be-2894-4955-a2ef-b6c88425d3b3",
   "metadata": {},
   "source": [
    "We have one feature matrix that represents each anime with both genre info and numeric info (rating, episodes).\n",
    "This will be used in the next step for cosine similarity & recommendations."
   ]
  },
  {
   "cell_type": "markdown",
   "id": "dc6787d5-8411-47b8-b4e9-498d210879fa",
   "metadata": {},
   "source": [
    "#### Recommendation System"
   ]
  },
  {
   "cell_type": "code",
   "execution_count": 22,
   "id": "dc1ffe50-2afc-46b1-892c-d1a1c4664f13",
   "metadata": {},
   "outputs": [],
   "source": [
    "from sklearn.metrics.pairwise import cosine_similarity"
   ]
  },
  {
   "cell_type": "code",
   "execution_count": 23,
   "id": "76b17527-5410-412e-808d-eabda43d6bad",
   "metadata": {},
   "outputs": [],
   "source": [
    "cosine_sim = cosine_similarity(feature_matrix, feature_matrix)"
   ]
  },
  {
   "cell_type": "code",
   "execution_count": 24,
   "id": "50adfc78-8141-4365-ad17-15a47cd2ff6f",
   "metadata": {},
   "outputs": [],
   "source": [
    "indices = pd.Series(df.index,index=df['name']).drop_duplicates()"
   ]
  },
  {
   "cell_type": "code",
   "execution_count": 25,
   "id": "361383a6-fead-4d23-a99f-ab0e05c386f6",
   "metadata": {},
   "outputs": [],
   "source": [
    "def recommend_anime(title, num_recommendations=5, threshold=0.5):\n",
    "    if title not in indices:\n",
    "        return \"Anime not found in dataset!\"\n",
    "    \n",
    "    idx = indices[title]\n",
    "    \n",
    "    # Get similarity scores for the chosen anime\n",
    "    sim_scores = list(enumerate(cosine_sim[idx]))\n",
    "    \n",
    "    # Sort by similarity score (highest first)\n",
    "    sim_scores = sorted(sim_scores, key=lambda x: x[1], reverse=True)\n",
    "    \n",
    "    # Apply threshold (ignore low similarity)\n",
    "    sim_scores = [s for s in sim_scores if s[1] >= threshold]\n",
    "    \n",
    "    # Pick top N (excluding itself at index 0)\n",
    "    sim_scores = sim_scores[1:num_recommendations+1]\n",
    "    \n",
    "    anime_indices = [i[0] for i in sim_scores]\n",
    "    \n",
    "    return df[['name','genre','rating']].iloc[anime_indices]"
   ]
  },
  {
   "cell_type": "code",
   "execution_count": 27,
   "id": "4f38a6f8-0684-4200-bd94-0ebd8f9dc7a8",
   "metadata": {},
   "outputs": [
    {
     "name": "stdout",
     "output_type": "stream",
     "text": [
      "                                       name  \\\n",
      "5805            wind: a breath of heart ova   \n",
      "6394           wind: a breath of heart (tv)   \n",
      "1111  aura: maryuuin kouga saigo no tatakai   \n",
      "878           shakugan no shana ii (second)   \n",
      "1201         angel beats!: another epilogue   \n",
      "\n",
      "                                                  genre  rating  \n",
      "5805               drama, romance, school, supernatural    6.35  \n",
      "6394               drama, romance, school, supernatural    6.14  \n",
      "1111       comedy, drama, romance, school, supernatural    7.67  \n",
      "878   action, drama, fantasy, romance, school, super...    7.79  \n",
      "1201                        drama, school, supernatural    7.63  \n"
     ]
    }
   ],
   "source": [
    "print(recommend_anime(\"kimi no na wa.\", num_recommendations=5, threshold=0.4))"
   ]
  },
  {
   "cell_type": "markdown",
   "id": "090b59d3-8dde-4aab-8929-383245420a20",
   "metadata": {},
   "source": [
    "#### Evaluation"
   ]
  },
  {
   "cell_type": "code",
   "execution_count": 28,
   "id": "a4c58bd0-ebfe-49c9-854d-5f22e254e5d3",
   "metadata": {},
   "outputs": [],
   "source": [
    "from sklearn.model_selection import train_test_split"
   ]
  },
  {
   "cell_type": "code",
   "execution_count": 29,
   "id": "b4bb7ae1-e168-4420-92fe-94a76fecbe3b",
   "metadata": {},
   "outputs": [],
   "source": [
    "train_df, test_df = train_test_split(df, test_size=0.2, random_state=42)"
   ]
  },
  {
   "cell_type": "markdown",
   "id": "4f275df3-44d8-4a5b-a1ef-ca36b49cd9d0",
   "metadata": {},
   "source": [
    "For evaluation, we need to decide when a recommendation is “relevant.”\n",
    "Common approach in content-based recommenders:\n",
    "\n",
    "An anime is relevant if it belongs to the same genre or has a similar rating range as the target anime.\n",
    "\n",
    "Otherwise, it’s “not relevant.”"
   ]
  },
  {
   "cell_type": "markdown",
   "id": "8f136d07-7ff8-463c-8c7b-4eaf302377ba",
   "metadata": {},
   "source": [
    "###### Metrics\n",
    "We use Precision, Recall, F1-score.\n",
    "\n",
    "Precision = Relevant recommended anime / Total recommended anime\n",
    "→ How many of the recommended were actually relevant.\n",
    "\n",
    "Recall = Relevant recommended anime / Total relevant anime in dataset\n",
    "→ How many of the possible relevant anime we managed to recommend.\n",
    "\n",
    "F1-score = Harmonic mean of precision & recall.\n",
    "→ Balances both."
   ]
  },
  {
   "cell_type": "code",
   "execution_count": 30,
   "id": "f7420177-85ef-4dad-8dee-0b18b1643554",
   "metadata": {},
   "outputs": [],
   "source": [
    "from sklearn.metrics import precision_score, recall_score, f1_score"
   ]
  },
  {
   "cell_type": "code",
   "execution_count": 31,
   "id": "721d1778-7bc7-4d46-adb6-7a16db06f7d0",
   "metadata": {},
   "outputs": [
    {
     "name": "stdout",
     "output_type": "stream",
     "text": [
      "Precision: 1.0\n",
      "Recall: 1.0\n",
      "F1-score: 1.0\n"
     ]
    }
   ],
   "source": [
    "def evaluate_recommender(test_df, num_recommendations=5, threshold=0.4):\n",
    "    y_true = []\n",
    "    y_pred = []\n",
    "\n",
    "    for title in test_df['name'][:50]:  # limit to 50 for speed\n",
    "        try:\n",
    "            recs = recommend_anime(title, num_recommendations, threshold)\n",
    "            target_genre = df[df['name'] == title]['genre'].values[0]\n",
    "\n",
    "            # mark recommendations as relevant if genres overlap\n",
    "            for rec in recs['name']:\n",
    "                rec_genre = df[df['name'] == rec]['genre'].values[0]\n",
    "                relevant = any(g in rec_genre for g in target_genre.split(\", \"))\n",
    "                y_true.append(1 if relevant else 0)\n",
    "                y_pred.append(1)  # system always \"recommends\"\n",
    "        except:\n",
    "            continue\n",
    "\n",
    "    precision = precision_score(y_true, y_pred)\n",
    "    recall = recall_score(y_true, y_pred)\n",
    "    f1 = f1_score(y_true, y_pred)\n",
    "    return precision, recall, f1\n",
    "\n",
    "precision, recall, f1 = evaluate_recommender(test_df)\n",
    "print(\"Precision:\", precision)\n",
    "print(\"Recall:\", recall)\n",
    "print(\"F1-score:\", f1)"
   ]
  },
  {
   "cell_type": "markdown",
   "id": "e780ee0b-d497-448a-af0a-4ffafda4fa7c",
   "metadata": {},
   "source": [
    "###### Analysis\n",
    "\n",
    "If precision is high but recall is low → recommender is too strict (few but accurate results).\n",
    "\n",
    "If recall is high but precision is low → recommender is too broad (many results, not always relevant).\n",
    "\n",
    "F1 helps balance both."
   ]
  },
  {
   "cell_type": "markdown",
   "id": "58eaae91-c7ea-496a-bb29-e4d4693145ee",
   "metadata": {},
   "source": [
    "#### 1. Can you explain the difference between user-based and item-based collaborative filtering?"
   ]
  },
  {
   "cell_type": "markdown",
   "id": "5967c36f-9f75-4eab-9fc2-134edb60a6bb",
   "metadata": {},
   "source": [
    "##### 🔹 User-Based Collaborative Filtering (UBCF)\n",
    "Idea: Find users who are similar to the target user, and recommend items that those similar users liked.\n",
    "\n",
    "How:\n",
    "\n",
    "1.Compare users based on their item ratings/history.\n",
    "\n",
    "2.Identify “neighbors” (users with similar tastes).\n",
    "\n",
    "3.Recommend items liked by these neighbors but not yet consumed by the target user.\n",
    "\n",
    "Example:\n",
    "If User A and User B both liked Naruto and Bleach, and User B also liked One Piece, then recommend One Piece to User A.\n",
    "\n",
    "Pros: Personalizes strongly for each user.\n",
    "\n",
    "Cons:\n",
    "\n",
    "Struggles when user base is large (scalability).\n",
    "\n",
    "Suffers from the cold-start problem for new users (no history yet)."
   ]
  },
  {
   "cell_type": "markdown",
   "id": "6246b8f5-82c6-4c24-91d5-89a876ef74f2",
   "metadata": {},
   "source": [
    "##### 🔹 Item-Based Collaborative Filtering (IBCF)\n",
    "Idea: Find items that are similar to the item the user has already liked, and recommend them.\n",
    "\n",
    "How:\n",
    "\n",
    "1.Compare items based on ratings from users.\n",
    "\n",
    "2.Build an item–item similarity matrix.\n",
    "\n",
    "3.Recommend items most similar to what the user has liked/rated highly.\n",
    "\n",
    "Example:\n",
    "If many users who liked Attack on Titan also liked Tokyo Ghoul, then Tokyo Ghoul will be recommended to anyone who liked Attack on Titan.\n",
    "\n",
    "Pros:\n",
    "\n",
    "More stable, since item similarities don’t change as often as user preferences.\n",
    "\n",
    "Works better with large datasets.\n",
    "\n",
    "Cons:\n",
    "\n",
    "Still suffers from the item cold-start problem (new item with no ratings can’t be recommended)."
   ]
  },
  {
   "cell_type": "markdown",
   "id": "9198e04e-9146-4b1d-9cf9-d8df7301eb59",
   "metadata": {},
   "source": [
    "##### 🔹 Key Difference\n",
    "\n",
    "User-based CF focuses on user similarity (find like-minded users).\n",
    "\n",
    "Item-based CF focuses on item similarity (find similar items)."
   ]
  },
  {
   "cell_type": "markdown",
   "id": "7210c8c9-412e-4740-a905-67dfc71f83f1",
   "metadata": {},
   "source": [
    "#### 2. What is collaborative filtering, and how does it work?"
   ]
  },
  {
   "cell_type": "markdown",
   "id": "a071e33c-c231-48b1-8f2d-2d1201385228",
   "metadata": {},
   "source": [
    "###### 🔹 What is Collaborative Filtering?\n",
    "\n",
    "Collaborative Filtering (CF) is a recommendation technique that makes predictions about a user’s interests by collecting preferences (ratings, likes, interactions) from many users.\n",
    "\n",
    "The basic assumption is:\n",
    "👉 “If two users liked similar items in the past, they will probably like similar items in the future.”\n",
    "\n",
    "It doesn’t need detailed information about the items (like genre, description, etc.) — it relies only on user–item interaction data.\n",
    "\n",
    "\n",
    "###### 🔹 How Collaborative Filtering Works\n",
    "\n",
    "There are two main approaches:\n",
    "\n",
    "1. User-Based Collaborative Filtering\n",
    "\n",
    "Step 1: Find users who are similar to the target user (neighbors).\n",
    "\n",
    "Step 2: Recommend items that those similar users liked but the target user hasn’t consumed yet.\n",
    "\n",
    "Example: If you and I have both rated many of the same anime highly, and you liked Steins;Gate, the system will recommend Steins;Gate to me."
   ]
  },
  {
   "cell_type": "markdown",
   "id": "57574a17-9dcf-403f-bf76-acdaa92285d8",
   "metadata": {},
   "source": [
    "2. Item-Based Collaborative Filtering\n",
    "\n",
    "Step 1: Find items that are similar to each other (based on ratings from users).\n",
    "\n",
    "Step 2: Recommend items similar to those the user already liked.\n",
    "\n",
    "Example: If many people who liked Naruto also liked Bleach, then Bleach will be recommended to someone who liked Naruto."
   ]
  },
  {
   "cell_type": "code",
   "execution_count": null,
   "id": "197a501c-b3ba-49d8-9fdd-1e44e8565905",
   "metadata": {},
   "outputs": [],
   "source": [
    "###### 🔹 Strengths\n",
    "\n",
    "Very effective when there is a lot of user–item interaction data.\n",
    "\n",
    "Learns directly from user behavior (no need for manual tagging of items).\n",
    "\n",
    "###### 🔹 Limitations\n",
    "\n",
    "Cold Start Problem: Can’t recommend well for new users (no history) or new items (no ratings).\n",
    "\n",
    "Data Sparsity: If most users rate only a few items, it’s hard to find meaningful overlaps.\n",
    "\n",
    "Scalability: With millions of users/items, computing similarities can be expensive."
   ]
  }
 ],
 "metadata": {
  "kernelspec": {
   "display_name": "Python [conda env:base] *",
   "language": "python",
   "name": "conda-base-py"
  },
  "language_info": {
   "codemirror_mode": {
    "name": "ipython",
    "version": 3
   },
   "file_extension": ".py",
   "mimetype": "text/x-python",
   "name": "python",
   "nbconvert_exporter": "python",
   "pygments_lexer": "ipython3",
   "version": "3.13.5"
  }
 },
 "nbformat": 4,
 "nbformat_minor": 5
}
