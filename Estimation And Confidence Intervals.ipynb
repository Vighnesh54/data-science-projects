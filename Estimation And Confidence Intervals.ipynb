{
 "cells": [
  {
   "cell_type": "code",
   "execution_count": 1,
   "id": "5e49addc-2da7-4707-aa5c-e82c3c2316dd",
   "metadata": {},
   "outputs": [],
   "source": [
    "import numpy as np\n",
    "from scipy import stats"
   ]
  },
  {
   "cell_type": "code",
   "execution_count": 2,
   "id": "e27ef297-7929-475d-bc59-c2f7b75620eb",
   "metadata": {},
   "outputs": [],
   "source": [
    "data = np.array([1.13, 1.55, 1.43, 0.92, 1.25, 1.36, 1.32, 0.85, 1.07, 1.48, 1.20, 1.33, 1.18, 1.22, 1.29])"
   ]
  },
  {
   "cell_type": "code",
   "execution_count": 9,
   "id": "511c9c7c-fd11-4abb-9ce4-363c33064dca",
   "metadata": {},
   "outputs": [],
   "source": [
    "sample_mean = np.mean(data)\n",
    "sample_std = np.std(data, ddof=1)\n",
    "degrees_of_freedom = n - 1"
   ]
  },
  {
   "cell_type": "code",
   "execution_count": 4,
   "id": "dd3791bd-6825-4658-b9d0-0b39cfbe7545",
   "metadata": {},
   "outputs": [],
   "source": [
    "t_critical = stats.t.ppf(1 - alpha / 2, degrees_of_freedom)"
   ]
  },
  {
   "cell_type": "code",
   "execution_count": 5,
   "id": "e547b54e-476d-43f5-8460-6ff44400ed06",
   "metadata": {},
   "outputs": [],
   "source": [
    "margin_of_error_t = t_critical * (sample_std / np.sqrt(n))\n",
    "confidence_interval_t = (sample_mean - margin_of_error_t, sample_mean + margin_of_error_t)\n"
   ]
  },
  {
   "cell_type": "code",
   "execution_count": 10,
   "id": "fe9f8ca3-fdff-4e2a-9b7d-632575315ac3",
   "metadata": {},
   "outputs": [
    {
     "name": "stdout",
     "output_type": "stream",
     "text": [
      "Sample Mean: 1.2387\n",
      "Sample Standard Deviation: 0.1932\n",
      "Critical t-value: 2.9768\n",
      "99% Confidence Interval: (1.0902, 1.3871)\n"
     ]
    }
   ],
   "source": [
    "print(f\"Sample Mean: {sample_mean:.4f}\")\n",
    "print(f\"Sample Standard Deviation: {sample_std:.4f}\")\n",
    "print(f\"Critical t-value: {t_critical:.4f}\")\n",
    "print(f\"99% Confidence Interval: ({confidence_interval_t[0]:.4f}, {confidence_interval_t[1]:.4f})\")"
   ]
  },
  {
   "cell_type": "markdown",
   "id": "ca7ef4d8-f0e1-4d97-83df-2e76e96bb819",
   "metadata": {},
   "source": [
    "#### b. Build 99% Confidence Interval Using Known Population Standard Deviation\n",
    "If it were known that the population standard deviation is 0.2 million characters, \n",
    "construct a 99% confidence interval for the mean number of characters printed before failure.\n"
   ]
  },
  {
   "cell_type": "code",
   "execution_count": 11,
   "id": "24bf479f-445d-4220-94e5-e30650267ef7",
   "metadata": {},
   "outputs": [],
   "source": [
    "population_std = 0.2"
   ]
  },
  {
   "cell_type": "code",
   "execution_count": 12,
   "id": "cf4452c8-92c5-4f5b-97ae-551b6834df41",
   "metadata": {},
   "outputs": [],
   "source": [
    "z_critical = stats.norm.ppf(1 - alpha / 2)"
   ]
  },
  {
   "cell_type": "code",
   "execution_count": 13,
   "id": "41e2a09e-02d7-4b2c-9f9a-879bd84e1bfd",
   "metadata": {},
   "outputs": [],
   "source": [
    "margin_of_error_z = z_critical * (population_std / np.sqrt(n))\n",
    "confidence_interval_z = (sample_mean - margin_of_error_z, sample_mean + margin_of_error_z)\n"
   ]
  },
  {
   "cell_type": "code",
   "execution_count": 14,
   "id": "1cfadfbf-68a4-45b1-adc5-e6d633c245f4",
   "metadata": {},
   "outputs": [
    {
     "name": "stdout",
     "output_type": "stream",
     "text": [
      "Sample Mean: 1.2387\n",
      "Known Population Standard Deviation: 0.2\n",
      "Critical Z-value: 2.5758\n",
      "99% Confidence Interval: (1.1057, 1.3717)\n"
     ]
    }
   ],
   "source": [
    "print(f\"Sample Mean: {sample_mean:.4f}\")\n",
    "print(f\"Known Population Standard Deviation: {population_std}\")\n",
    "print(f\"Critical Z-value: {z_critical:.4f}\")\n",
    "print(f\"99% Confidence Interval: ({confidence_interval_z[0]:.4f}, {confidence_interval_z[1]:.4f})\")"
   ]
  },
  {
   "cell_type": "code",
   "execution_count": null,
   "id": "e3d16d8c-d29d-426a-ae54-eb0e10519c18",
   "metadata": {},
   "outputs": [],
   "source": []
  }
 ],
 "metadata": {
  "kernelspec": {
   "display_name": "Python [conda env:base] *",
   "language": "python",
   "name": "conda-base-py"
  },
  "language_info": {
   "codemirror_mode": {
    "name": "ipython",
    "version": 3
   },
   "file_extension": ".py",
   "mimetype": "text/x-python",
   "name": "python",
   "nbconvert_exporter": "python",
   "pygments_lexer": "ipython3",
   "version": "3.13.5"
  }
 },
 "nbformat": 4,
 "nbformat_minor": 5
}
