{
 "cells": [
  {
   "cell_type": "markdown",
   "id": "ba255910-0b04-4567-8fda-b1d47390d7e4",
   "metadata": {},
   "source": [
    "#### CHI-SQUARE TEST"
   ]
  },
  {
   "cell_type": "code",
   "execution_count": 1,
   "id": "5c1a8d9e-c46a-4e3a-b43d-ea56f16547f4",
   "metadata": {},
   "outputs": [],
   "source": [
    "import numpy as np\n",
    "from scipy.stats import chi2"
   ]
  },
  {
   "cell_type": "code",
   "execution_count": 2,
   "id": "fbc9a59f-2335-434f-802e-88e42e2b94f8",
   "metadata": {},
   "outputs": [],
   "source": [
    "observed = np.array([\n",
    "    [50,70],\n",
    "    [80,100],\n",
    "    [60,90],\n",
    "    [30,50],\n",
    "    [20,50]])"
   ]
  },
  {
   "cell_type": "code",
   "execution_count": 4,
   "id": "7f508ba6-18f7-47b8-9e7e-9459014f6574",
   "metadata": {},
   "outputs": [
    {
     "name": "stdout",
     "output_type": "stream",
     "text": [
      "H0:There is significant association between device type and customer satisfaction\n",
      "H1:There is no significant association between device type and customer satisfaction\n"
     ]
    }
   ],
   "source": [
    "# State Hypothesis\n",
    "print('H0:There is significant association between device type and customer satisfaction')\n",
    "print('H1:There is no significant association between device type and customer satisfaction')"
   ]
  },
  {
   "cell_type": "code",
   "execution_count": 5,
   "id": "49ca8758-49e2-46a9-80b8-8a6a7eb8a202",
   "metadata": {},
   "outputs": [],
   "source": [
    "# Compute Expected Frequencies\n",
    "row_totals = observed.sum(axis = 1)\n",
    "col_totals = observed.sum(axis = 0)\n",
    "grand_totals = observed.sum()"
   ]
  },
  {
   "cell_type": "code",
   "execution_count": 6,
   "id": "6ed79c04-3118-4c88-9c4b-69a2e89130a4",
   "metadata": {},
   "outputs": [],
   "source": [
    "expected = np.outer(row_totals,col_totals)/grand_totals"
   ]
  },
  {
   "cell_type": "code",
   "execution_count": 7,
   "id": "84a3b7e5-667d-44bf-b730-f87e5665c6b0",
   "metadata": {},
   "outputs": [
    {
     "name": "stdout",
     "output_type": "stream",
     "text": [
      "Expected Frequency:\n",
      " [[ 48.  72.]\n",
      " [ 72. 108.]\n",
      " [ 60.  90.]\n",
      " [ 32.  48.]\n",
      " [ 28.  42.]] \n",
      "\n"
     ]
    }
   ],
   "source": [
    "print('Expected Frequency:\\n',expected,'\\n')"
   ]
  },
  {
   "cell_type": "code",
   "execution_count": 8,
   "id": "409405b9-8e59-4ae6-bf96-35f9d4e4371c",
   "metadata": {},
   "outputs": [
    {
     "name": "stdout",
     "output_type": "stream",
     "text": [
      "Chi-Square Statistic: 5.638\n"
     ]
    }
   ],
   "source": [
    "#Compute Chi-Square Statistic\n",
    "chi_square_stat = ((observed - expected) ** 2 / expected).sum()\n",
    "print(f\"Chi-Square Statistic: {chi_square_stat:.3f}\")\n"
   ]
  },
  {
   "cell_type": "code",
   "execution_count": 9,
   "id": "8013383c-dcca-4e3b-b90a-96a439b44edb",
   "metadata": {},
   "outputs": [
    {
     "name": "stdout",
     "output_type": "stream",
     "text": [
      "Degrees of Freedom: 4\n",
      "Critical Value (α=0.05): 9.488\n",
      "\n"
     ]
    }
   ],
   "source": [
    "# Determine Critical Value\n",
    "alpha = 0.05\n",
    "df = (observed.shape[0] - 1) * (observed.shape[1] - 1)\n",
    "critical_value = chi2.ppf(1 - alpha, df)\n",
    "\n",
    "print(f\"Degrees of Freedom: {df}\")\n",
    "print(f\"Critical Value (α=0.05): {critical_value:.3f}\\n\")"
   ]
  },
  {
   "cell_type": "code",
   "execution_count": 10,
   "id": "acb79b09-5e10-4fbe-89f3-38a992f0211c",
   "metadata": {},
   "outputs": [
    {
     "name": "stdout",
     "output_type": "stream",
     "text": [
      "Result: Fail to reject the null hypothesis (H0).\n",
      "Conclusion: There is NO significant association between device type and satisfaction level.\n"
     ]
    }
   ],
   "source": [
    "#Decision\n",
    "if chi_square_stat > critical_value:\n",
    "    print(\"Result: Reject the null hypothesis (H0).\")\n",
    "    print(\"Conclusion: There IS a significant association between device type and satisfaction level.\")\n",
    "else:\n",
    "    print(\"Result: Fail to reject the null hypothesis (H0).\")\n",
    "    print(\"Conclusion: There is NO significant association between device type and satisfaction level.\")\n"
   ]
  },
  {
   "cell_type": "code",
   "execution_count": null,
   "id": "4a922db8-4b8b-4d5b-9ea9-30403a1ded28",
   "metadata": {},
   "outputs": [],
   "source": []
  },
  {
   "cell_type": "markdown",
   "id": "78bbb068-25c7-417a-bbc7-e50b52ab3a15",
   "metadata": {},
   "source": [
    "#### HYPOTHESIS TESTING"
   ]
  },
  {
   "cell_type": "code",
   "execution_count": 11,
   "id": "a7b1f715-a26c-483d-995d-b5b4ae61c13a",
   "metadata": {},
   "outputs": [],
   "source": [
    "from scipy.stats import norm\n",
    "import math\n",
    "\n",
    "# Given data\n",
    "sm= 3050      \n",
    "mu = 1000 + 5*600 \n",
    "sd = 5 * 25   \n",
    "n = 25          \n",
    "alpha = 0.05 "
   ]
  },
  {
   "cell_type": "code",
   "execution_count": 20,
   "id": "efdffd6d-c596-4556-b3f8-a98a8d45eb90",
   "metadata": {},
   "outputs": [],
   "source": [
    "#Test Statistic\n",
    "t = (sm - mu)/(math.sqrt(n))"
   ]
  },
  {
   "cell_type": "code",
   "execution_count": 21,
   "id": "be58f118-00c1-48d4-9116-634440c1ceb0",
   "metadata": {},
   "outputs": [],
   "source": [
    "#Critical Value\n",
    "critical_value = norm.ppf(1-alpha)"
   ]
  },
  {
   "cell_type": "code",
   "execution_count": 22,
   "id": "8b6cdd04-29df-4d3a-897c-63cbf2972e2c",
   "metadata": {},
   "outputs": [
    {
     "name": "stdout",
     "output_type": "stream",
     "text": [
      "Sample Mean (x̄): 3050\n",
      "Theoretical Mean (μ): 4000\n",
      "Standard Deviation (σ): 125\n",
      "Sample Size (n): 25\n",
      "Test Statistic (t): -190.000\n",
      "Critical Value (Zα): 1.645\n"
     ]
    }
   ],
   "source": [
    "print(f\"Sample Mean (x̄): {sm}\")\n",
    "print(f\"Theoretical Mean (μ): {mu}\")\n",
    "print(f\"Standard Deviation (σ): {sd}\")\n",
    "print(f\"Sample Size (n): {n}\")\n",
    "print(f\"Test Statistic (t): {t:.3f}\")\n",
    "print(f\"Critical Value (Zα): {critical_value:.3f}\")"
   ]
  },
  {
   "cell_type": "code",
   "execution_count": 23,
   "id": "8f1e0e80-3372-445f-bd78-675f5d681a1e",
   "metadata": {},
   "outputs": [
    {
     "name": "stdout",
     "output_type": "stream",
     "text": [
      "\n",
      "Fail to Reject H₀ → No evidence that weekly costs are higher than the model suggests.\n"
     ]
    }
   ],
   "source": [
    "if t > critical_value:\n",
    "    print(\"\\nReject H₀ → Weekly costs are significantly higher than the model suggests.\")\n",
    "else:\n",
    "    print(\"\\nFail to Reject H₀ → No evidence that weekly costs are higher than the model suggests.\")"
   ]
  },
  {
   "cell_type": "code",
   "execution_count": null,
   "id": "f0630251-4bdb-4438-8be1-66c69dfc9bb5",
   "metadata": {},
   "outputs": [],
   "source": []
  }
 ],
 "metadata": {
  "kernelspec": {
   "display_name": "Python [conda env:base] *",
   "language": "python",
   "name": "conda-base-py"
  },
  "language_info": {
   "codemirror_mode": {
    "name": "ipython",
    "version": 3
   },
   "file_extension": ".py",
   "mimetype": "text/x-python",
   "name": "python",
   "nbconvert_exporter": "python",
   "pygments_lexer": "ipython3",
   "version": "3.13.5"
  }
 },
 "nbformat": 4,
 "nbformat_minor": 5
}
